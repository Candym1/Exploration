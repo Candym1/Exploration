{
 "cells": [
  {
   "cell_type": "markdown",
   "id": "58117601",
   "metadata": {},
   "source": [
    "# [G-6] 모든 장르 간 편향성 측정해 보기"
   ]
  },
  {
   "cell_type": "code",
   "execution_count": 70,
   "id": "7f80d666",
   "metadata": {},
   "outputs": [],
   "source": [
    "from gensim.models import Word2Vec\n",
    "from konlpy.tag import Okt\n",
    "from sklearn.feature_extraction.text import TfidfVectorizer\n",
    "import seaborn as sns\n",
    "import matplotlib.pyplot as plt\n",
    "\n",
    "import numpy as np\n",
    "from numpy import dot\n",
    "from numpy.linalg import norm\n",
    "\n",
    "import os"
   ]
  },
  {
   "cell_type": "markdown",
   "id": "4eaf177a",
   "metadata": {},
   "source": [
    "## STEP 1. 형태소 분석기를 이용하여 품사가 명사인 경우 해당 단어를 추출하기"
   ]
  },
  {
   "cell_type": "markdown",
   "id": "e2585274",
   "metadata": {},
   "source": [
    "### data 가져오기"
   ]
  },
  {
   "cell_type": "code",
   "execution_count": 16,
   "id": "8f721683",
   "metadata": {},
   "outputs": [
    {
     "name": "stdout",
     "output_type": "stream",
     "text": [
      "사운드 엔지니어 상우(유지태 분)는 치매에 걸린 할머니(백성희 분)와\n",
      " 젊은 시절 상처한 한 아버지(박인환 분), 고모(신신애 분)와 함께 살고 있다.\n",
      " 어느 겨울 그는 지방 방송국 라디오 PD 은수(이영애 분)를 만난다.\n",
      " 자연의 소리를 채집해 틀어주는 라디오 프로그램을 준비하는 은수는 상우와 녹음 여행을 떠난다.\n",
      " 자연스레 가까워지는 두 사람은 어느 날, 은수의 아파트에서 밤을 보낸다.\n",
      " 너무 쉽게 사랑에 빠진 두 사람... 상우는 주체할 수 없을 정도로 그녀에게 빨려든다.\n",
      " 그러나 겨울에 만난 두 사람의 관계는 봄을 지나 여름을 맞이하면서 삐걱거린다.\n",
      " 이혼 경험이 있는 은수는 상우에게 결혼할 생각이 없다며 부담스러운 표정을 내비친다.\n",
      " \"어떻게 사랑이 변하니?...\"라고 묻는 상우에게 은수는 그저 \"헤어져\" 라고 단호하게 말한다.\n",
      " 영원히 변할 것 같지 않던 사랑이 변하고, 그 사실을 받아들이지 못하는 상우는 어찌 할 바를 모른다.\n",
      " 은수를 잊지 못하는 상우는 미련과 집착의 감정을 이기지 못하고 서울과 강릉을 오간다.\n",
      "유사 이래 연령, 성별, 빈부의 차이와 정치적인 입장을 불문하고 일거에 국민을 통합해 온 '애국심'이라는 성역에 일침을 가하는 다큐멘터리. 재작년 전국 민족민주 유가족협의회의 장기농성을 다룬 인상적인 다큐멘터리 <민들레>를 만들었던 독립영화집단 '빨간 눈사람'이 우리 사회 구석구석을 발빠르게 돌아다니며 애국심과 민족주의가 강요되는 현장을 발굴하여 카메라에 담았다. 박홍 서강대 명예총장, 이도형 '한국논단' 발행인, 축구해설자 신문선, 홍세화, 박노해 등 사회 각계의 '스타'들이 등장해 저마다의 확고한 신념을 성토한다. 감독 이경순과 최하동하는 이 작품을 위해 3년간 백여 명을 인터뷰했다고 한다. 2001 올해의 독립영화상 수상.\n",
      " 민족과 국가란 공동체에서 부단히 권력과 부를 얻는 자, 나아가 민족과 국가란 공동체에서 얻은 신분과 부귀를 영원히 그의 자손에게 대물림하려는 자, 그래서 민족과 국가란 공동체를 부단히 유지해야만 하는 자, 따라서 민족과 국가란 공동체의 당위성과 개인의 가치를 초월하는 그 존엄성을 끝도 없이 창조하고 되뇌어야 하는 자, 종국에는 민족과 국가란 공동체에 속해 있다고 태내에서부터 세뇌된 모든 이들의 삶과 행동에서 영원히 자기복제되는 순환의 고리, 영생하는 애국의 원동력은 그 순환의 골에서 온다.\n",
      "엽기적인 살인사건이 발생한 장소를 관광하는 투어팀. 그 팀에서 관광객들은 살인사건과 관련하여 히스테리컬한 반응을 보이는데 과연 이들의 정체는? (Tourists see whrer a murder take place. They respond hysterically to the murder…what are they?)\n",
      " 제46회 발라돌리드 국제영화제 (2001, 스페인)\n",
      "착하지만 엉뚱한 태희(배두나 분), 예쁜 깍쟁이 혜주(이요원 분), 그림을 잘 그리는 지영(옥지영 분), 명랑한 쌍둥이 비류(이은실 분)와 온조(이은주 분)는 단짝친구들. 늘 함께였던 그들이지만 스무 살이 되면서 길이 달라진다. 증권회사에 입사한 혜주는 성공한 커리어우먼의 야심을 키우고 미술에 재능이 있는 지영은 유학을 꿈꾼다. 한편 태희는 봉사활동에서 알게 된 뇌성마비 시인을 좋아하는데...\n",
      "  어느 날 지영이 길 잃은 새끼 고양이 티티를 만남면서 스무 살 그녀들의 삶에 고양이 한 마리가 끼어들게 된다. 혼자 있길 좋아하고, 쉽게 마음을 열지 않는 신비로운 동물 고양이. 고양이를 닮은 스무 살 그녀들. 고양이 티티와 함께 한 시간동안 삶은 예상못한 방향으로 흘러가지만 마침내 그녀들만의 해결책을 찾게 되는데... 사랑스런 몽상가 태희, 아름다운 야심가 혜주, 신비로운 아웃사이더 지영. 마지막으로 고양이를 부탁받은 사람은 누구일까?\n",
      "인도 등 아시아 식민지에 처음 발을 디딘 뒤 여행하고 “경영”한 이들은 과연 누구였을까? 과거의 이미지들은, 이민과 인종 문제, ‘오리엔탈리즘’이 격렬히 충돌하고 있는 현재와 강력하게 공명한다.\n",
      " [제19회 인디다큐페스티발]\n",
      "홀로 살아가는 미국 할머니와 한국 할머니의 이야기. 공원에서 가끔 마주치게 되는 그들은 비록 언어 소통의 어려움을 겪지만 시간이 흘러감에 따라 서로 가까워져 그들의 외로움과 우정을 공유하게 된다. 겨울이 지나고 봄이 왔을 때 길가의 민들레 홀씨는 삶의 이치를 말해주듯 한 할머니의 주위를 맴돈다. (Two elderly widows, an American and a Korean, frequent the same park in Philadelphia and attempt a friendship, though the Korean widow speaks no English. Driven by loneliness and a spark of hope, they persevere within the limits of body language, and the outcome poses a question of life as fundamental as a flower.)\n"
     ]
    }
   ],
   "source": [
    "with open(os.getenv('HOME')+'/aiffel/weat/synopsis.txt', 'r') as file:\n",
    "    for i in range(20):\n",
    "        print(file.readline(), end='')"
   ]
  },
  {
   "cell_type": "markdown",
   "id": "bdf7dda3",
   "metadata": {},
   "source": [
    "### 형태소 분석기로 단어 추출(명사)"
   ]
  },
  {
   "cell_type": "code",
   "execution_count": 20,
   "id": "222295e9",
   "metadata": {},
   "outputs": [],
   "source": [
    "okt = Okt()\n",
    "tokenized = []\n",
    "with open(os.getenv('HOME')+'/aiffel/weat/synopsis.txt', 'r') as file:\n",
    "    while True:\n",
    "        line = file.readline()\n",
    "        if not line: break # 추출을 다 끝내고 남은 line이 없다면 while문 탈출\n",
    "        words = okt.pos(line, stem=True, norm=True)\n",
    "        res = []\n",
    "        for w in words:\n",
    "            if w[1] in [\"Noun\"]: # Noun = 명사 / tokenized 된 단어가 명사라면\n",
    "                res.append(w[0])    # res list 에 명사단어만 저장\n",
    "        tokenized.append(res) # 저장된 res list (명사) 를 tokenized list로 다시 저장"
   ]
  },
  {
   "cell_type": "code",
   "execution_count": 21,
   "id": "6019e0df",
   "metadata": {},
   "outputs": [
    {
     "name": "stdout",
     "output_type": "stream",
     "text": [
      "71156\n"
     ]
    }
   ],
   "source": [
    "print(len(tokenized))"
   ]
  },
  {
   "cell_type": "markdown",
   "id": "8599521e",
   "metadata": {},
   "source": [
    "## STEP 2. 추출된 결과로 embedding model 만들기"
   ]
  },
  {
   "cell_type": "code",
   "execution_count": 25,
   "id": "0d242d86",
   "metadata": {},
   "outputs": [],
   "source": [
    "model = Word2Vec(tokenized, vector_size=100, window=5, min_count=3, sg=0) # embedding (Word2Vec) model 구현"
   ]
  },
  {
   "cell_type": "code",
   "execution_count": 76,
   "id": "b277405c",
   "metadata": {},
   "outputs": [
    {
     "data": {
      "text/plain": [
       "[('요소', 0.970000684261322),\n",
       " ('내러티브', 0.9686278700828552),\n",
       " ('활용', 0.9641552567481995),\n",
       " ('기반', 0.9640387296676636),\n",
       " ('맥락', 0.963200569152832),\n",
       " ('완결', 0.9592462778091431),\n",
       " ('모티브', 0.9582203030586243),\n",
       " ('결합', 0.9575818777084351),\n",
       " ('서스펜스', 0.9541871547698975),\n",
       " ('매체', 0.954150915145874)]"
      ]
     },
     "execution_count": 76,
     "metadata": {},
     "output_type": "execute_result"
    }
   ],
   "source": [
    "model.wv.most_similar(positive=['서사'])"
   ]
  },
  {
   "cell_type": "code",
   "execution_count": 75,
   "id": "2da29dd0",
   "metadata": {},
   "outputs": [
    {
     "data": {
      "text/plain": [
       "[('리얼', 0.8863986134529114),\n",
       " ('시대극', 0.8809728026390076),\n",
       " ('퍼포먼스', 0.8737539649009705),\n",
       " ('블록버스터', 0.8706073760986328),\n",
       " ('탄생', 0.8697410225868225),\n",
       " ('스릴러', 0.8676140308380127),\n",
       " ('비하인드', 0.867383599281311),\n",
       " ('호러', 0.8620800375938416),\n",
       " ('요소', 0.8613294363021851),\n",
       " ('구성', 0.8604877591133118)]"
      ]
     },
     "execution_count": 75,
     "metadata": {},
     "output_type": "execute_result"
    }
   ],
   "source": [
    "model.wv.most_similar(positive=['액션'])"
   ]
  },
  {
   "cell_type": "markdown",
   "id": "8dd874df",
   "metadata": {},
   "source": [
    "## STEP 3. target, attribute 단어 셋 만들기"
   ]
  },
  {
   "cell_type": "code",
   "execution_count": 33,
   "id": "c81fb757",
   "metadata": {},
   "outputs": [],
   "source": [
    "def read_token(file_name):\n",
    "    okt = Okt()\n",
    "    result = []\n",
    "    with open(os.getenv('HOME')+'/aiffel/weat/'+file_name, 'r') as fread: \n",
    "        print(file_name, '파일을 읽고 있습니다.')\n",
    "        while True:\n",
    "            line = fread.readline() \n",
    "            if not line: break \n",
    "            tokenlist = okt.pos(line, stem=True, norm=True) \n",
    "            for word in tokenlist:\n",
    "                if word[1] in [\"Noun\"]:#, \"Adjective\", \"Verb\"]:\n",
    "                    result.append((word[0])) \n",
    "    return ' '.join(result)"
   ]
  },
  {
   "cell_type": "code",
   "execution_count": 43,
   "id": "730829c7",
   "metadata": {},
   "outputs": [],
   "source": [
    "art_txt = 'synopsis_art.txt'\n",
    "gen_txt = 'synopsis_gen.txt'"
   ]
  },
  {
   "cell_type": "code",
   "execution_count": 44,
   "id": "127be771",
   "metadata": {},
   "outputs": [
    {
     "name": "stdout",
     "output_type": "stream",
     "text": [
      "synopsis_art.txt 파일을 읽고 있습니다.\n",
      "synopsis_gen.txt 파일을 읽고 있습니다.\n"
     ]
    }
   ],
   "source": [
    "art = read_token(art_txt)\n",
    "gen = read_token(gen_txt)"
   ]
  },
  {
   "cell_type": "code",
   "execution_count": 45,
   "id": "9f16a312",
   "metadata": {},
   "outputs": [
    {
     "name": "stdout",
     "output_type": "stream",
     "text": [
      "(2, 41082)\n"
     ]
    }
   ],
   "source": [
    "vectorizer = TfidfVectorizer()\n",
    "X = vectorizer.fit_transform([art, gen])\n",
    "\n",
    "print(X.shape)"
   ]
  },
  {
   "cell_type": "code",
   "execution_count": 48,
   "id": "8d787036",
   "metadata": {},
   "outputs": [
    {
     "name": "stdout",
     "output_type": "stream",
     "text": [
      "2230\n",
      "과일\n"
     ]
    }
   ],
   "source": [
    "print(vectorizer.vocabulary_['과일'])\n",
    "print(vectorizer.get_feature_names()[2230])"
   ]
  },
  {
   "cell_type": "code",
   "execution_count": 49,
   "id": "d3b6aca6",
   "metadata": {},
   "outputs": [
    {
     "name": "stdout",
     "output_type": "stream",
     "text": [
      "예술영화를 대표하는 단어들:\n",
      "그녀, 자신, 시작, 위해, 사랑, 사람, 영화, 친구, 남자, 가족, 이야기, 마을, 사건, 마음, 세상, 아버지, 아이, 엄마, 모든, 여자, 대한, 서로, 과연, 다시, 시간, 아들, 소녀, 아내, 다른, 사이, 영화제, 세계, 사실, 하나, 점점, 남편, 감독, 여행, 인생, 발견, 모두, 순간, 우리, 가장, 마지막, 생활, 아빠, 모습, 통해, 죽음, 기억, 비밀, 학교, 음악, 한편, 소년, 생각, 도시, 명의, 사고, 결혼, 전쟁, 때문, 위기, 이제, 최고, 이자, 과거, 일상, 경찰, 상황, 간다, 미국, 결심, 운명, 현실, 관계, 지금, 단편, 여인, 하루, 이름, 이후, 준비, 인간, 감정, 만난, 국제, 처음, 충격, 살인, 누구, 동안, 존재, 그린, 어머니, 연인, 계속, 동생, 작품, \n",
      "\n",
      "일반영화를 대표하는 단어들:\n",
      "자신, 그녀, 영화제, 위해, 사람, 시작, 국제, 영화, 친구, 사랑, 남자, 이야기, 대한, 서울, 여자, 사건, 남편, 아이, 가족, 아버지, 다른, 마을, 시간, 엄마, 아들, 모든, 단편, 마음, 사실, 다시, 세계, 모습, 작품, 통해, 생각, 서로, 세상, 발견, 감독, 아내, 관계, 소녀, 사이, 하나, 우리, 애니메이션, 때문, 여성, 죽음, 과연, 점점, 인간, 생활, 한편, 결혼, 상황, 모두, 기억, 명의, 소년, 여행, 가장, 간다, 순간, 이제, 도시, 비밀, 학교, 과거, 가지, 이자, 경찰, 마지막, 미국, 동안, 전쟁, 주인공, 대해, 존재, 현실, 연출, 사고, 살인, 일상, 어머니, 계속, 사회, 인생, 다큐멘터리, 부문, 섹스, 최고, 바로, 동생, 의도, 하루, 위기, 계획, 정체, 한국, "
     ]
    }
   ],
   "source": [
    "m1 = X[0].tocoo() # art\n",
    "m2 = X[1].tocoo() # gen\n",
    "\n",
    "w1 = [[i, j] for i, j in zip(m1.col, m1.data)]\n",
    "w2 = [[i, j] for i, j in zip(m2.col, m2.data)]\n",
    "\n",
    "w1.sort(key=lambda x: x[1], reverse=True) #art를 구성하는 단어들을 TF-IDF가 높은 순으로 정렬\n",
    "w2.sort(key=lambda x: x[1], reverse=True) #gen을 구성하는 단어들을 TF-IDF가 높은 순으로 정렬\n",
    "\n",
    "print('예술영화를 대표하는 단어들:')\n",
    "for i in range(100):\n",
    "    print(vectorizer.get_feature_names()[w1[i][0]], end=', ')\n",
    "\n",
    "print('\\n')\n",
    "    \n",
    "print('일반영화를 대표하는 단어들:')\n",
    "for i in range(100):\n",
    "    print(vectorizer.get_feature_names()[w2[i][0]], end=', ')"
   ]
  },
  {
   "cell_type": "markdown",
   "id": "f9dab43d",
   "metadata": {},
   "source": [
    "### 중복값 제거"
   ]
  },
  {
   "cell_type": "code",
   "execution_count": 50,
   "id": "1f064207",
   "metadata": {},
   "outputs": [],
   "source": [
    "n = 15\n",
    "w1_, w2_ = [], []\n",
    "for i in range(100):\n",
    "    w1_.append(vectorizer.get_feature_names()[w1[i][0]])\n",
    "    w2_.append(vectorizer.get_feature_names()[w2[i][0]])\n",
    "\n",
    "# w1에만 있고 w2에는 없는, 예술영화를 잘 대표하는 단어를 15개 추출\n",
    "target_art, target_gen = [], []\n",
    "for i in range(100):\n",
    "    if (w1_[i] not in w2_) and (w1_[i] in model.wv): target_art.append(w1_[i]) #w1_[i] 안에 w2_가 없는것을 조건으로 둬서 중복 제거\n",
    "    if len(target_art) == n: break \n",
    "\n",
    "# w2에만 있고 w1에는 없는, 일반영화를 잘 대표하는 단어를 15개 추출\n",
    "for i in range(100):\n",
    "    if (w2_[i] not in w1_) and (w2_[i] in model.wv): target_gen.append(w2_[i])\n",
    "    if len(target_gen) == n: break"
   ]
  },
  {
   "cell_type": "code",
   "execution_count": 55,
   "id": "3a1162b6",
   "metadata": {},
   "outputs": [
    {
     "name": "stdout",
     "output_type": "stream",
     "text": [
      "['아빠', '음악', '결심', '운명', '지금', '여인', '이름', '이후', '준비', '감정', '만난', '처음', '충격', '누구', '그린']\n",
      "['서울', '애니메이션', '여성', '가지', '주인공', '대해', '연출', '사회', '다큐멘터리', '부문', '섹스', '바로', '의도', '계획', '정체']\n"
     ]
    }
   ],
   "source": [
    "print(target_art)\n",
    "print(target_gen)"
   ]
  },
  {
   "cell_type": "code",
   "execution_count": 34,
   "id": "333bfd4e",
   "metadata": {},
   "outputs": [],
   "source": [
    "genre_txt = ['synopsis_SF.txt', 'synopsis_family.txt', 'synopsis_show.txt', 'synopsis_horror.txt', 'synopsis_etc.txt', \n",
    "             'synopsis_documentary.txt', 'synopsis_drama.txt', 'synopsis_romance.txt', 'synopsis_musical.txt', \n",
    "             'synopsis_mystery.txt', 'synopsis_crime.txt', 'synopsis_historical.txt', 'synopsis_western.txt', \n",
    "             'synopsis_adult.txt', 'synopsis_thriller.txt', 'synopsis_animation.txt', 'synopsis_action.txt', \n",
    "             'synopsis_adventure.txt', 'synopsis_war.txt', 'synopsis_comedy.txt', 'synopsis_fantasy.txt']\n",
    "genre_name = ['SF', '가족', '공연', '공포(호러)', '기타', '다큐멘터리', '드라마', '멜로로맨스', '뮤지컬', '미스터리', '범죄', '사극', '서부극(웨스턴)',\n",
    "         '성인물(에로)', '스릴러', '애니메이션', '액션', '어드벤처', '전쟁', '코미디', '판타지']"
   ]
  },
  {
   "cell_type": "code",
   "execution_count": 35,
   "id": "48fbfd9f",
   "metadata": {},
   "outputs": [
    {
     "name": "stdout",
     "output_type": "stream",
     "text": [
      "synopsis_SF.txt 파일을 읽고 있습니다.\n",
      "synopsis_family.txt 파일을 읽고 있습니다.\n",
      "synopsis_show.txt 파일을 읽고 있습니다.\n",
      "synopsis_horror.txt 파일을 읽고 있습니다.\n",
      "synopsis_etc.txt 파일을 읽고 있습니다.\n",
      "synopsis_documentary.txt 파일을 읽고 있습니다.\n",
      "synopsis_drama.txt 파일을 읽고 있습니다.\n",
      "synopsis_romance.txt 파일을 읽고 있습니다.\n",
      "synopsis_musical.txt 파일을 읽고 있습니다.\n",
      "synopsis_mystery.txt 파일을 읽고 있습니다.\n",
      "synopsis_crime.txt 파일을 읽고 있습니다.\n",
      "synopsis_historical.txt 파일을 읽고 있습니다.\n",
      "synopsis_western.txt 파일을 읽고 있습니다.\n",
      "synopsis_adult.txt 파일을 읽고 있습니다.\n",
      "synopsis_thriller.txt 파일을 읽고 있습니다.\n",
      "synopsis_animation.txt 파일을 읽고 있습니다.\n",
      "synopsis_action.txt 파일을 읽고 있습니다.\n",
      "synopsis_adventure.txt 파일을 읽고 있습니다.\n",
      "synopsis_war.txt 파일을 읽고 있습니다.\n",
      "synopsis_comedy.txt 파일을 읽고 있습니다.\n",
      "synopsis_fantasy.txt 파일을 읽고 있습니다.\n"
     ]
    }
   ],
   "source": [
    "genre = []\n",
    "for file_name in genre_txt:\n",
    "    genre.append(read_token(file_name))"
   ]
  },
  {
   "cell_type": "code",
   "execution_count": 36,
   "id": "fd797632",
   "metadata": {},
   "outputs": [
    {
     "name": "stdout",
     "output_type": "stream",
     "text": [
      "(21, 42191)\n"
     ]
    }
   ],
   "source": [
    "vectorizer = TfidfVectorizer()\n",
    "X = vectorizer.fit_transform(genre)\n",
    "\n",
    "print(X.shape)"
   ]
  },
  {
   "cell_type": "code",
   "execution_count": 37,
   "id": "eccfe007",
   "metadata": {
    "scrolled": false
   },
   "outputs": [
    {
     "name": "stdout",
     "output_type": "stream",
     "text": [
      "SF: 위해, "
     ]
    },
    {
     "name": "stderr",
     "output_type": "stream",
     "text": [
      "/opt/conda/lib/python3.9/site-packages/sklearn/utils/deprecation.py:87: FutureWarning: Function get_feature_names is deprecated; get_feature_names is deprecated in 1.0 and will be removed in 1.2. Please use get_feature_names_out instead.\n",
      "  warnings.warn(msg, category=FutureWarning)\n"
     ]
    },
    {
     "name": "stdout",
     "output_type": "stream",
     "text": [
      "자신, 지구, 시작, 사람, 인류, 인간, 미래, 우주, 그녀, 로봇, 세계, 모든, 박사, 우주선, \n",
      "가족: 엄마, 아빠, 가족, 영화제, 자신, 위해, 친구, 아주르, 아버지, 시작, 그녀, 아들, 마을, 국제, 낙타, \n",
      "공연: 오페라, 사랑, 토스카, 실황, 올레, 자신, 카바, 그녀, 공연, 오텔로, 리골레토, 백작, 프레, 베르디, 위해, \n",
      "공포(호러): 시작, 위해, 사람, 자신, 친구, 그녀, 사건, 공포, 발견, 죽음, 마을, 가족, 악령, 남자, 좀비, \n",
      "기타: 영화제, 국제, 서울, 단편, 영화, 자신, 사람, 이야기, 그녀, 남자, 위해, 시작, 사랑, 뉴미디어, 페스티벌, \n",
      "다큐멘터리: 영화제, 영화, 다큐, 국제, 다큐멘터리, 사람, 이야기, 대한, 자신, 감독, 위해, 서울, 우리, 시작, 세계, \n",
      "드라마: 자신, 영화제, 그녀, 사람, 사랑, 영화, 위해, 시작, 국제, 남자, 친구, 이야기, 엄마, 여자, 아버지, \n",
      "멜로로맨스: 그녀, 사랑, 자신, 시작, 남편, 남자, 여자, 사람, 친구, 섹스, 위해, 마음, 결혼, 서로, 아내, \n",
      "뮤지컬: 뮤지컬, 사랑, 에스메랄다, 그녀, 음악, 충무로, 모차르트, 영화, 토스카, 자신, 니웨, 카바, 영화제, 바흐, 페뷔스, \n",
      "미스터리: 사건, 그녀, 시작, 자신, 위해, 사람, 발견, 사고, 진실, 죽음, 기억, 살인, 친구, 아내, 남자, \n",
      "범죄: 사건, 위해, 자신, 경찰, 시작, 그녀, 범죄, 조직, 살인, 사람, 마약, 형사, 남자, 모든, 살해, \n",
      "사극: 조선, 위해, 시작, 신기전, 사랑, 자신, 아가멤논, 황제, 그녀, 루안, 최고, 운명, 사람, 하선, 전쟁, \n",
      "서부극(웨스턴): 서부, 보안관, 위해, 벌린, 카우보이, 그레이프바인, 헨리, 마을, 자신, 개릿, 아이, 시작, 무법자, 프린트, 마적, \n",
      "성인물(에로): 그녀, 남편, 마사지, 자신, 섹스, 관계, 영화, 정사, 남자, 위해, 시작, 여자, 유부녀, 마음, 사랑, \n",
      "스릴러: 자신, 그녀, 사건, 시작, 위해, 사람, 살인, 남자, 발견, 아내, 경찰, 친구, 모든, 사실, 살해, \n",
      "애니메이션: 애니메이션, 국제, 영화제, 친구, 인디애니페스트, 위해, 자신, 시작, 사람, 페스티벌, 서울, 이야기, 아이, 마을, 소녀, \n",
      "액션: 위해, 자신, 시작, 조직, 사건, 사람, 그녀, 경찰, 전쟁, 모든, 목숨, 사실, 친구, 가족, 요원, \n",
      "어드벤처: 위해, 자신, 시작, 친구, 마을, 아버지, 영화, 아이, 사람, 여행, 세계, 앤트, 세상, 가족, 모험, \n",
      "전쟁: 전쟁, 독일군, 전투, 위해, 작전, 시작, 부대, 윈터스, 독일, 연합군, 미군, 임무, 자신, 사람, 나치, \n",
      "코미디: 그녀, 자신, 시작, 위해, 사랑, 사람, 친구, 영화, 남자, 여자, 영화제, 가족, 과연, 마을, 사건, \n",
      "판타지: 자신, 그녀, 시작, 위해, 사람, 사랑, 요괴, 영화제, 이야기, 영화, 소녀, 남자, 인간, 세상, 마을, \n"
     ]
    }
   ],
   "source": [
    "m = [X[i].tocoo() for i in range(X.shape[0])]\n",
    "\n",
    "w = [[[i, j] for i, j in zip(mm.col, mm.data)] for mm in m]\n",
    "\n",
    "for i in range(len(w)):\n",
    "    w[i].sort(key=lambda x: x[1], reverse=True)\n",
    "attributes = []\n",
    "for i in range(len(w)):\n",
    "    print(genre_name[i], end=': ')\n",
    "    attr = []\n",
    "    j = 0\n",
    "    while (len(attr) < 15):\n",
    "        if vectorizer.get_feature_names()[w[i][j][0]] in model.wv:\n",
    "            attr.append(vectorizer.get_feature_names()[w[i][j][0]])\n",
    "            print(vectorizer.get_feature_names()[w[i][j][0]], end=', ')\n",
    "        j += 1\n",
    "    attributes.append(attr)\n",
    "    print()"
   ]
  },
  {
   "cell_type": "markdown",
   "id": "bebbbfab",
   "metadata": {},
   "source": [
    "## STEP 4. WEAT score 계산과 시각화"
   ]
  },
  {
   "cell_type": "markdown",
   "id": "b9fd132f",
   "metadata": {},
   "source": [
    "### weat score 구현"
   ]
  },
  {
   "cell_type": "code",
   "execution_count": 60,
   "id": "19c41065",
   "metadata": {},
   "outputs": [],
   "source": [
    "def cos_sim(i, j):\n",
    "    return dot(i, j.T)/(norm(i)*norm(j))\n",
    "\n",
    "def test(w, A, B):\n",
    "    c_a = cos_sim(w, A)\n",
    "    c_b = cos_sim(w, B)\n",
    "    mean_A = np.mean(c_a, axis=-1)\n",
    "    mean_B = np.mean(c_b, axis=-1)\n",
    "    return mean_A - mean_B #, c_a, c_b"
   ]
  },
  {
   "cell_type": "code",
   "execution_count": 62,
   "id": "89745018",
   "metadata": {},
   "outputs": [],
   "source": [
    "def weat_score(X, Y, A, B):\n",
    "    \n",
    "    test_X = test(X, A, B)\n",
    "    test_Y = test(Y, A, B)\n",
    "\n",
    "    mean_X = np.mean(test_X)\n",
    "    mean_Y = np.mean(test_Y)\n",
    "    \n",
    "    std_dev = np.std(np.concatenate([test_X, test_Y], axis=0))\n",
    "    \n",
    "    return  (mean_X-mean_Y)/std_dev"
   ]
  },
  {
   "cell_type": "code",
   "execution_count": 39,
   "id": "5a74570a",
   "metadata": {},
   "outputs": [],
   "source": [
    "matrix = [[0 for _ in range(len(genre_name))] for _ in range(len(genre_name))]"
   ]
  },
  {
   "cell_type": "code",
   "execution_count": 63,
   "id": "768ef4d8",
   "metadata": {},
   "outputs": [],
   "source": [
    "X = np.array([model.wv[word] for word in target_art])\n",
    "Y = np.array([model.wv[word] for word in target_gen])\n",
    "\n",
    "for i in range(len(genre_name)-1):\n",
    "    for j in range(i+1, len(genre_name)):\n",
    "        A = np.array([model.wv[word] for word in attributes[i]])\n",
    "        B = np.array([model.wv[word] for word in attributes[j]])\n",
    "        matrix[i][j] = weat_score(X, Y, A, B)"
   ]
  },
  {
   "cell_type": "code",
   "execution_count": 64,
   "id": "2719c11e",
   "metadata": {},
   "outputs": [
    {
     "name": "stdout",
     "output_type": "stream",
     "text": [
      "SF 가족 -0.4913624\n",
      "SF 공연 -0.38815364\n",
      "SF 공포(호러) -0.6812512\n",
      "SF 기타 0.36396277\n",
      "SF 다큐멘터리 0.5953653\n",
      "SF 드라마 -0.33960694\n",
      "SF 멜로로맨스 -0.77666265\n",
      "SF 뮤지컬 0.32429913\n",
      "SF 미스터리 -0.666635\n",
      "SF 범죄 -0.21705703\n",
      "SF 사극 -0.7954703\n",
      "SF 서부극(웨스턴) -0.40548903\n",
      "SF 성인물(에로) -0.5562861\n",
      "SF 스릴러 -0.5173884\n",
      "SF 애니메이션 0.36567408\n",
      "SF 액션 -0.45527244\n",
      "SF 어드벤처 -0.7786346\n",
      "SF 전쟁 0.19544736\n",
      "SF 코미디 -0.43599007\n",
      "SF 판타지 -0.15876442\n",
      "가족 공연 0.16554809\n",
      "가족 공포(호러) -0.16538373\n",
      "가족 기타 0.76247954\n",
      "가족 다큐멘터리 0.83260804\n",
      "가족 드라마 0.2617996\n",
      "가족 멜로로맨스 -0.60710174\n",
      "가족 뮤지컬 0.6809914\n",
      "가족 미스터리 -0.28736869\n",
      "가족 범죄 0.22208054\n",
      "가족 사극 -0.043133847\n",
      "가족 서부극(웨스턴) 0.4301838\n",
      "가족 성인물(에로) -0.3001521\n",
      "가족 스릴러 -0.13364117\n",
      "가족 애니메이션 0.86395425\n",
      "가족 액션 0.09737911\n",
      "가족 어드벤처 -0.031132264\n",
      "가족 전쟁 0.62085325\n",
      "가족 코미디 0.20433357\n",
      "가족 판타지 0.43274596\n",
      "공연 공포(호러) -0.24110389\n",
      "공연 기타 0.9303735\n",
      "공연 다큐멘터리 0.91658634\n",
      "공연 드라마 0.10157433\n",
      "공연 멜로로맨스 -0.69487435\n",
      "공연 뮤지컬 0.84998417\n",
      "공연 미스터리 -0.33325392\n",
      "공연 범죄 0.105896175\n",
      "공연 사극 -0.30525827\n",
      "공연 서부극(웨스턴) 0.09517709\n",
      "공연 성인물(에로) -0.45841455\n",
      "공연 스릴러 -0.20405324\n",
      "공연 애니메이션 0.90338874\n",
      "공연 액션 -0.023216268\n",
      "공연 어드벤처 -0.19248472\n",
      "공연 전쟁 0.5924605\n",
      "공연 코미디 0.035399266\n",
      "공연 판타지 0.37036878\n",
      "공포(호러) 기타 0.6544087\n",
      "공포(호러) 다큐멘터리 0.75008285\n",
      "공포(호러) 드라마 0.34092268\n",
      "공포(호러) 멜로로맨스 -0.6027538\n",
      "공포(호러) 뮤지컬 0.60417646\n",
      "공포(호러) 미스터리 -0.49195564\n",
      "공포(호러) 범죄 0.69951266\n",
      "공포(호러) 사극 0.15462792\n",
      "공포(호러) 서부극(웨스턴) 0.42951185\n",
      "공포(호러) 성인물(에로) -0.1980572\n",
      "공포(호러) 스릴러 0.008827912\n",
      "공포(호러) 애니메이션 0.6666802\n",
      "공포(호러) 액션 0.5393707\n",
      "공포(호러) 어드벤처 0.18224311\n",
      "공포(호러) 전쟁 0.6469181\n",
      "공포(호러) 코미디 0.447672\n",
      "공포(호러) 판타지 0.53284013\n",
      "기타 다큐멘터리 0.58437544\n",
      "기타 드라마 -0.8917382\n",
      "기타 멜로로맨스 -0.8932794\n",
      "기타 뮤지컬 -0.1667609\n",
      "기타 미스터리 -0.6579818\n",
      "기타 범죄 -0.38514414\n",
      "기타 사극 -0.8351542\n",
      "기타 서부극(웨스턴) -0.631918\n",
      "기타 성인물(에로) -0.81774247\n",
      "기타 스릴러 -0.56785613\n",
      "기타 애니메이션 -0.111006\n",
      "기타 액션 -0.4926419\n",
      "기타 어드벤처 -0.81695014\n",
      "기타 전쟁 -0.2603339\n",
      "기타 코미디 -0.74917334\n",
      "기타 판타지 -0.7170665\n",
      "다큐멘터리 드라마 -0.9156165\n",
      "다큐멘터리 멜로로맨스 -0.8969139\n",
      "다큐멘터리 뮤지컬 -0.78146905\n",
      "다큐멘터리 미스터리 -0.7409657\n",
      "다큐멘터리 범죄 -0.50150913\n",
      "다큐멘터리 사극 -0.90680456\n",
      "다큐멘터리 서부극(웨스턴) -0.7313041\n",
      "다큐멘터리 성인물(에로) -0.832192\n",
      "다큐멘터리 스릴러 -0.65175325\n",
      "다큐멘터리 애니메이션 -0.5466097\n",
      "다큐멘터리 액션 -0.611511\n",
      "다큐멘터리 어드벤처 -0.94964135\n",
      "다큐멘터리 전쟁 -0.4565596\n",
      "다큐멘터리 코미디 -0.8299443\n",
      "다큐멘터리 판타지 -0.9070474\n",
      "드라마 멜로로맨스 -0.8352882\n",
      "드라마 뮤지컬 0.7865228\n",
      "드라마 미스터리 -0.4235914\n",
      "드라마 범죄 0.068795286\n",
      "드라마 사극 -0.34327814\n",
      "드라마 서부극(웨스턴) 0.01554389\n",
      "드라마 성인물(에로) -0.58576304\n",
      "드라마 스릴러 -0.26671264\n",
      "드라마 애니메이션 0.872927\n",
      "드라마 액션 -0.06976037\n",
      "드라마 어드벤처 -0.34172457\n",
      "드라마 전쟁 0.4251981\n",
      "드라마 코미디 -0.08748702\n",
      "드라마 판타지 0.49571007\n",
      "멜로로맨스 뮤지컬 0.84432995\n",
      "멜로로맨스 미스터리 0.4473621\n",
      "멜로로맨스 범죄 0.84444374\n",
      "멜로로맨스 사극 0.6434771\n",
      "멜로로맨스 서부극(웨스턴) 0.73857236\n",
      "멜로로맨스 성인물(에로) 0.8115286\n",
      "멜로로맨스 스릴러 0.62969446\n",
      "멜로로맨스 애니메이션 0.87115574\n",
      "멜로로맨스 액션 0.724529\n",
      "멜로로맨스 어드벤처 0.58459914\n",
      "멜로로맨스 전쟁 0.7869805\n",
      "멜로로맨스 코미디 0.8923299\n",
      "멜로로맨스 판타지 0.82141256\n",
      "뮤지컬 미스터리 -0.61621445\n",
      "뮤지컬 범죄 -0.34464678\n",
      "뮤지컬 사극 -0.77653146\n",
      "뮤지컬 서부극(웨스턴) -0.555575\n",
      "뮤지컬 성인물(에로) -0.7690512\n",
      "뮤지컬 스릴러 -0.5249349\n",
      "뮤지컬 애니메이션 0.008083868\n",
      "뮤지컬 액션 -0.45119214\n",
      "뮤지컬 어드벤처 -0.75956005\n",
      "뮤지컬 전쟁 -0.21007358\n",
      "뮤지컬 코미디 -0.66835684\n",
      "뮤지컬 판타지 -0.63975126\n",
      "미스터리 범죄 1.0331904\n",
      "미스터리 사극 0.28943306\n",
      "미스터리 서부극(웨스턴) 0.49317732\n",
      "미스터리 성인물(에로) -0.037242904\n",
      "미스터리 스릴러 0.70287997\n",
      "미스터리 애니메이션 0.66041726\n",
      "미스터리 액션 0.7612849\n",
      "미스터리 어드벤처 0.30111304\n",
      "미스터리 전쟁 0.6596031\n",
      "미스터리 코미디 0.51683897\n",
      "미스터리 판타지 0.55302334\n",
      "범죄 사극 -0.29546338\n",
      "범죄 서부극(웨스턴) -0.08101608\n",
      "범죄 성인물(에로) -0.49048385\n",
      "범죄 스릴러 -1.0194409\n",
      "범죄 애니메이션 0.37753844\n",
      "범죄 액션 -0.43691185\n",
      "범죄 어드벤처 -0.24476977\n",
      "범죄 전쟁 0.34307942\n",
      "범죄 코미디 -0.11877291\n",
      "범죄 판타지 0.09491808\n",
      "사극 서부극(웨스턴) 0.3892345\n",
      "사극 성인물(에로) -0.32422838\n",
      "사극 스릴러 -0.11478033\n",
      "사극 애니메이션 0.8285998\n",
      "사극 액션 0.161166\n",
      "사극 어드벤처 0.031239545\n",
      "사극 전쟁 0.84670454\n",
      "사극 코미디 0.40148172\n",
      "사극 판타지 0.6400798\n",
      "서부극(웨스턴) 성인물(에로) -0.4388962\n",
      "서부극(웨스턴) 스릴러 -0.33656412\n",
      "서부극(웨스턴) 애니메이션 0.6952623\n",
      "서부극(웨스턴) 액션 -0.11897795\n",
      "서부극(웨스턴) 어드벤처 -0.40155366\n",
      "서부극(웨스턴) 전쟁 0.6453397\n",
      "서부극(웨스턴) 코미디 -0.06916936\n",
      "서부극(웨스턴) 판타지 0.24783038\n",
      "성인물(에로) 스릴러 0.19713125\n",
      "성인물(에로) 애니메이션 0.7594377\n",
      "성인물(에로) 액션 0.36425987\n",
      "성인물(에로) 어드벤처 0.28837645\n",
      "성인물(에로) 전쟁 0.5948562\n",
      "성인물(에로) 코미디 0.576955\n",
      "성인물(에로) 판타지 0.62729526\n",
      "스릴러 애니메이션 0.5694943\n",
      "스릴러 액션 0.5113164\n",
      "스릴러 어드벤처 0.12282062\n",
      "스릴러 전쟁 0.56947106\n",
      "스릴러 코미디 0.31230956\n",
      "스릴러 판타지 0.39710206\n",
      "애니메이션 액션 -0.49889493\n",
      "애니메이션 어드벤처 -0.88914573\n",
      "애니메이션 전쟁 -0.2524236\n",
      "애니메이션 코미디 -0.7390753\n",
      "애니메이션 판타지 -0.689842\n",
      "액션 어드벤처 -0.12885703\n",
      "액션 전쟁 0.539851\n",
      "액션 코미디 0.057535592\n",
      "액션 판타지 0.24559851\n",
      "어드벤처 전쟁 0.67630684\n",
      "어드벤처 코미디 0.34580603\n",
      "어드벤처 판타지 0.74126935\n",
      "전쟁 코미디 -0.49374938\n",
      "전쟁 판타지 -0.2465461\n",
      "코미디 판타지 0.5200075\n"
     ]
    }
   ],
   "source": [
    "for i in range(len(genre_name)-1):\n",
    "    for j in range(i+1, len(genre_name)):\n",
    "        print(genre_name[i], genre_name[j],matrix[i][j])"
   ]
  },
  {
   "cell_type": "code",
   "execution_count": 71,
   "id": "7ad32130",
   "metadata": {},
   "outputs": [
    {
     "data": {
      "text/plain": [
       "<AxesSubplot:>"
      ]
     },
     "execution_count": 71,
     "metadata": {},
     "output_type": "execute_result"
    },
    {
     "data": {
      "image/png": "[encoded data removed]",
      "text/plain": [
       "<Figure size 432x288 with 2 Axes>"
      ]
     },
     "metadata": {},
     "output_type": "display_data"
    }
   ],
   "source": [
    "np.random.seed(0)\n",
    "\n",
    "# 한글 지원 폰트\n",
    "sns.set(font='NanumGothic')\n",
    "\n",
    "# 마이너스 부호 \n",
    "plt.rcParams['axes.unicode_minus'] = False\n",
    "\n",
    "ax = sns.heatmap(matrix, xticklabels=genre_name, yticklabels=genre_name, annot=True,  cmap='RdYlGn_r')\n",
    "ax"
   ]
  },
  {
   "cell_type": "markdown",
   "id": "bb134439",
   "metadata": {},
   "source": [
    "# Reference"
   ]
  },
  {
   "cell_type": "markdown",
   "id": "fe4e1827",
   "metadata": {},
   "source": [
    "Aiffel GoingDeeper 노드 6. 임베딩 내 편향성 알아보기"
   ]
  },
  {
   "cell_type": "markdown",
   "id": "b3271213",
   "metadata": {},
   "source": [
    "# 회고"
   ]
  },
  {
   "cell_type": "markdown",
   "id": "aad5181e",
   "metadata": {},
   "source": [
    "이번 Going Deeper 노드에선 크게 문제 없이 노드 내용대로 따라가면서 하니  \n",
    "정상적으로 잘 마무리 지을 수 있었습니다.  \n",
    "이번 노드에서 이해하고 넘어갔던 내용은 임베딩 내 편향성을 어떻게 구하는지에 대해서  \n",
    "대략적인 내용에 대해선 이해하고 넘어갔으며 편향성을 갖게 된다는것을 무시하지 못한다는것도  \n",
    "알게되어 편향성에 대해서 좀더 생각하고 넘어갈 수 있었습니다.  \n",
    "  \n",
    "* STEP 1. 형태소 분석기를 이용하여 품사가 명사인 경우 해당 단어를 추출하기  \n",
    "형태소 분석기로 konlpy 의 Okt(Open Korean Text) 모델을 사용하였으며 명사를 추출할 수 있는 함수를 지원하고 있어  \n",
    "tokenized 를 하고 난 이후 if문을 활용하여 명사인 경우의 단어만 추출이 가능했습니다.(Noun)  \n",
    "  \n",
    "* STEP 2. 추출된 결과로 embedding model 만들기  \n",
    "embedding model 로는 gensim 의 Word2Vec 모델을 사용했으며 vocab_size 는 노드에 나온 내용과 같은 100 사이즈와  \n",
    "window 사이즈로는 5, 그리고 단어의 최소개수 min_count는 3으로 두고 모델을 학습 시켰습니다.  \n",
    "  \n",
    "* STEP 3. target, attribute 단어 셋 만들기  \n",
    "target, attribute 으로 target은 synopsis_art.txt, synopsis_gen.txt (예술영화, 일반(상업)영화)  \n",
    "attribute 는 장르로 나눠서 단어set을 만들었으며 sklearn 의 TfidfVectorizer 를 사용하여 단어 셋을 구성하였으며  \n",
    "TfidfVectorizer 만으로는 중복값이 나올 수 있어 중복값 자체를 제거하는 함수를 if 문으로서 구현을 했고  \n",
    "테스트를 진행하여 index 와 단어의 매칭이 잘 진행되었음을 확인했습니다.  \n",
    "  \n",
    "* STEP 4. WEAT score 계산과 시각화\n",
    "WEAT score 값에 대한 함수는 각 데이터간의 cos_sim 값을 구하고 구한 cos_sim 값 끼리 평균값을 구함,  \n",
    "그리고 마지막으로 평균값을 구한 데이터끼리의 - 를 이용하여 얼마나 데이터간에 편향성이 존재하는지를  \n",
    "확인하는지 수식과 코드로서 확인했으며 WEAT score 를 이해하는데 많은 도움이 됐었던 것 같습니다.  \n",
    "추가로 이해하고 넘어가는 것 뿐만이 아닌 시각화를 통해 어떤식으로 데이터가 보여지는지 확인을 직접 하기도 했습니다."
   ]
  }
 ],
 "metadata": {
  "kernelspec": {
   "display_name": "Python 3 (ipykernel)",
   "language": "python",
   "name": "python3"
  },
  "language_info": {
   "codemirror_mode": {
    "name": "ipython",
    "version": 3
   },
   "file_extension": ".py",
   "mimetype": "text/x-python",
   "name": "python",
   "nbconvert_exporter": "python",
   "pygments_lexer": "ipython3",
   "version": "3.9.7"
  }
 },
 "nbformat": 4,
 "nbformat_minor": 5
}
