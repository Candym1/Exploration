{
 "cells": [
  {
   "cell_type": "markdown",
   "id": "9e667e72",
   "metadata": {},
   "source": [
    "# [E-13] 프로젝트 - Movielens 영화 추천 실습"
   ]
  },
  {
   "cell_type": "markdown",
   "id": "471e425b",
   "metadata": {},
   "source": [
    "## 조건\n",
    "* 유저가 영화에 대해 평점을 매긴 데이터가 데이터 크기 별로 있습니다. MovieLens 1M Dataset 사용을 권장합니다  \n",
    "* 별점 데이터는 대표적인 explicit 데이터입니다. 하지만 implicit 데이터로 간주하고 테스트해 볼 수 있습니다.  \n",
    "* 별점을 시청횟수로 해석해서 생각하겠습니다.  \n",
    "* 또한 유저가 3점 미만으로 준 데이터는 선호하지 않는다고 가정하고 제외하겠습니다."
   ]
  },
  {
   "cell_type": "markdown",
   "id": "111aad4c",
   "metadata": {},
   "source": [
    "## Import"
   ]
  },
  {
   "cell_type": "code",
   "execution_count": 1,
   "id": "1e3b7912",
   "metadata": {},
   "outputs": [],
   "source": [
    "import numpy as np\n",
    "import pandas as pd\n",
    "from scipy.sparse import csr_matrix\n",
    "from implicit.als import AlternatingLeastSquares\n",
    "\n",
    "import os"
   ]
  },
  {
   "cell_type": "markdown",
   "id": "ab48b615",
   "metadata": {},
   "source": [
    "## Data Load"
   ]
  },
  {
   "cell_type": "code",
   "execution_count": 2,
   "id": "86cdae32",
   "metadata": {},
   "outputs": [
    {
     "data": {
      "text/html": [
       "<div>\n",
       "<style scoped>\n",
       "    .dataframe tbody tr th:only-of-type {\n",
       "        vertical-align: middle;\n",
       "    }\n",
       "\n",
       "    .dataframe tbody tr th {\n",
       "        vertical-align: top;\n",
       "    }\n",
       "\n",
       "    .dataframe thead th {\n",
       "        text-align: right;\n",
       "    }\n",
       "</style>\n",
       "<table border=\"1\" class=\"dataframe\">\n",
       "  <thead>\n",
       "    <tr style=\"text-align: right;\">\n",
       "      <th></th>\n",
       "      <th>user_id</th>\n",
       "      <th>movie_id</th>\n",
       "      <th>ratings</th>\n",
       "      <th>timestep</th>\n",
       "    </tr>\n",
       "  </thead>\n",
       "  <tbody>\n",
       "    <tr>\n",
       "      <th>0</th>\n",
       "      <td>1</td>\n",
       "      <td>1193</td>\n",
       "      <td>5</td>\n",
       "      <td>978300760</td>\n",
       "    </tr>\n",
       "    <tr>\n",
       "      <th>1</th>\n",
       "      <td>1</td>\n",
       "      <td>661</td>\n",
       "      <td>3</td>\n",
       "      <td>978302109</td>\n",
       "    </tr>\n",
       "    <tr>\n",
       "      <th>2</th>\n",
       "      <td>1</td>\n",
       "      <td>914</td>\n",
       "      <td>3</td>\n",
       "      <td>978301968</td>\n",
       "    </tr>\n",
       "    <tr>\n",
       "      <th>3</th>\n",
       "      <td>1</td>\n",
       "      <td>3408</td>\n",
       "      <td>4</td>\n",
       "      <td>978300275</td>\n",
       "    </tr>\n",
       "    <tr>\n",
       "      <th>4</th>\n",
       "      <td>1</td>\n",
       "      <td>2355</td>\n",
       "      <td>5</td>\n",
       "      <td>978824291</td>\n",
       "    </tr>\n",
       "  </tbody>\n",
       "</table>\n",
       "</div>"
      ],
      "text/plain": [
       "   user_id  movie_id  ratings   timestep\n",
       "0        1      1193        5  978300760\n",
       "1        1       661        3  978302109\n",
       "2        1       914        3  978301968\n",
       "3        1      3408        4  978300275\n",
       "4        1      2355        5  978824291"
      ]
     },
     "execution_count": 2,
     "metadata": {},
     "output_type": "execute_result"
    }
   ],
   "source": [
    "file_path = os.getenv('HOME') + '/aiffel/recommendata_iu/data/ml-1m/ratings.dat'\n",
    "ratings_cols = ['user_id', 'movie_id', 'ratings', 'timestep']\n",
    "ratings = pd.read_csv(file_path, sep='::', names=ratings_cols, engine='python', encoding = \"ISO-8859-1\")\n",
    "original_data_size = len(ratings)\n",
    "ratings.head()"
   ]
  },
  {
   "cell_type": "markdown",
   "id": "c709995b",
   "metadata": {},
   "source": [
    "### 조건 4 (3점 미만 데이터는 선호하지 않음)"
   ]
  },
  {
   "cell_type": "code",
   "execution_count": 3,
   "id": "53b8dbbe",
   "metadata": {},
   "outputs": [
    {
     "name": "stdout",
     "output_type": "stream",
     "text": [
      "original_data_size : 1000209, filtered_data_size : 836478\n",
      "Ratio of Remaining Data is 83.63%\n"
     ]
    }
   ],
   "source": [
    "ratings = ratings[ratings['ratings']>=3]\n",
    "filtered_data_size = len(ratings)\n",
    "\n",
    "print(\"original_data_size : {0}, filtered_data_size : {1}\".format(original_data_size, filtered_data_size))\n",
    "print(\"Ratio of Remaining Data is {0:.2%}\".format(filtered_data_size / original_data_size))"
   ]
  },
  {
   "cell_type": "markdown",
   "id": "3934c937",
   "metadata": {},
   "source": [
    "### 조건3 (별점을 시청횟수로 해석)"
   ]
  },
  {
   "cell_type": "code",
   "execution_count": 4,
   "id": "e23c48e9",
   "metadata": {},
   "outputs": [
    {
     "data": {
      "text/plain": [
       "0          5\n",
       "1          3\n",
       "2          3\n",
       "3          4\n",
       "4          5\n",
       "          ..\n",
       "1000203    3\n",
       "1000205    5\n",
       "1000206    5\n",
       "1000207    4\n",
       "1000208    4\n",
       "Name: counts, Length: 836478, dtype: int64"
      ]
     },
     "execution_count": 4,
     "metadata": {},
     "output_type": "execute_result"
    }
   ],
   "source": [
    "ratings.rename(columns={'ratings':'counts'}, inplace=True) # 칼럼의 이름 변경: ratings -> counts\n",
    "\n",
    "ratings['counts']"
   ]
  },
  {
   "cell_type": "markdown",
   "id": "57c376f7",
   "metadata": {},
   "source": [
    "### Meta Data Load"
   ]
  },
  {
   "cell_type": "code",
   "execution_count": 9,
   "id": "bf67a45c",
   "metadata": {},
   "outputs": [
    {
     "data": {
      "text/html": [
       "<div>\n",
       "<style scoped>\n",
       "    .dataframe tbody tr th:only-of-type {\n",
       "        vertical-align: middle;\n",
       "    }\n",
       "\n",
       "    .dataframe tbody tr th {\n",
       "        vertical-align: top;\n",
       "    }\n",
       "\n",
       "    .dataframe thead th {\n",
       "        text-align: right;\n",
       "    }\n",
       "</style>\n",
       "<table border=\"1\" class=\"dataframe\">\n",
       "  <thead>\n",
       "    <tr style=\"text-align: right;\">\n",
       "      <th></th>\n",
       "      <th>movie_id</th>\n",
       "      <th>title</th>\n",
       "      <th>genre</th>\n",
       "    </tr>\n",
       "  </thead>\n",
       "  <tbody>\n",
       "    <tr>\n",
       "      <th>0</th>\n",
       "      <td>1</td>\n",
       "      <td>Toy Story (1995)</td>\n",
       "      <td>Animation|Children's|Comedy</td>\n",
       "    </tr>\n",
       "    <tr>\n",
       "      <th>1</th>\n",
       "      <td>2</td>\n",
       "      <td>Jumanji (1995)</td>\n",
       "      <td>Adventure|Children's|Fantasy</td>\n",
       "    </tr>\n",
       "    <tr>\n",
       "      <th>2</th>\n",
       "      <td>3</td>\n",
       "      <td>Grumpier Old Men (1995)</td>\n",
       "      <td>Comedy|Romance</td>\n",
       "    </tr>\n",
       "    <tr>\n",
       "      <th>3</th>\n",
       "      <td>4</td>\n",
       "      <td>Waiting to Exhale (1995)</td>\n",
       "      <td>Comedy|Drama</td>\n",
       "    </tr>\n",
       "    <tr>\n",
       "      <th>4</th>\n",
       "      <td>5</td>\n",
       "      <td>Father of the Bride Part II (1995)</td>\n",
       "      <td>Comedy</td>\n",
       "    </tr>\n",
       "  </tbody>\n",
       "</table>\n",
       "</div>"
      ],
      "text/plain": [
       "   movie_id                               title                         genre\n",
       "0         1                    Toy Story (1995)   Animation|Children's|Comedy\n",
       "1         2                      Jumanji (1995)  Adventure|Children's|Fantasy\n",
       "2         3             Grumpier Old Men (1995)                Comedy|Romance\n",
       "3         4            Waiting to Exhale (1995)                  Comedy|Drama\n",
       "4         5  Father of the Bride Part II (1995)                        Comedy"
      ]
     },
     "execution_count": 9,
     "metadata": {},
     "output_type": "execute_result"
    }
   ],
   "source": [
    "movie_file_path=os.getenv('HOME') + '/aiffel/recommendata_iu/data/ml-1m/movies.dat'\n",
    "columns = ['movie_id', 'title', 'genre'] \n",
    "meta_movies = pd.read_csv(movie_file_path, sep='::', names=columns, engine='python', encoding='ISO-8859-1')\n",
    "meta_movies.head()"
   ]
  },
  {
   "cell_type": "markdown",
   "id": "8258d4d5",
   "metadata": {},
   "source": [
    "### 데이터 합치기"
   ]
  },
  {
   "cell_type": "code",
   "execution_count": 10,
   "id": "024b77d8",
   "metadata": {},
   "outputs": [
    {
     "data": {
      "text/html": [
       "<div>\n",
       "<style scoped>\n",
       "    .dataframe tbody tr th:only-of-type {\n",
       "        vertical-align: middle;\n",
       "    }\n",
       "\n",
       "    .dataframe tbody tr th {\n",
       "        vertical-align: top;\n",
       "    }\n",
       "\n",
       "    .dataframe thead th {\n",
       "        text-align: right;\n",
       "    }\n",
       "</style>\n",
       "<table border=\"1\" class=\"dataframe\">\n",
       "  <thead>\n",
       "    <tr style=\"text-align: right;\">\n",
       "      <th></th>\n",
       "      <th>user_id</th>\n",
       "      <th>movie_id</th>\n",
       "      <th>counts</th>\n",
       "      <th>timestep</th>\n",
       "      <th>title</th>\n",
       "      <th>genre</th>\n",
       "    </tr>\n",
       "  </thead>\n",
       "  <tbody>\n",
       "    <tr>\n",
       "      <th>0</th>\n",
       "      <td>1</td>\n",
       "      <td>1193</td>\n",
       "      <td>5</td>\n",
       "      <td>978300760</td>\n",
       "      <td>One Flew Over the Cuckoo's Nest (1975)</td>\n",
       "      <td>Drama</td>\n",
       "    </tr>\n",
       "    <tr>\n",
       "      <th>1</th>\n",
       "      <td>2</td>\n",
       "      <td>1193</td>\n",
       "      <td>5</td>\n",
       "      <td>978298413</td>\n",
       "      <td>One Flew Over the Cuckoo's Nest (1975)</td>\n",
       "      <td>Drama</td>\n",
       "    </tr>\n",
       "    <tr>\n",
       "      <th>2</th>\n",
       "      <td>12</td>\n",
       "      <td>1193</td>\n",
       "      <td>4</td>\n",
       "      <td>978220179</td>\n",
       "      <td>One Flew Over the Cuckoo's Nest (1975)</td>\n",
       "      <td>Drama</td>\n",
       "    </tr>\n",
       "    <tr>\n",
       "      <th>3</th>\n",
       "      <td>15</td>\n",
       "      <td>1193</td>\n",
       "      <td>4</td>\n",
       "      <td>978199279</td>\n",
       "      <td>One Flew Over the Cuckoo's Nest (1975)</td>\n",
       "      <td>Drama</td>\n",
       "    </tr>\n",
       "    <tr>\n",
       "      <th>4</th>\n",
       "      <td>17</td>\n",
       "      <td>1193</td>\n",
       "      <td>5</td>\n",
       "      <td>978158471</td>\n",
       "      <td>One Flew Over the Cuckoo's Nest (1975)</td>\n",
       "      <td>Drama</td>\n",
       "    </tr>\n",
       "    <tr>\n",
       "      <th>...</th>\n",
       "      <td>...</td>\n",
       "      <td>...</td>\n",
       "      <td>...</td>\n",
       "      <td>...</td>\n",
       "      <td>...</td>\n",
       "      <td>...</td>\n",
       "    </tr>\n",
       "    <tr>\n",
       "      <th>836473</th>\n",
       "      <td>5851</td>\n",
       "      <td>3607</td>\n",
       "      <td>5</td>\n",
       "      <td>957756608</td>\n",
       "      <td>One Little Indian (1973)</td>\n",
       "      <td>Comedy|Drama|Western</td>\n",
       "    </tr>\n",
       "    <tr>\n",
       "      <th>836474</th>\n",
       "      <td>5854</td>\n",
       "      <td>3026</td>\n",
       "      <td>4</td>\n",
       "      <td>958346883</td>\n",
       "      <td>Slaughterhouse (1987)</td>\n",
       "      <td>Horror</td>\n",
       "    </tr>\n",
       "    <tr>\n",
       "      <th>836475</th>\n",
       "      <td>5854</td>\n",
       "      <td>690</td>\n",
       "      <td>3</td>\n",
       "      <td>957744257</td>\n",
       "      <td>Promise, The (Versprechen, Das) (1994)</td>\n",
       "      <td>Romance</td>\n",
       "    </tr>\n",
       "    <tr>\n",
       "      <th>836476</th>\n",
       "      <td>5938</td>\n",
       "      <td>2909</td>\n",
       "      <td>4</td>\n",
       "      <td>957273353</td>\n",
       "      <td>Five Wives, Three Secretaries and Me (1998)</td>\n",
       "      <td>Documentary</td>\n",
       "    </tr>\n",
       "    <tr>\n",
       "      <th>836477</th>\n",
       "      <td>5948</td>\n",
       "      <td>1360</td>\n",
       "      <td>5</td>\n",
       "      <td>1016563709</td>\n",
       "      <td>Identification of a Woman (Identificazione di ...</td>\n",
       "      <td>Drama</td>\n",
       "    </tr>\n",
       "  </tbody>\n",
       "</table>\n",
       "<p>836478 rows × 6 columns</p>\n",
       "</div>"
      ],
      "text/plain": [
       "        user_id  movie_id  counts    timestep  \\\n",
       "0             1      1193       5   978300760   \n",
       "1             2      1193       5   978298413   \n",
       "2            12      1193       4   978220179   \n",
       "3            15      1193       4   978199279   \n",
       "4            17      1193       5   978158471   \n",
       "...         ...       ...     ...         ...   \n",
       "836473     5851      3607       5   957756608   \n",
       "836474     5854      3026       4   958346883   \n",
       "836475     5854       690       3   957744257   \n",
       "836476     5938      2909       4   957273353   \n",
       "836477     5948      1360       5  1016563709   \n",
       "\n",
       "                                                    title  \\\n",
       "0                  One Flew Over the Cuckoo's Nest (1975)   \n",
       "1                  One Flew Over the Cuckoo's Nest (1975)   \n",
       "2                  One Flew Over the Cuckoo's Nest (1975)   \n",
       "3                  One Flew Over the Cuckoo's Nest (1975)   \n",
       "4                  One Flew Over the Cuckoo's Nest (1975)   \n",
       "...                                                   ...   \n",
       "836473                           One Little Indian (1973)   \n",
       "836474                              Slaughterhouse (1987)   \n",
       "836475             Promise, The (Versprechen, Das) (1994)   \n",
       "836476        Five Wives, Three Secretaries and Me (1998)   \n",
       "836477  Identification of a Woman (Identificazione di ...   \n",
       "\n",
       "                       genre  \n",
       "0                      Drama  \n",
       "1                      Drama  \n",
       "2                      Drama  \n",
       "3                      Drama  \n",
       "4                      Drama  \n",
       "...                      ...  \n",
       "836473  Comedy|Drama|Western  \n",
       "836474                Horror  \n",
       "836475               Romance  \n",
       "836476           Documentary  \n",
       "836477                 Drama  \n",
       "\n",
       "[836478 rows x 6 columns]"
      ]
     },
     "execution_count": 10,
     "metadata": {},
     "output_type": "execute_result"
    }
   ],
   "source": [
    "on_data = pd.merge(ratings, meta_movies)\n",
    "on_data"
   ]
  },
  {
   "cell_type": "code",
   "execution_count": 11,
   "id": "6a557aad",
   "metadata": {},
   "outputs": [
    {
     "name": "stdout",
     "output_type": "stream",
     "text": [
      "<class 'pandas.core.frame.DataFrame'>\n",
      "Int64Index: 836478 entries, 0 to 836477\n",
      "Data columns (total 6 columns):\n",
      " #   Column    Non-Null Count   Dtype \n",
      "---  ------    --------------   ----- \n",
      " 0   user_id   836478 non-null  int64 \n",
      " 1   movie_id  836478 non-null  int64 \n",
      " 2   counts    836478 non-null  int64 \n",
      " 3   timestep  836478 non-null  int64 \n",
      " 4   title     836478 non-null  object\n",
      " 5   genre     836478 non-null  object\n",
      "dtypes: int64(4), object(2)\n",
      "memory usage: 44.7+ MB\n"
     ]
    }
   ],
   "source": [
    "on_data.info()"
   ]
  },
  {
   "cell_type": "markdown",
   "id": "50e4b963",
   "metadata": {},
   "source": [
    "### 소문자 전환"
   ]
  },
  {
   "cell_type": "code",
   "execution_count": 12,
   "id": "93a03546",
   "metadata": {},
   "outputs": [
    {
     "data": {
      "text/html": [
       "<div>\n",
       "<style scoped>\n",
       "    .dataframe tbody tr th:only-of-type {\n",
       "        vertical-align: middle;\n",
       "    }\n",
       "\n",
       "    .dataframe tbody tr th {\n",
       "        vertical-align: top;\n",
       "    }\n",
       "\n",
       "    .dataframe thead th {\n",
       "        text-align: right;\n",
       "    }\n",
       "</style>\n",
       "<table border=\"1\" class=\"dataframe\">\n",
       "  <thead>\n",
       "    <tr style=\"text-align: right;\">\n",
       "      <th></th>\n",
       "      <th>user_id</th>\n",
       "      <th>movie_id</th>\n",
       "      <th>counts</th>\n",
       "      <th>timestep</th>\n",
       "      <th>title</th>\n",
       "      <th>genre</th>\n",
       "    </tr>\n",
       "  </thead>\n",
       "  <tbody>\n",
       "    <tr>\n",
       "      <th>0</th>\n",
       "      <td>1</td>\n",
       "      <td>1193</td>\n",
       "      <td>5</td>\n",
       "      <td>978300760</td>\n",
       "      <td>one flew over the cuckoo's nest (1975)</td>\n",
       "      <td>drama</td>\n",
       "    </tr>\n",
       "    <tr>\n",
       "      <th>1</th>\n",
       "      <td>2</td>\n",
       "      <td>1193</td>\n",
       "      <td>5</td>\n",
       "      <td>978298413</td>\n",
       "      <td>one flew over the cuckoo's nest (1975)</td>\n",
       "      <td>drama</td>\n",
       "    </tr>\n",
       "    <tr>\n",
       "      <th>2</th>\n",
       "      <td>12</td>\n",
       "      <td>1193</td>\n",
       "      <td>4</td>\n",
       "      <td>978220179</td>\n",
       "      <td>one flew over the cuckoo's nest (1975)</td>\n",
       "      <td>drama</td>\n",
       "    </tr>\n",
       "    <tr>\n",
       "      <th>3</th>\n",
       "      <td>15</td>\n",
       "      <td>1193</td>\n",
       "      <td>4</td>\n",
       "      <td>978199279</td>\n",
       "      <td>one flew over the cuckoo's nest (1975)</td>\n",
       "      <td>drama</td>\n",
       "    </tr>\n",
       "    <tr>\n",
       "      <th>4</th>\n",
       "      <td>17</td>\n",
       "      <td>1193</td>\n",
       "      <td>5</td>\n",
       "      <td>978158471</td>\n",
       "      <td>one flew over the cuckoo's nest (1975)</td>\n",
       "      <td>drama</td>\n",
       "    </tr>\n",
       "    <tr>\n",
       "      <th>5</th>\n",
       "      <td>18</td>\n",
       "      <td>1193</td>\n",
       "      <td>4</td>\n",
       "      <td>978156168</td>\n",
       "      <td>one flew over the cuckoo's nest (1975)</td>\n",
       "      <td>drama</td>\n",
       "    </tr>\n",
       "    <tr>\n",
       "      <th>6</th>\n",
       "      <td>19</td>\n",
       "      <td>1193</td>\n",
       "      <td>5</td>\n",
       "      <td>982730936</td>\n",
       "      <td>one flew over the cuckoo's nest (1975)</td>\n",
       "      <td>drama</td>\n",
       "    </tr>\n",
       "    <tr>\n",
       "      <th>7</th>\n",
       "      <td>24</td>\n",
       "      <td>1193</td>\n",
       "      <td>5</td>\n",
       "      <td>978136709</td>\n",
       "      <td>one flew over the cuckoo's nest (1975)</td>\n",
       "      <td>drama</td>\n",
       "    </tr>\n",
       "    <tr>\n",
       "      <th>8</th>\n",
       "      <td>28</td>\n",
       "      <td>1193</td>\n",
       "      <td>3</td>\n",
       "      <td>978125194</td>\n",
       "      <td>one flew over the cuckoo's nest (1975)</td>\n",
       "      <td>drama</td>\n",
       "    </tr>\n",
       "    <tr>\n",
       "      <th>9</th>\n",
       "      <td>33</td>\n",
       "      <td>1193</td>\n",
       "      <td>5</td>\n",
       "      <td>978557765</td>\n",
       "      <td>one flew over the cuckoo's nest (1975)</td>\n",
       "      <td>drama</td>\n",
       "    </tr>\n",
       "  </tbody>\n",
       "</table>\n",
       "</div>"
      ],
      "text/plain": [
       "   user_id  movie_id  counts   timestep  \\\n",
       "0        1      1193       5  978300760   \n",
       "1        2      1193       5  978298413   \n",
       "2       12      1193       4  978220179   \n",
       "3       15      1193       4  978199279   \n",
       "4       17      1193       5  978158471   \n",
       "5       18      1193       4  978156168   \n",
       "6       19      1193       5  982730936   \n",
       "7       24      1193       5  978136709   \n",
       "8       28      1193       3  978125194   \n",
       "9       33      1193       5  978557765   \n",
       "\n",
       "                                    title  genre  \n",
       "0  one flew over the cuckoo's nest (1975)  drama  \n",
       "1  one flew over the cuckoo's nest (1975)  drama  \n",
       "2  one flew over the cuckoo's nest (1975)  drama  \n",
       "3  one flew over the cuckoo's nest (1975)  drama  \n",
       "4  one flew over the cuckoo's nest (1975)  drama  \n",
       "5  one flew over the cuckoo's nest (1975)  drama  \n",
       "6  one flew over the cuckoo's nest (1975)  drama  \n",
       "7  one flew over the cuckoo's nest (1975)  drama  \n",
       "8  one flew over the cuckoo's nest (1975)  drama  \n",
       "9  one flew over the cuckoo's nest (1975)  drama  "
      ]
     },
     "execution_count": 12,
     "metadata": {},
     "output_type": "execute_result"
    }
   ],
   "source": [
    "on_data['title'] = on_data['title'].str.lower()\n",
    "on_data['genre'] = on_data['genre'].str.lower()\n",
    "on_data.head(10)"
   ]
  },
  {
   "cell_type": "markdown",
   "id": "7414d209",
   "metadata": {},
   "source": [
    "## 2) 분석해 봅시다.  \n",
    "* ratings에 있는 유니크한 영화 개수  \n",
    "* ratings에 있는 유니크한 사용자 수  \n",
    "* 가장 인기 있는 영화 30개(인기순)"
   ]
  },
  {
   "cell_type": "code",
   "execution_count": 38,
   "id": "fc023f47",
   "metadata": {},
   "outputs": [
    {
     "name": "stdout",
     "output_type": "stream",
     "text": [
      "6039\n",
      "3628\n"
     ]
    }
   ],
   "source": [
    "ratings_u_unique = ratings['user_id'].unique()\n",
    "ratings_m_unique = ratings['movie_id'].unique()\n",
    "\n",
    "print(len(ratings_u_unique))\n",
    "print(len(ratings_m_unique))"
   ]
  },
  {
   "cell_type": "code",
   "execution_count": 14,
   "id": "b8d5ed39",
   "metadata": {},
   "outputs": [
    {
     "data": {
      "text/plain": [
       "title\n",
       "american beauty (1999)                                   3211\n",
       "star wars: episode iv - a new hope (1977)                2910\n",
       "star wars: episode v - the empire strikes back (1980)    2885\n",
       "star wars: episode vi - return of the jedi (1983)        2716\n",
       "saving private ryan (1998)                               2561\n",
       "terminator 2: judgment day (1991)                        2509\n",
       "silence of the lambs, the (1991)                         2498\n",
       "raiders of the lost ark (1981)                           2473\n",
       "back to the future (1985)                                2460\n",
       "matrix, the (1999)                                       2434\n",
       "jurassic park (1993)                                     2413\n",
       "sixth sense, the (1999)                                  2385\n",
       "fargo (1996)                                             2371\n",
       "braveheart (1995)                                        2314\n",
       "men in black (1997)                                      2297\n",
       "schindler's list (1993)                                  2257\n",
       "princess bride, the (1987)                               2252\n",
       "shakespeare in love (1998)                               2213\n",
       "l.a. confidential (1997)                                 2210\n",
       "shawshank redemption, the (1994)                         2194\n",
       "godfather, the (1972)                                    2167\n",
       "groundhog day (1993)                                     2121\n",
       "e.t. the extra-terrestrial (1982)                        2102\n",
       "being john malkovich (1999)                              2066\n",
       "ghostbusters (1984)                                      2051\n",
       "pulp fiction (1994)                                      2030\n",
       "forrest gump (1994)                                      2022\n",
       "terminator, the (1984)                                   2019\n",
       "toy story (1995)                                         2000\n",
       "fugitive, the (1993)                                     1941\n",
       "Name: user_id, dtype: int64"
      ]
     },
     "execution_count": 14,
     "metadata": {},
     "output_type": "execute_result"
    }
   ],
   "source": [
    "movies_count = on_data.groupby('title')['user_id'].count()\n",
    "movies_count.sort_values(ascending=False).head(30)"
   ]
  },
  {
   "cell_type": "markdown",
   "id": "c666f33b",
   "metadata": {},
   "source": [
    "## 3) 내가 선호하는 영화를 5가지 골라서 ratings에 추가해 줍시다."
   ]
  },
  {
   "cell_type": "code",
   "execution_count": 39,
   "id": "9ce3f310",
   "metadata": {},
   "outputs": [
    {
     "data": {
      "text/html": [
       "<div>\n",
       "<style scoped>\n",
       "    .dataframe tbody tr th:only-of-type {\n",
       "        vertical-align: middle;\n",
       "    }\n",
       "\n",
       "    .dataframe tbody tr th {\n",
       "        vertical-align: top;\n",
       "    }\n",
       "\n",
       "    .dataframe thead th {\n",
       "        text-align: right;\n",
       "    }\n",
       "</style>\n",
       "<table border=\"1\" class=\"dataframe\">\n",
       "  <thead>\n",
       "    <tr style=\"text-align: right;\">\n",
       "      <th></th>\n",
       "      <th>movie_id</th>\n",
       "      <th>title</th>\n",
       "      <th>genre</th>\n",
       "    </tr>\n",
       "  </thead>\n",
       "  <tbody>\n",
       "    <tr>\n",
       "      <th>585</th>\n",
       "      <td>589</td>\n",
       "      <td>Terminator 2: Judgment Day (1991)</td>\n",
       "      <td>Action|Sci-Fi|Thriller</td>\n",
       "    </tr>\n",
       "  </tbody>\n",
       "</table>\n",
       "</div>"
      ],
      "text/plain": [
       "     movie_id                              title                   genre\n",
       "585       589  Terminator 2: Judgment Day (1991)  Action|Sci-Fi|Thriller"
      ]
     },
     "execution_count": 39,
     "metadata": {},
     "output_type": "execute_result"
    }
   ],
   "source": [
    "search = meta_movies['title'] == 'Terminator 2: Judgment Day (1991)'\n",
    "search = meta_movies[search]\n",
    "search"
   ]
  },
  {
   "cell_type": "code",
   "execution_count": 16,
   "id": "32ca66bf",
   "metadata": {},
   "outputs": [
    {
     "data": {
      "text/html": [
       "<div>\n",
       "<style scoped>\n",
       "    .dataframe tbody tr th:only-of-type {\n",
       "        vertical-align: middle;\n",
       "    }\n",
       "\n",
       "    .dataframe tbody tr th {\n",
       "        vertical-align: top;\n",
       "    }\n",
       "\n",
       "    .dataframe thead th {\n",
       "        text-align: right;\n",
       "    }\n",
       "</style>\n",
       "<table border=\"1\" class=\"dataframe\">\n",
       "  <thead>\n",
       "    <tr style=\"text-align: right;\">\n",
       "      <th></th>\n",
       "      <th>user_id</th>\n",
       "      <th>movie_id</th>\n",
       "      <th>counts</th>\n",
       "      <th>timestep</th>\n",
       "      <th>title</th>\n",
       "      <th>genre</th>\n",
       "    </tr>\n",
       "  </thead>\n",
       "  <tbody>\n",
       "    <tr>\n",
       "      <th>836473</th>\n",
       "      <td>5851</td>\n",
       "      <td>3607</td>\n",
       "      <td>5</td>\n",
       "      <td>9.577566e+08</td>\n",
       "      <td>one little indian (1973)</td>\n",
       "      <td>comedy|drama|western</td>\n",
       "    </tr>\n",
       "    <tr>\n",
       "      <th>836474</th>\n",
       "      <td>5854</td>\n",
       "      <td>3026</td>\n",
       "      <td>4</td>\n",
       "      <td>9.583469e+08</td>\n",
       "      <td>slaughterhouse (1987)</td>\n",
       "      <td>horror</td>\n",
       "    </tr>\n",
       "    <tr>\n",
       "      <th>836475</th>\n",
       "      <td>5854</td>\n",
       "      <td>690</td>\n",
       "      <td>3</td>\n",
       "      <td>9.577443e+08</td>\n",
       "      <td>promise, the (versprechen, das) (1994)</td>\n",
       "      <td>romance</td>\n",
       "    </tr>\n",
       "    <tr>\n",
       "      <th>836476</th>\n",
       "      <td>5938</td>\n",
       "      <td>2909</td>\n",
       "      <td>4</td>\n",
       "      <td>9.572734e+08</td>\n",
       "      <td>five wives, three secretaries and me (1998)</td>\n",
       "      <td>documentary</td>\n",
       "    </tr>\n",
       "    <tr>\n",
       "      <th>836477</th>\n",
       "      <td>5948</td>\n",
       "      <td>1360</td>\n",
       "      <td>5</td>\n",
       "      <td>1.016564e+09</td>\n",
       "      <td>identification of a woman (identificazione di ...</td>\n",
       "      <td>drama</td>\n",
       "    </tr>\n",
       "    <tr>\n",
       "      <th>0</th>\n",
       "      <td>941016</td>\n",
       "      <td>1</td>\n",
       "      <td>5</td>\n",
       "      <td>NaN</td>\n",
       "      <td>toy story (1995)</td>\n",
       "      <td>Animation|Children's|Comedy</td>\n",
       "    </tr>\n",
       "    <tr>\n",
       "      <th>1</th>\n",
       "      <td>941016</td>\n",
       "      <td>7</td>\n",
       "      <td>5</td>\n",
       "      <td>NaN</td>\n",
       "      <td>sabrina (1995)</td>\n",
       "      <td>Comedy|Romance</td>\n",
       "    </tr>\n",
       "    <tr>\n",
       "      <th>2</th>\n",
       "      <td>941016</td>\n",
       "      <td>8</td>\n",
       "      <td>5</td>\n",
       "      <td>NaN</td>\n",
       "      <td>tom and huck (1995)</td>\n",
       "      <td>Adventure|Children's</td>\n",
       "    </tr>\n",
       "    <tr>\n",
       "      <th>3</th>\n",
       "      <td>941016</td>\n",
       "      <td>589</td>\n",
       "      <td>5</td>\n",
       "      <td>NaN</td>\n",
       "      <td>terminator 2: judgment day (1991)</td>\n",
       "      <td>Action|Sci-Fi|Thriller</td>\n",
       "    </tr>\n",
       "    <tr>\n",
       "      <th>4</th>\n",
       "      <td>941016</td>\n",
       "      <td>1250</td>\n",
       "      <td>5</td>\n",
       "      <td>NaN</td>\n",
       "      <td>back to the future (1985)</td>\n",
       "      <td>Comedy|Sci-Fi</td>\n",
       "    </tr>\n",
       "  </tbody>\n",
       "</table>\n",
       "</div>"
      ],
      "text/plain": [
       "        user_id  movie_id  counts      timestep  \\\n",
       "836473     5851      3607       5  9.577566e+08   \n",
       "836474     5854      3026       4  9.583469e+08   \n",
       "836475     5854       690       3  9.577443e+08   \n",
       "836476     5938      2909       4  9.572734e+08   \n",
       "836477     5948      1360       5  1.016564e+09   \n",
       "0        941016         1       5           NaN   \n",
       "1        941016         7       5           NaN   \n",
       "2        941016         8       5           NaN   \n",
       "3        941016       589       5           NaN   \n",
       "4        941016      1250       5           NaN   \n",
       "\n",
       "                                                    title  \\\n",
       "836473                           one little indian (1973)   \n",
       "836474                              slaughterhouse (1987)   \n",
       "836475             promise, the (versprechen, das) (1994)   \n",
       "836476        five wives, three secretaries and me (1998)   \n",
       "836477  identification of a woman (identificazione di ...   \n",
       "0                                        toy story (1995)   \n",
       "1                                          sabrina (1995)   \n",
       "2                                     tom and huck (1995)   \n",
       "3                       terminator 2: judgment day (1991)   \n",
       "4                               back to the future (1985)   \n",
       "\n",
       "                              genre  \n",
       "836473         comedy|drama|western  \n",
       "836474                       horror  \n",
       "836475                      romance  \n",
       "836476                  documentary  \n",
       "836477                        drama  \n",
       "0       Animation|Children's|Comedy  \n",
       "1                    Comedy|Romance  \n",
       "2              Adventure|Children's  \n",
       "3            Action|Sci-Fi|Thriller  \n",
       "4                     Comedy|Sci-Fi  "
      ]
     },
     "execution_count": 16,
     "metadata": {},
     "output_type": "execute_result"
    }
   ],
   "source": [
    "my_favorite = ['toy story (1995)' , 'sabrina (1995)' ,'tom and huck (1995)' ,'terminator 2: judgment day (1991)' ,'back to the future (1985)']\n",
    "m_genre = [\"Animation|Children's|Comedy\", \"Comedy|Romance\", \"Adventure|Children's\", \"Action|Sci-Fi|Thriller\", \"Comedy|Sci-Fi\"]\n",
    "m_movie_id = [1, 7, 8, 589, 1250]\n",
    "my_playlist = pd.DataFrame({'user_id': [941016]*5, 'title': my_favorite, 'genre': m_genre, 'movie_id': m_movie_id, 'counts':[5]*5})\n",
    "\n",
    "if not on_data.isin({'user_id':[941016]})['user_id'].any(): \n",
    "    on_data = on_data.append(my_playlist)   \n",
    "\n",
    "on_data.tail(10)"
   ]
  },
  {
   "cell_type": "code",
   "execution_count": 17,
   "id": "6cd1e067",
   "metadata": {},
   "outputs": [
    {
     "name": "stdout",
     "output_type": "stream",
     "text": [
      "6039\n",
      "40\n"
     ]
    }
   ],
   "source": [
    "user_unique = on_data['user_id'].unique()\n",
    "title_unique = on_data['title'].unique()\n",
    "\n",
    "user_to_idx = {v:k for k,v in enumerate(user_unique)}\n",
    "title_to_idx = {v:k for k,v in enumerate(title_unique)}\n",
    "\n",
    "print(user_to_idx[941016])\n",
    "print(title_to_idx['toy story (1995)'])"
   ]
  },
  {
   "cell_type": "code",
   "execution_count": 18,
   "id": "96ad05c1",
   "metadata": {},
   "outputs": [
    {
     "name": "stdout",
     "output_type": "stream",
     "text": [
      "user_id column indexing OK!!\n",
      "title column indexing OK!!\n"
     ]
    },
    {
     "data": {
      "text/html": [
       "<div>\n",
       "<style scoped>\n",
       "    .dataframe tbody tr th:only-of-type {\n",
       "        vertical-align: middle;\n",
       "    }\n",
       "\n",
       "    .dataframe tbody tr th {\n",
       "        vertical-align: top;\n",
       "    }\n",
       "\n",
       "    .dataframe thead th {\n",
       "        text-align: right;\n",
       "    }\n",
       "</style>\n",
       "<table border=\"1\" class=\"dataframe\">\n",
       "  <thead>\n",
       "    <tr style=\"text-align: right;\">\n",
       "      <th></th>\n",
       "      <th>user_id</th>\n",
       "      <th>movie_id</th>\n",
       "      <th>counts</th>\n",
       "      <th>timestep</th>\n",
       "      <th>title</th>\n",
       "      <th>genre</th>\n",
       "    </tr>\n",
       "  </thead>\n",
       "  <tbody>\n",
       "    <tr>\n",
       "      <th>0</th>\n",
       "      <td>0</td>\n",
       "      <td>1193</td>\n",
       "      <td>5</td>\n",
       "      <td>978300760.0</td>\n",
       "      <td>0</td>\n",
       "      <td>drama</td>\n",
       "    </tr>\n",
       "    <tr>\n",
       "      <th>1</th>\n",
       "      <td>1</td>\n",
       "      <td>1193</td>\n",
       "      <td>5</td>\n",
       "      <td>978298413.0</td>\n",
       "      <td>0</td>\n",
       "      <td>drama</td>\n",
       "    </tr>\n",
       "    <tr>\n",
       "      <th>2</th>\n",
       "      <td>2</td>\n",
       "      <td>1193</td>\n",
       "      <td>4</td>\n",
       "      <td>978220179.0</td>\n",
       "      <td>0</td>\n",
       "      <td>drama</td>\n",
       "    </tr>\n",
       "    <tr>\n",
       "      <th>3</th>\n",
       "      <td>3</td>\n",
       "      <td>1193</td>\n",
       "      <td>4</td>\n",
       "      <td>978199279.0</td>\n",
       "      <td>0</td>\n",
       "      <td>drama</td>\n",
       "    </tr>\n",
       "    <tr>\n",
       "      <th>4</th>\n",
       "      <td>4</td>\n",
       "      <td>1193</td>\n",
       "      <td>5</td>\n",
       "      <td>978158471.0</td>\n",
       "      <td>0</td>\n",
       "      <td>drama</td>\n",
       "    </tr>\n",
       "    <tr>\n",
       "      <th>...</th>\n",
       "      <td>...</td>\n",
       "      <td>...</td>\n",
       "      <td>...</td>\n",
       "      <td>...</td>\n",
       "      <td>...</td>\n",
       "      <td>...</td>\n",
       "    </tr>\n",
       "    <tr>\n",
       "      <th>0</th>\n",
       "      <td>6039</td>\n",
       "      <td>1</td>\n",
       "      <td>5</td>\n",
       "      <td>NaN</td>\n",
       "      <td>40</td>\n",
       "      <td>Animation|Children's|Comedy</td>\n",
       "    </tr>\n",
       "    <tr>\n",
       "      <th>1</th>\n",
       "      <td>6039</td>\n",
       "      <td>7</td>\n",
       "      <td>5</td>\n",
       "      <td>NaN</td>\n",
       "      <td>516</td>\n",
       "      <td>Comedy|Romance</td>\n",
       "    </tr>\n",
       "    <tr>\n",
       "      <th>2</th>\n",
       "      <td>6039</td>\n",
       "      <td>8</td>\n",
       "      <td>5</td>\n",
       "      <td>NaN</td>\n",
       "      <td>1980</td>\n",
       "      <td>Adventure|Children's</td>\n",
       "    </tr>\n",
       "    <tr>\n",
       "      <th>3</th>\n",
       "      <td>6039</td>\n",
       "      <td>589</td>\n",
       "      <td>5</td>\n",
       "      <td>NaN</td>\n",
       "      <td>92</td>\n",
       "      <td>Action|Sci-Fi|Thriller</td>\n",
       "    </tr>\n",
       "    <tr>\n",
       "      <th>4</th>\n",
       "      <td>6039</td>\n",
       "      <td>1250</td>\n",
       "      <td>5</td>\n",
       "      <td>NaN</td>\n",
       "      <td>22</td>\n",
       "      <td>Comedy|Sci-Fi</td>\n",
       "    </tr>\n",
       "  </tbody>\n",
       "</table>\n",
       "<p>836483 rows × 6 columns</p>\n",
       "</div>"
      ],
      "text/plain": [
       "    user_id  movie_id  counts     timestep  title                        genre\n",
       "0         0      1193       5  978300760.0      0                        drama\n",
       "1         1      1193       5  978298413.0      0                        drama\n",
       "2         2      1193       4  978220179.0      0                        drama\n",
       "3         3      1193       4  978199279.0      0                        drama\n",
       "4         4      1193       5  978158471.0      0                        drama\n",
       "..      ...       ...     ...          ...    ...                          ...\n",
       "0      6039         1       5          NaN     40  Animation|Children's|Comedy\n",
       "1      6039         7       5          NaN    516               Comedy|Romance\n",
       "2      6039         8       5          NaN   1980         Adventure|Children's\n",
       "3      6039       589       5          NaN     92       Action|Sci-Fi|Thriller\n",
       "4      6039      1250       5          NaN     22                Comedy|Sci-Fi\n",
       "\n",
       "[836483 rows x 6 columns]"
      ]
     },
     "execution_count": 18,
     "metadata": {},
     "output_type": "execute_result"
    }
   ],
   "source": [
    "temp_user_data = on_data['user_id'].map(user_to_idx.get).dropna()\n",
    "if len(temp_user_data) == len(on_data):   # 모든 row가 정상적으로 인덱싱되었다면\n",
    "    print('user_id column indexing OK!!')\n",
    "    on_data['user_id'] = temp_user_data   # data['user_id']을 인덱싱된 Series로 교체해 줍니다. \n",
    "else:\n",
    "    print('user_id column indexing Fail!!')\n",
    "\n",
    "# artist_to_idx을 통해 artist 컬럼도 동일한 방식으로 인덱싱해 줍니다. \n",
    "temp_title_data = on_data['title'].map(title_to_idx.get).dropna()\n",
    "if len(temp_title_data) == len(on_data):\n",
    "    print('title column indexing OK!!')\n",
    "    on_data['title'] = temp_title_data\n",
    "else:\n",
    "    print('title column indexing Fail!!')\n",
    "\n",
    "on_data"
   ]
  },
  {
   "cell_type": "markdown",
   "id": "5c41db99",
   "metadata": {},
   "source": [
    "## 4) CSR matrix를 직접 만들어 봅시다."
   ]
  },
  {
   "cell_type": "code",
   "execution_count": 40,
   "id": "efead07d",
   "metadata": {},
   "outputs": [
    {
     "data": {
      "text/plain": [
       "<6040x3953 sparse matrix of type '<class 'numpy.int64'>'\n",
       "\twith 836483 stored elements in Compressed Sparse Row format>"
      ]
     },
     "execution_count": 40,
     "metadata": {},
     "output_type": "execute_result"
    }
   ],
   "source": [
    "csr_data = csr_matrix((on_data.counts, (on_data.user_id, on_data.movie_id)))\n",
    "csr_data"
   ]
  },
  {
   "cell_type": "markdown",
   "id": "68639f6c",
   "metadata": {},
   "source": [
    "## 5) als_model = AlternatingLeastSquares 모델을 직접 구성하여 훈련시켜 봅시다."
   ]
  },
  {
   "cell_type": "code",
   "execution_count": 20,
   "id": "809ca77e",
   "metadata": {},
   "outputs": [],
   "source": [
    "# implicit 라이브러리에서 권장하고 있는 부분\n",
    "os.environ['OPENBLAS_NUM_THREADS']='1'\n",
    "os.environ['KMP_DUPLICATE_LIB_OK']='True'\n",
    "os.environ['MKL_NUM_THREADS']='1'"
   ]
  },
  {
   "cell_type": "code",
   "execution_count": 21,
   "id": "38b0c458",
   "metadata": {},
   "outputs": [],
   "source": [
    "# Implicit AlternatingLeastSquares 모델 선언\n",
    "als_model = AlternatingLeastSquares(factors=100, regularization=0.01, use_gpu=False, iterations=15, dtype=np.float32)"
   ]
  },
  {
   "cell_type": "code",
   "execution_count": 22,
   "id": "4fa63990",
   "metadata": {},
   "outputs": [
    {
     "data": {
      "text/plain": [
       "<3953x6040 sparse matrix of type '<class 'numpy.int64'>'\n",
       "\twith 836483 stored elements in Compressed Sparse Column format>"
      ]
     },
     "execution_count": 22,
     "metadata": {},
     "output_type": "execute_result"
    }
   ],
   "source": [
    "csr_data_transpose = csr_data.T\n",
    "csr_data_transpose"
   ]
  },
  {
   "cell_type": "code",
   "execution_count": 23,
   "id": "48618e03",
   "metadata": {},
   "outputs": [
    {
     "data": {
      "application/vnd.jupyter.widget-view+json": {
       "model_id": "bfa908f45c3e43d1b81ef2154ccec537",
       "version_major": 2,
       "version_minor": 0
      },
      "text/plain": [
       "  0%|          | 0/15 [00:00<?, ?it/s]"
      ]
     },
     "metadata": {},
     "output_type": "display_data"
    }
   ],
   "source": [
    "als_model.fit(csr_data_transpose)"
   ]
  },
  {
   "cell_type": "markdown",
   "id": "731ef5f9",
   "metadata": {},
   "source": [
    "## 6) 내가 선호하는 5가지 영화 중 하나와 그 외의 영화 하나를 골라 훈련된 모델이 예측한 나의 선호도를 파악해 보세요."
   ]
  },
  {
   "cell_type": "code",
   "execution_count": 24,
   "id": "98531405",
   "metadata": {},
   "outputs": [],
   "source": [
    "jongin, toystory = user_to_idx[941016], title_to_idx['toy story (1995)']\n",
    "jongin_vector, toystory_vector = als_model.user_factors[jongin], als_model.item_factors[toystory]"
   ]
  },
  {
   "cell_type": "code",
   "execution_count": 25,
   "id": "bcdeb206",
   "metadata": {},
   "outputs": [
    {
     "data": {
      "text/plain": [
       "array([ 8.26952383e-02, -6.39586926e-01,  6.11850023e-02, -6.22176588e-01,\n",
       "       -3.10445596e-02,  1.94764867e-01, -8.92985538e-02,  7.50813544e-01,\n",
       "        1.01844035e-01,  3.32128972e-01,  5.70070520e-02,  7.64781535e-02,\n",
       "        3.85877222e-01, -2.75129706e-01,  4.17853221e-02,  1.38045490e-01,\n",
       "        3.66071582e-01,  8.27991486e-01,  8.36456269e-02, -7.28167302e-04,\n",
       "        2.44017035e-01,  8.21215630e-01, -5.54360263e-03, -7.89419711e-02,\n",
       "        1.61210045e-01, -1.19738746e+00, -4.70198125e-01, -3.43630649e-02,\n",
       "       -7.52937675e-01,  2.34842375e-02, -6.77652180e-01,  1.82007164e-01,\n",
       "        3.03392839e-02, -6.80458993e-02,  1.85475558e-01,  4.51183051e-01,\n",
       "       -2.20080495e-01, -4.44128811e-01,  3.92112523e-01, -2.06695065e-01,\n",
       "        5.62118948e-01, -2.79512227e-01,  3.18750739e-01,  6.69550300e-02,\n",
       "        2.42279887e-01, -4.22752127e-02, -9.76645648e-01,  3.89243782e-01,\n",
       "        1.48799434e-01,  8.80064368e-02,  6.13108575e-01,  2.87580401e-01,\n",
       "       -1.99603289e-01,  1.33764595e-01, -7.99157321e-02,  4.45662379e-01,\n",
       "        5.71991205e-01, -5.07422149e-01, -1.88799590e-01,  3.68479341e-01,\n",
       "       -4.31637198e-01, -3.48147303e-01, -4.34754968e-01,  4.37513828e-01,\n",
       "        1.83897093e-01, -4.56629634e-01,  2.40152359e-01,  3.06929201e-01,\n",
       "       -2.11185440e-01, -9.79413867e-01,  5.29391468e-01,  4.88547385e-01,\n",
       "       -7.85289407e-02,  5.31294167e-01,  5.85630596e-01,  4.19126183e-01,\n",
       "        2.46786878e-01, -6.28338814e-01,  3.10857221e-02, -1.14292294e-01,\n",
       "        4.85218078e-01, -4.33973223e-01,  9.77181271e-02, -5.76118112e-01,\n",
       "        2.60094196e-01, -6.87990338e-03,  3.34206931e-02,  1.64601803e-02,\n",
       "       -1.16756523e+00,  5.52337468e-01,  4.03277218e-01, -3.72281402e-01,\n",
       "        4.83398825e-01, -4.25641060e-01,  7.01829910e-01, -3.84615421e-01,\n",
       "        1.16049871e-01, -2.05550954e-01,  2.75422744e-02, -3.20221305e-01],\n",
       "      dtype=float32)"
      ]
     },
     "execution_count": 25,
     "metadata": {},
     "output_type": "execute_result"
    }
   ],
   "source": [
    "jongin_vector"
   ]
  },
  {
   "cell_type": "code",
   "execution_count": 26,
   "id": "1917235c",
   "metadata": {},
   "outputs": [
    {
     "data": {
      "text/plain": [
       "array([ 2.0221947e-03,  6.6396326e-04,  4.0941164e-03,  2.2344163e-03,\n",
       "        5.2766451e-03,  8.0708414e-03,  8.0652572e-03,  1.0879729e-05,\n",
       "        1.0063500e-02,  4.5771715e-03,  2.4552287e-03,  5.5077346e-03,\n",
       "        1.2650546e-02, -8.5381896e-04, -6.7320623e-04,  4.0129079e-03,\n",
       "        1.1680644e-02,  7.0188800e-03,  7.5657256e-03,  1.2243949e-04,\n",
       "        1.6408139e-04,  2.0741830e-03, -1.3491101e-04,  1.5010755e-03,\n",
       "        2.9007830e-03,  6.2067289e-04, -2.1538264e-03, -2.5678352e-03,\n",
       "       -6.1850145e-04,  3.5095240e-03,  4.0303143e-03,  3.7288556e-03,\n",
       "       -1.9875767e-03, -8.0317138e-03,  4.4823191e-03,  7.4947351e-03,\n",
       "        6.7025893e-03,  3.4190384e-03,  6.2641758e-03,  3.4450006e-03,\n",
       "        7.1360543e-03, -2.1572993e-03,  2.5073034e-03, -6.6100485e-03,\n",
       "        1.0089380e-02,  8.3452753e-05,  9.2467861e-03,  4.8350212e-03,\n",
       "        5.5364245e-03,  2.5824630e-03, -1.7285538e-03,  4.5125545e-03,\n",
       "        8.6392602e-03,  8.2017825e-04,  4.4155624e-03,  1.0297126e-02,\n",
       "        1.4708651e-03,  7.8178803e-03,  3.3253005e-03,  6.0201185e-03,\n",
       "        3.7557743e-03,  3.1568203e-03,  3.2460061e-03,  5.9298645e-03,\n",
       "        3.8635854e-03,  6.6944510e-03, -1.3431078e-03, -1.1960803e-04,\n",
       "        7.4028107e-03,  5.9018624e-03, -3.3273026e-03,  6.4796754e-05,\n",
       "        6.4591826e-03,  5.3989897e-03,  3.2870888e-03,  7.7639185e-03,\n",
       "       -1.4466165e-04, -6.4298706e-03,  7.9783686e-03,  9.1768941e-03,\n",
       "       -4.6048765e-03,  4.9689799e-03,  1.5254856e-04,  2.1602374e-03,\n",
       "        1.8559520e-04,  2.5990990e-03,  1.5186523e-04,  9.4903233e-03,\n",
       "        4.3220376e-03,  1.7546465e-03, -1.2932387e-03,  8.1510274e-03,\n",
       "       -3.4596719e-04,  4.7411565e-03, -6.4383767e-04,  5.0145946e-03,\n",
       "        2.8792170e-03,  4.5159110e-03, -4.7985236e-03,  7.1741883e-03],\n",
       "      dtype=float32)"
      ]
     },
     "execution_count": 26,
     "metadata": {},
     "output_type": "execute_result"
    }
   ],
   "source": [
    "toystory_vector"
   ]
  },
  {
   "cell_type": "code",
   "execution_count": 27,
   "id": "4f9527cd",
   "metadata": {},
   "outputs": [
    {
     "data": {
      "text/plain": [
       "0.0075875977"
      ]
     },
     "execution_count": 27,
     "metadata": {},
     "output_type": "execute_result"
    }
   ],
   "source": [
    "terminator2 = title_to_idx['terminator 2: judgment day (1991)']\n",
    "terminator2_vector = als_model.item_factors[terminator2]\n",
    "np.dot(jongin_vector, terminator2_vector)"
   ]
  },
  {
   "cell_type": "markdown",
   "id": "f24d1e0e",
   "metadata": {},
   "source": [
    "## 7) 내가 좋아하는 영화와 비슷한 영화를 추천받아 봅시다."
   ]
  },
  {
   "cell_type": "markdown",
   "id": "ea25949d",
   "metadata": {},
   "source": [
    "### 비슷한 영화 찾아보기"
   ]
  },
  {
   "cell_type": "code",
   "execution_count": 28,
   "id": "6cd72547",
   "metadata": {},
   "outputs": [
    {
     "data": {
      "text/plain": [
       "[(40, 0.99999994),\n",
       " (1728, 0.738816),\n",
       " (1650, 0.7373177),\n",
       " (767, 0.7364777),\n",
       " (2711, 0.7248861),\n",
       " (1725, 0.715718),\n",
       " (1399, 0.7084223),\n",
       " (3374, 0.7059733),\n",
       " (2341, 0.7051515),\n",
       " (3222, 0.70449275),\n",
       " (219, 0.69795),\n",
       " (2214, 0.6927961),\n",
       " (753, 0.69232374),\n",
       " (1510, 0.6916561),\n",
       " (584, 0.6914247)]"
      ]
     },
     "execution_count": 28,
     "metadata": {},
     "output_type": "execute_result"
    }
   ],
   "source": [
    "favorite_list = 'toy story (1995)'\n",
    "title_id = title_to_idx[favorite_list]\n",
    "similar_list = als_model.similar_items(title_id, N=15)\n",
    "similar_list"
   ]
  },
  {
   "cell_type": "code",
   "execution_count": 29,
   "id": "12bdefd7",
   "metadata": {},
   "outputs": [
    {
     "data": {
      "text/plain": [
       "['toy story (1995)',\n",
       " 'black and white (1999)',\n",
       " 'river wild, the (1994)',\n",
       " 'medicine man (1992)',\n",
       " 'smile like yours, a (1997)',\n",
       " 'beach, the (2000)',\n",
       " 'howling, the (1980)',\n",
       " 'peanuts - die bank zahlt alles (1996)',\n",
       " 'my bodyguard (1980)',\n",
       " 'jerry springer: ringmaster (1998)',\n",
       " 'pokémon the movie 2000 (2000)',\n",
       " 'money train (1995)',\n",
       " 'dog day afternoon (1975)',\n",
       " 'parent trap, the (1998)',\n",
       " 'star trek iii: the search for spock (1984)']"
      ]
     },
     "execution_count": 29,
     "metadata": {},
     "output_type": "execute_result"
    }
   ],
   "source": [
    "idx_to_title = {v:k for k,v in title_to_idx.items()}\n",
    "[idx_to_title[i[0]] for i in similar_list]"
   ]
  },
  {
   "cell_type": "markdown",
   "id": "7c466714",
   "metadata": {},
   "source": [
    "### 추천영화 함수 적용"
   ]
  },
  {
   "cell_type": "code",
   "execution_count": 30,
   "id": "dbeb5eb5",
   "metadata": {},
   "outputs": [],
   "source": [
    "def get_similar_list(movies_name: str):\n",
    "    title_id = title_to_idx[movies_name]\n",
    "    similar_list = als_model.similar_items(title_id)\n",
    "    similar_list = [idx_to_title[i[0]] for i in similar_list]\n",
    "    return similar_list"
   ]
  },
  {
   "cell_type": "code",
   "execution_count": 31,
   "id": "4931f9fd",
   "metadata": {},
   "outputs": [
    {
     "data": {
      "text/plain": [
       "['terminator 2: judgment day (1991)',\n",
       " 'six degrees of separation (1993)',\n",
       " 'patch adams (1998)',\n",
       " 'blair witch project, the (1999)',\n",
       " 'trust (1990)',\n",
       " 'kramer vs. kramer (1979)',\n",
       " 'mamma roma (1962)',\n",
       " 'frequency (2000)',\n",
       " 'funeral, the (1996)',\n",
       " 'heartburn (1986)']"
      ]
     },
     "execution_count": 31,
     "metadata": {},
     "output_type": "execute_result"
    }
   ],
   "source": [
    "get_similar_list('terminator 2: judgment day (1991)')"
   ]
  },
  {
   "cell_type": "markdown",
   "id": "e54797b1",
   "metadata": {},
   "source": [
    "## 8) 내가 가장 좋아할 만한 영화들을 추천받아 봅시다."
   ]
  },
  {
   "cell_type": "code",
   "execution_count": 32,
   "id": "b419f498",
   "metadata": {},
   "outputs": [
    {
     "data": {
      "text/plain": [
       "[(3114, 0.42805135),\n",
       " (1249, 0.32298952),\n",
       " (2571, 0.3212131),\n",
       " (480, 0.2734895),\n",
       " (110, 0.26518878),\n",
       " (2355, 0.2505411),\n",
       " (1580, 0.24305056),\n",
       " (1240, 0.23007728),\n",
       " (551, 0.22243446),\n",
       " (34, 0.22062032),\n",
       " (457, 0.2199234),\n",
       " (356, 0.20804015),\n",
       " (1265, 0.197525),\n",
       " (588, 0.18994233),\n",
       " (2028, 0.18964885),\n",
       " (1610, 0.1854386),\n",
       " (908, 0.184116),\n",
       " (3196, 0.18357435),\n",
       " (3175, 0.1809688),\n",
       " (2916, 0.16976361)]"
      ]
     },
     "execution_count": 32,
     "metadata": {},
     "output_type": "execute_result"
    }
   ],
   "source": [
    "user = user_to_idx[941016]\n",
    "# recommend에서는 user*item CSR Matrix를 받습니다.\n",
    "title_recommended = als_model.recommend(user, csr_data, N=20)\n",
    "title_recommended"
   ]
  },
  {
   "cell_type": "code",
   "execution_count": 33,
   "id": "ee8f0590",
   "metadata": {},
   "outputs": [
    {
     "data": {
      "text/plain": [
       "['bloodsport 2 (1995)',\n",
       " 'how to be a player (1997)',\n",
       " \"soldier's daughter never cries, a (1998)\",\n",
       " 'grand day out, a (1992)',\n",
       " 'groundhog day (1993)',\n",
       " 'blind date (1987)',\n",
       " 'paper, the (1994)',\n",
       " 'when a man loves a woman (1994)',\n",
       " 'peter pan (1953)',\n",
       " 'mulan (1998)',\n",
       " 'nell (1994)',\n",
       " 'legends of the fall (1994)',\n",
       " 'crush, the (1993)',\n",
       " 'roman holiday (1953)',\n",
       " 'jean de florette (1986)',\n",
       " 'friday the 13th part viii: jason takes manhattan (1989)',\n",
       " 'metropolis (1926)',\n",
       " 'confessional, the (le confessionnal) (1995)',\n",
       " 'twice upon a yesterday (1998)',\n",
       " 'omega code, the (1999)']"
      ]
     },
     "execution_count": 33,
     "metadata": {},
     "output_type": "execute_result"
    }
   ],
   "source": [
    "[idx_to_title[i[0]] for i in title_recommended]"
   ]
  },
  {
   "cell_type": "markdown",
   "id": "466fe761",
   "metadata": {},
   "source": [
    "### 추천 이유 알아보기"
   ]
  },
  {
   "cell_type": "code",
   "execution_count": 36,
   "id": "5a5aa465",
   "metadata": {},
   "outputs": [
    {
     "data": {
      "text/plain": [
       "(0.4230032128983794,\n",
       " [(1, 0.4173190966634835),\n",
       "  (7, 0.02497016141051937),\n",
       "  (1250, 0.02175104167841982),\n",
       "  (8, -0.012899909716154675),\n",
       "  (589, -0.02813717713788861)],\n",
       " (array([[ 0.59805249,  0.11100076,  0.11931466, ...,  0.13947269,\n",
       "           0.11390734,  0.11092701],\n",
       "         [ 0.06638428,  0.59574122,  0.10195698, ...,  0.08246829,\n",
       "           0.10421602,  0.09922824],\n",
       "         [ 0.07135643,  0.073984  ,  0.5935483 , ...,  0.09204605,\n",
       "           0.07057235,  0.0882191 ],\n",
       "         ...,\n",
       "         [ 0.08341199,  0.06461134,  0.07968313, ...,  0.51437907,\n",
       "          -0.00431868,  0.01597846],\n",
       "         [ 0.06812257,  0.07472958,  0.06610447, ...,  0.06542731,\n",
       "           0.53254756, -0.00091038],\n",
       "         [ 0.06634018,  0.07142734,  0.07571453, ...,  0.0950118 ,\n",
       "           0.06492474,  0.5221348 ]]),\n",
       "  False))"
      ]
     },
     "execution_count": 36,
     "metadata": {},
     "output_type": "execute_result"
    }
   ],
   "source": [
    "bloodsport = title_to_idx['bloodsport 2 (1995)']\n",
    "explain = als_model.explain(user, csr_data, itemid=bloodsport)\n",
    "explain"
   ]
  },
  {
   "cell_type": "code",
   "execution_count": 37,
   "id": "8a3742e0",
   "metadata": {},
   "outputs": [
    {
     "data": {
      "text/plain": [
       "[('james and the giant peach (1996)', 0.4173190966634835),\n",
       " ('christmas story, a (1983)', 0.02497016141051937),\n",
       " ('live nude girls (1995)', 0.02175104167841982),\n",
       " ('snow white and the seven dwarfs (1937)', -0.012899909716154675),\n",
       " ('meet me in st. louis (1944)', -0.02813717713788861)]"
      ]
     },
     "execution_count": 37,
     "metadata": {},
     "output_type": "execute_result"
    }
   ],
   "source": [
    "[(idx_to_title[i[0]], i[1]) for i in explain[1]]"
   ]
  },
  {
   "cell_type": "markdown",
   "id": "1dd4be1a",
   "metadata": {},
   "source": [
    "favorite_list 에 적어뒀던 영화 5가지를 가지고 다른 영화를 추천했음을 확인했으며  \n",
    "5가지의 영화의 유사도를 통해 \n",
    "  \n",
    "james and the giant peach (1996)  \n",
    "christmas story, a (1983)  \n",
    "live nude girls (1995)  \n",
    "snow white and the seven dwarfs (1937)  \n",
    "meet me in st. louis (1944)  \n",
    "  \n",
    "라는 영화 5가지가 bloodsport 2 (1995) 영화를 추천할 수 있게 기여를 한것 또한 확인했습니다."
   ]
  },
  {
   "cell_type": "markdown",
   "id": "e88e8788",
   "metadata": {},
   "source": [
    "## 참고문헌 Reference"
   ]
  },
  {
   "cell_type": "markdown",
   "id": "85dd71e4",
   "metadata": {},
   "source": [
    "EXPLORATION_GN5 내용  \n",
    "디스코드 Ex. 13 | 질문있어요"
   ]
  },
  {
   "cell_type": "markdown",
   "id": "955fb9be",
   "metadata": {},
   "source": [
    "## 회고"
   ]
  },
  {
   "cell_type": "markdown",
   "id": "310f4601",
   "metadata": {},
   "source": [
    "지금까지 프로젝트를 많이 해결하지 못해 많은 아쉬움이 있었습니다.    \n",
    "이번 방학기간에 밀린 프로젝트를 전부 마무리 짓고 다음주 수업부터는 프로젝트를 밀리지 않는 방향으로  \n",
    "시간을 사용해야겠다 생각했으며 프로젝트는 밀리면 감당 안된다는... 초반 퍼실님들의 말씀을 떠올리며.. 이번 프로젝트를 제출합니다.  \n",
    "  \n",
    "1) 데이터 준비와 전처리  \n",
    "데이터 준비와 전처리 과정에선 조건에 따른 전처리 방법을 LMS에 나온 내용대로 진행 해봤으며  \n",
    "추가적인 내용으론 영화의 제목들을 전부 소문자로 변경해줘 검색하기 편하게 바꿔주었고  \n",
    "어떤식으로 전처리가 되는지의 과정을 이해하고 넘어갔던 부분입니다. 그리고 처음에는 Meta Data를 어떻게 사용하는걸까? 생각했었으나  \n",
    "merge 를 활용, 기존 ratings data 와 결합하여 moive_id 를 title 로서 직관적으로 확인할 수 있게 진행했었고  \n",
    "나름대로의 만족스러운 결과가 나온것을 확인할 수 있었습니다.  \n",
    "  \n",
    "2) 분석해 봅시다.  \n",
    "unique() 라는 method를 활용해 고유값으로 확인했으며 고유값은 곧 중복되는 값을 제거한다는 뜻과 같다고 이해했던 부분이며  \n",
    "겹치지 않는 각 영화의 갯수와 사용자의 수를 확인했고 가장 인기 있는 영화 30개도 merge 를 활용했던 부분 덕분에  \n",
    "직관적으로 어떤 영화가 인기가 있었는지도 title 제목으로 직접 볼 수 있었습니다.  \n",
    "  \n",
    "3) 내가 선호하는 영화를 5가지 골라서 ratings에 추가해 줍시다.  \n",
    "개인적으로... 선호하는 영화는 toy story 뿐이었으며 나머지 4가지 영화에 대해선 보지 않았었던 영화였습니다.  \n",
    "(너무 옛날 영화에요!!)  \n",
    "테스트를 위해 5가지 영화를 추가해줬으며 영화제목 뿐 아니라  \n",
    "조건문을 활용하여 movie_id, genre 값에 대해서도 확인 후 같이 추가해줬으며 user_id 부분에선 생일을 입력시켜 추가했습니다.  \n",
    "user_id 에 이름이 아닌 생일을 입력시킨 이유는 후에 CSR matrix를 만들 때 user_id 는 원래 int 값으로 이루어진 DataFrame 인데  \n",
    "여기에 str 값으로 이름을 대입시키면 int 와 str 값의 충돌로 error가 나기 때문에 int 값의 생일로 입력을 해줬습니다.  \n",
    "또한 모델에 입력할 vocab 과 비슷한 내용의 title to index 등의 내용을 unique 처리, index 값을 지정 및 key 와 value 의 값의 위치를  \n",
    "변경하여 하나의 변수값으로 대입해줬으며 CSR matrix를 만들기 전 index 값으로 묶어둔 data 들이 unique 값으로 설정됐기 때문에  \n",
    "기존 DataFrame 의 값도 unique 값으로 설정하여 CSR matrix 의 내용도 unique 값으로 나타날 수 있게 전처리 진행했습니다.  \n",
    "  \n",
    "4) CSR matrix를 직접 만들어 봅시다.  \n",
    "처음엔 shape 값을 nunique(nuique 값의 갯수) 한 값으로 지정하여 실행 시켰을땐 error가 났었지만  \n",
    "이후 디스코드를 통한 하주완 그루님의 도움으로 shape 값을 뺀 후 진행, 정상진행 되는것을 확인했으며  \n",
    "조웅제 퍼실님의 shape 값 사용의 이유에 대해서도 알 수 있었던 내용이었습니다.  \n",
    "  \n",
    "5) als_model = AlternatingLeastSquares 모델을 직접 구성하여 훈련시켜 봅시다.  \n",
    "LMS 내용을 토대로 만들어둔 CSR matrix를 모델에 넣어 구성 및 훈련을 진행 시켰습니다.  \n",
    "  \n",
    "6) 내가 선호하는 5가지 영화 중 하나와 그 외의 영화 하나를 골라 훈련된 모델이 예측한 나의 선호도를 파악해 보세요.  \n",
    "toy story (1995)를 선호하여 toy story (1995)와 terminator2 의 선호도를 확인해봤습니다.  \n",
    "  \n",
    "7) 내가 좋아하는 영화와 비슷한 영화를 추천받아 봅시다.  \n",
    "toy story (1995)를 가장 좋아하는 영화로 지정했으며 similar metho 를 직접 사용해 toy story와 연관성 있는  \n",
    "영화 15가지를 직접 추천받아 봤으며 연관성 점수도 같이 확인 할 수 있었으며, 이전에 배웠던 hitmap 과 비슷한 내용으로  \n",
    "생각하고 진행했던 내용이었습니다.  \n",
    "  \n",
    "8) 내가 가장 좋아할 만한 영화들을 추천받아 봅시다.  \n",
    "bloodsport 2 (1995) 를.. 추천 받았는데 제목만 봐도.. 그렇게 좋아할 만한 영화는 아니었으나  \n",
    "가장 높은 점수인 0.42805135 으로 나온것을 확인 할 수 있었으며  \n",
    "영화추천의 경우는 사용자 기반으로 추천보단 아이템 기반으로 추천하는 것이 더 좋을 수 있다고  \n",
    "생각하게 됐었던 내용이었습니다."
   ]
  }
 ],
 "metadata": {
  "kernelspec": {
   "display_name": "Python 3 (ipykernel)",
   "language": "python",
   "name": "python3"
  },
  "language_info": {
   "codemirror_mode": {
    "name": "ipython",
    "version": 3
   },
   "file_extension": ".py",
   "mimetype": "text/x-python",
   "name": "python",
   "nbconvert_exporter": "python",
   "pygments_lexer": "ipython3",
   "version": "3.9.7"
  }
 },
 "nbformat": 4,
 "nbformat_minor": 5
}
