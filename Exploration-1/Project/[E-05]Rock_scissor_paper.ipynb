{
 "cells": [
  {
   "cell_type": "markdown",
   "metadata": {},
   "source": [
    "# [E-05]Rock_scissor_paper"
   ]
  },
  {
   "cell_type": "markdown",
   "metadata": {},
   "source": [
    "## Import"
   ]
  },
  {
   "cell_type": "code",
   "execution_count": 498,
   "metadata": {},
   "outputs": [],
   "source": [
    "from tensorflow import keras\n",
    "import tensorflow as tf\n",
    "import numpy as np\n",
    "\n",
    "import matplotlib.pyplot as plt\n",
    "\n",
    "from PIL import Image\n",
    "import random\n",
    "import glob\n",
    "import os"
   ]
  },
  {
   "cell_type": "markdown",
   "metadata": {},
   "source": [
    "## 데이터 불러오기 + Resize 하기"
   ]
  },
  {
   "cell_type": "markdown",
   "metadata": {},
   "source": [
    "### Reszie 하는 함수 구현"
   ]
  },
  {
   "cell_type": "code",
   "execution_count": 499,
   "metadata": {},
   "outputs": [],
   "source": [
    "def resize_images(img_path):\n",
    "    images = glob.glob(img_path + \"/*.jpg\")\n",
    "\n",
    "    target_size = (28, 28)\n",
    "    for img in images:\n",
    "        old_img = Image.open(img)\n",
    "        new_img = old_img.resize(target_size, Image.ANTIALIAS)\n",
    "        new_img.save(img, \"JPEG\")\n",
    "    \n",
    "    print(len(images), \"개의 이미지 Resize 완료\")"
   ]
  },
  {
   "cell_type": "markdown",
   "metadata": {},
   "source": [
    "### Scissor Image Read or Resize"
   ]
  },
  {
   "cell_type": "code",
   "execution_count": 500,
   "metadata": {},
   "outputs": [
    {
     "name": "stdout",
     "output_type": "stream",
     "text": [
      "100 개의 이미지 Resize 완료\n"
     ]
    },
    {
     "name": "stderr",
     "output_type": "stream",
     "text": [
      "C:\\Users\\ASUS\\AppData\\Local\\Temp\\ipykernel_12736\\3474973197.py:7: DeprecationWarning: ANTIALIAS is deprecated and will be removed in Pillow 10 (2023-07-01). Use Resampling.LANCZOS instead.\n",
      "  new_img = old_img.resize(target_size, Image.ANTIALIAS)\n"
     ]
    }
   ],
   "source": [
    "image_scissor_path = os.getenv(\"homepath\") + \"/Desktop/python/exploration/exploration_11_22/image/scissor\"\n",
    "resize_images(image_scissor_path)"
   ]
  },
  {
   "cell_type": "markdown",
   "metadata": {},
   "source": [
    "### Rock Image Read or Resize"
   ]
  },
  {
   "cell_type": "code",
   "execution_count": 501,
   "metadata": {},
   "outputs": [
    {
     "name": "stdout",
     "output_type": "stream",
     "text": [
      "100 개의 이미지 Resize 완료\n"
     ]
    },
    {
     "name": "stderr",
     "output_type": "stream",
     "text": [
      "C:\\Users\\ASUS\\AppData\\Local\\Temp\\ipykernel_12736\\3474973197.py:7: DeprecationWarning: ANTIALIAS is deprecated and will be removed in Pillow 10 (2023-07-01). Use Resampling.LANCZOS instead.\n",
      "  new_img = old_img.resize(target_size, Image.ANTIALIAS)\n"
     ]
    }
   ],
   "source": [
    "image_rock_path = os.getenv(\"homepath\") + \"/Desktop/python/exploration/exploration_11_22/image/rock\"\n",
    "resize_images(image_rock_path)"
   ]
  },
  {
   "cell_type": "markdown",
   "metadata": {},
   "source": [
    "### Paper Image Read or Resize"
   ]
  },
  {
   "cell_type": "code",
   "execution_count": 502,
   "metadata": {},
   "outputs": [
    {
     "name": "stdout",
     "output_type": "stream",
     "text": [
      "100 개의 이미지 Resize 완료\n"
     ]
    },
    {
     "name": "stderr",
     "output_type": "stream",
     "text": [
      "C:\\Users\\ASUS\\AppData\\Local\\Temp\\ipykernel_12736\\3474973197.py:7: DeprecationWarning: ANTIALIAS is deprecated and will be removed in Pillow 10 (2023-07-01). Use Resampling.LANCZOS instead.\n",
      "  new_img = old_img.resize(target_size, Image.ANTIALIAS)\n"
     ]
    }
   ],
   "source": [
    "image_paper_path = os.getenv(\"homepath\") + \"/Desktop/python/exploration/exploration_11_22/image/paper\"\n",
    "resize_images(image_paper_path)"
   ]
  },
  {
   "cell_type": "markdown",
   "metadata": {},
   "source": [
    "### 데이터 읽는 함수 구현"
   ]
  },
  {
   "cell_type": "code",
   "execution_count": 503,
   "metadata": {},
   "outputs": [],
   "source": [
    "def load_data(image_path, number_of_data = 300):\n",
    "    img_size = 28 # 28x28\n",
    "    color = 3 # RGB 값\n",
    "    \n",
    "    imgs = np.zeros(number_of_data*img_size*img_size*color, dtype=np.int32).reshape(number_of_data, img_size, img_size, color)\n",
    "    labels = np.zeros(number_of_data, dtype=np.int32)\n",
    "\n",
    "    idx = 0\n",
    "    # 가위\n",
    "    for file in glob.iglob(image_path + '/scissor/*.jpg'):\n",
    "        img = np.array(Image.open(file), dtype=np.int32)\n",
    "        imgs[idx, :, :, :] = img # 데이터영역에 이미지 행렬 복사\n",
    "        labels[idx] = 0\n",
    "        idx = idx+1\n",
    "    \n",
    "    # 바위\n",
    "    for file in glob.iglob(image_path + '/rock/*.jpg'):\n",
    "        img = np.array(Image.open(file), dtype=np.int32)\n",
    "        imgs[idx, :, :, :] = img # 데이터영역에 이미지 행렬 복사\n",
    "        labels[idx] = 1\n",
    "        idx = idx+1\n",
    "\n",
    "    # 보\n",
    "    for file in glob.iglob(image_path + '/paper/*.jpg'):\n",
    "        img = np.array(Image.open(file), dtype=np.int32)\n",
    "        imgs[idx, :, :, :] = img # 데이터영역에 이미지 행렬 복사\n",
    "        labels[idx] = 2\n",
    "        idx = idx+1\n",
    "\n",
    "    print(\"데이터의 이미지 개수 : \", idx)\n",
    "    return imgs, labels"
   ]
  },
  {
   "cell_type": "code",
   "execution_count": 504,
   "metadata": {},
   "outputs": [
    {
     "name": "stdout",
     "output_type": "stream",
     "text": [
      "데이터의 이미지 개수 :  300\n",
      "x_train shape: (300, 28, 28, 3)\n",
      "y_train shape: (300,)\n"
     ]
    }
   ],
   "source": [
    "image_path = os.getenv(\"homepath\") + '/Desktop/python/exploration/exploration_11_22/image'\n",
    "(x_train, y_train) = load_data(image_path)\n",
    "x_train_norm = x_train/255.0 # 0 ~ 1 사이의 값으로 정규화\n",
    "\n",
    "print(\"x_train shape: {}\".format(x_train.shape))\n",
    "print(\"y_train shape: {}\".format(y_train.shape))"
   ]
  },
  {
   "cell_type": "markdown",
   "metadata": {},
   "source": [
    "### 이미지 확인"
   ]
  },
  {
   "cell_type": "code",
   "execution_count": 505,
   "metadata": {},
   "outputs": [
    {
     "name": "stdout",
     "output_type": "stream",
     "text": [
      "라벨 :  0\n"
     ]
    },
    {
     "data": {
      "image/png": "[encoded data removed]",
      "text/plain": [
       "<Figure size 640x480 with 1 Axes>"
      ]
     },
     "metadata": {},
     "output_type": "display_data"
    }
   ],
   "source": [
    "plt.imshow(x_train[0])\n",
    "print(\"라벨 : \", y_train[0])"
   ]
  },
  {
   "cell_type": "markdown",
   "metadata": {},
   "source": [
    "## 딥러닝 네트워크 설계하기"
   ]
  },
  {
   "cell_type": "code",
   "execution_count": 506,
   "metadata": {},
   "outputs": [
    {
     "name": "stdout",
     "output_type": "stream",
     "text": [
      "Model: \"sequential_53\"\n",
      "_________________________________________________________________\n",
      " Layer (type)                Output Shape              Param #   \n",
      "=================================================================\n",
      " conv2d_106 (Conv2D)         (None, 26, 26, 24)        672       \n",
      "                                                                 \n",
      " max_pooling2d_105 (MaxPooli  (None, 13, 13, 24)       0         \n",
      " ng2D)                                                           \n",
      "                                                                 \n",
      " conv2d_107 (Conv2D)         (None, 11, 11, 48)        10416     \n",
      "                                                                 \n",
      " max_pooling2d_106 (MaxPooli  (None, 5, 5, 48)         0         \n",
      " ng2D)                                                           \n",
      "                                                                 \n",
      " flatten_49 (Flatten)        (None, 1200)              0         \n",
      "                                                                 \n",
      " dense_98 (Dense)            (None, 50)                60050     \n",
      "                                                                 \n",
      " dense_99 (Dense)            (None, 3)                 153       \n",
      "                                                                 \n",
      "=================================================================\n",
      "Total params: 71,291\n",
      "Trainable params: 71,291\n",
      "Non-trainable params: 0\n",
      "_________________________________________________________________\n"
     ]
    }
   ],
   "source": [
    "n_channel_1 = 24\n",
    "n_channel_2 = 48\n",
    "n_dense = 50\n",
    "n_train_epoch = 20\n",
    "\n",
    "model = keras.models.Sequential()\n",
    "model.add(keras.layers.Conv2D(n_channel_1, (3, 3), activation='relu', input_shape=(28, 28, 3)))\n",
    "model.add(keras.layers.MaxPool2D(2, 2))\n",
    "model.add(keras.layers.Conv2D(n_channel_2, (3, 3), activation='relu'))\n",
    "model.add(keras.layers.MaxPooling2D((2, 2)))\n",
    "model.add(keras.layers.Flatten())\n",
    "model.add(keras.layers.Dense(n_dense, activation='relu'))\n",
    "model.add(keras.layers.Dense(3, activation='softmax'))\n",
    "\n",
    "model.summary()"
   ]
  },
  {
   "cell_type": "code",
   "execution_count": 507,
   "metadata": {},
   "outputs": [
    {
     "name": "stdout",
     "output_type": "stream",
     "text": [
      "Epoch 1/20\n",
      "10/10 [==============================] - 1s 10ms/step - loss: 1.0932 - accuracy: 0.4233\n",
      "Epoch 2/20\n",
      "10/10 [==============================] - 0s 8ms/step - loss: 1.0648 - accuracy: 0.3867\n",
      "Epoch 3/20\n",
      "10/10 [==============================] - 0s 9ms/step - loss: 1.0244 - accuracy: 0.5633\n",
      "Epoch 4/20\n",
      "10/10 [==============================] - 0s 9ms/step - loss: 0.9485 - accuracy: 0.6600\n",
      "Epoch 5/20\n",
      "10/10 [==============================] - 0s 9ms/step - loss: 0.8495 - accuracy: 0.6800\n",
      "Epoch 6/20\n",
      "10/10 [==============================] - 0s 9ms/step - loss: 0.6950 - accuracy: 0.8333\n",
      "Epoch 7/20\n",
      "10/10 [==============================] - 0s 10ms/step - loss: 0.5116 - accuracy: 0.9233\n",
      "Epoch 8/20\n",
      "10/10 [==============================] - 0s 10ms/step - loss: 0.3892 - accuracy: 0.9333\n",
      "Epoch 9/20\n",
      "10/10 [==============================] - 0s 9ms/step - loss: 0.3124 - accuracy: 0.9300\n",
      "Epoch 10/20\n",
      "10/10 [==============================] - 0s 8ms/step - loss: 0.2659 - accuracy: 0.9233\n",
      "Epoch 11/20\n",
      "10/10 [==============================] - 0s 9ms/step - loss: 0.1875 - accuracy: 0.9567\n",
      "Epoch 12/20\n",
      "10/10 [==============================] - 0s 9ms/step - loss: 0.1365 - accuracy: 0.9733\n",
      "Epoch 13/20\n",
      "10/10 [==============================] - 0s 8ms/step - loss: 0.1068 - accuracy: 0.9767\n",
      "Epoch 14/20\n",
      "10/10 [==============================] - 0s 9ms/step - loss: 0.0811 - accuracy: 0.9833\n",
      "Epoch 15/20\n",
      "10/10 [==============================] - 0s 9ms/step - loss: 0.0679 - accuracy: 0.9867\n",
      "Epoch 16/20\n",
      "10/10 [==============================] - 0s 9ms/step - loss: 0.0735 - accuracy: 0.9767\n",
      "Epoch 17/20\n",
      "10/10 [==============================] - 0s 11ms/step - loss: 0.0506 - accuracy: 0.9933\n",
      "Epoch 18/20\n",
      "10/10 [==============================] - 0s 9ms/step - loss: 0.0462 - accuracy: 0.9900\n",
      "Epoch 19/20\n",
      "10/10 [==============================] - 0s 10ms/step - loss: 0.0347 - accuracy: 1.0000\n",
      "Epoch 20/20\n",
      "10/10 [==============================] - 0s 10ms/step - loss: 0.0270 - accuracy: 1.0000\n"
     ]
    },
    {
     "data": {
      "text/plain": [
       "<keras.callbacks.History at 0x2219d4daaa0>"
      ]
     },
     "execution_count": 507,
     "metadata": {},
     "output_type": "execute_result"
    }
   ],
   "source": [
    "model.compile(optimizer = 'adam',\n",
    "             loss = 'sparse_categorical_crossentropy',\n",
    "             metrics = ['accuracy'])\n",
    "\n",
    "model.fit(x_train_norm, y_train, epochs=20)"
   ]
  },
  {
   "cell_type": "markdown",
   "metadata": {},
   "source": [
    "## 얼마나 잘 만들었는지 확인하기(테스트)"
   ]
  },
  {
   "cell_type": "markdown",
   "metadata": {},
   "source": [
    "### Test 데이터 생성"
   ]
  },
  {
   "cell_type": "markdown",
   "metadata": {},
   "source": [
    "### Test Scissor Data"
   ]
  },
  {
   "cell_type": "code",
   "execution_count": 508,
   "metadata": {},
   "outputs": [
    {
     "name": "stdout",
     "output_type": "stream",
     "text": [
      "100 개의 이미지 Resize 완료\n"
     ]
    },
    {
     "name": "stderr",
     "output_type": "stream",
     "text": [
      "C:\\Users\\ASUS\\AppData\\Local\\Temp\\ipykernel_12736\\3474973197.py:7: DeprecationWarning: ANTIALIAS is deprecated and will be removed in Pillow 10 (2023-07-01). Use Resampling.LANCZOS instead.\n",
      "  new_img = old_img.resize(target_size, Image.ANTIALIAS)\n"
     ]
    }
   ],
   "source": [
    "t_image_scissor_path = os.getenv(\"homepath\") + \"/Desktop/python/exploration/exploration_11_22/test1/scissor\"\n",
    "resize_images(t_image_scissor_path)"
   ]
  },
  {
   "cell_type": "markdown",
   "metadata": {},
   "source": [
    "### Test Paper Data"
   ]
  },
  {
   "cell_type": "code",
   "execution_count": 509,
   "metadata": {},
   "outputs": [
    {
     "name": "stderr",
     "output_type": "stream",
     "text": [
      "C:\\Users\\ASUS\\AppData\\Local\\Temp\\ipykernel_12736\\3474973197.py:7: DeprecationWarning: ANTIALIAS is deprecated and will be removed in Pillow 10 (2023-07-01). Use Resampling.LANCZOS instead.\n",
      "  new_img = old_img.resize(target_size, Image.ANTIALIAS)\n"
     ]
    },
    {
     "name": "stdout",
     "output_type": "stream",
     "text": [
      "100 개의 이미지 Resize 완료\n"
     ]
    }
   ],
   "source": [
    "t_image_paper_path = os.getenv(\"homepath\") + \"/Desktop/python/exploration/exploration_11_22/test1/paper\"\n",
    "resize_images(t_image_paper_path)"
   ]
  },
  {
   "cell_type": "markdown",
   "metadata": {},
   "source": [
    "### Test Rock Data"
   ]
  },
  {
   "cell_type": "code",
   "execution_count": 510,
   "metadata": {},
   "outputs": [
    {
     "name": "stdout",
     "output_type": "stream",
     "text": [
      "100 개의 이미지 Resize 완료\n"
     ]
    },
    {
     "name": "stderr",
     "output_type": "stream",
     "text": [
      "C:\\Users\\ASUS\\AppData\\Local\\Temp\\ipykernel_12736\\3474973197.py:7: DeprecationWarning: ANTIALIAS is deprecated and will be removed in Pillow 10 (2023-07-01). Use Resampling.LANCZOS instead.\n",
      "  new_img = old_img.resize(target_size, Image.ANTIALIAS)\n"
     ]
    }
   ],
   "source": [
    "t_image_rock_path = os.getenv(\"homepath\") + \"/Desktop/python/exploration/exploration_11_22/test1/rock\"\n",
    "resize_images(t_image_rock_path)"
   ]
  },
  {
   "cell_type": "markdown",
   "metadata": {},
   "source": [
    "### 테스트 데이터 읽는 함수 구현"
   ]
  },
  {
   "cell_type": "code",
   "execution_count": 511,
   "metadata": {},
   "outputs": [],
   "source": [
    "def load_data(image_path, number_of_data = 300):\n",
    "    img_size = 28 # 28x28\n",
    "    color = 3 # RGB 값\n",
    "    \n",
    "    imgs = np.zeros(number_of_data*img_size*img_size*color, dtype=np.int32).reshape(number_of_data, img_size, img_size, color)\n",
    "    labels = np.zeros(number_of_data, dtype=np.int32)\n",
    "\n",
    "    idx = 0\n",
    "    # 가위\n",
    "    for file in glob.iglob(image_path + '/scissor/*.jpg'):\n",
    "        img = np.array(Image.open(file), dtype=np.int32)\n",
    "        imgs[idx, :, :, :] = img # 데이터영역에 이미지 행렬 복사\n",
    "        labels[idx] = 0\n",
    "        idx = idx+1\n",
    "    \n",
    "    # 바위\n",
    "    for file in glob.iglob(image_path + '/rock/*.jpg'):\n",
    "        img = np.array(Image.open(file), dtype=np.int32)\n",
    "        imgs[idx, :, :, :] = img # 데이터영역에 이미지 행렬 복사\n",
    "        labels[idx] = 1\n",
    "        idx = idx+1\n",
    "\n",
    "    # 보\n",
    "    for file in glob.iglob(image_path + '/paper/*.jpg'):\n",
    "        img = np.array(Image.open(file), dtype=np.int32)\n",
    "        imgs[idx, :, :, :] = img # 데이터영역에 이미지 행렬 복사\n",
    "        labels[idx] = 2\n",
    "        idx = idx+1\n",
    "\n",
    "    print(\"데이터의 이미지 개수 : \", idx)\n",
    "    return imgs, labels"
   ]
  },
  {
   "cell_type": "code",
   "execution_count": 512,
   "metadata": {},
   "outputs": [
    {
     "name": "stdout",
     "output_type": "stream",
     "text": [
      "데이터의 이미지 개수 :  300\n",
      "x_test shape: (300, 28, 28, 3)\n",
      "y_test shape: (300,)\n"
     ]
    }
   ],
   "source": [
    "test_image_path = os.getenv(\"homepath\") + '/Desktop/python/exploration/exploration_11_22/test1'\n",
    "(x_test, y_test) = load_data(test_image_path)\n",
    "x_test_norm = x_test/255.0 # 0 ~ 1 사이의 값으로 정규화\n",
    "\n",
    "print(\"x_test shape: {}\".format(x_test.shape))\n",
    "print(\"y_test shape: {}\".format(y_test.shape))"
   ]
  },
  {
   "cell_type": "markdown",
   "metadata": {},
   "source": [
    "### 이미지 확인"
   ]
  },
  {
   "cell_type": "code",
   "execution_count": 513,
   "metadata": {},
   "outputs": [
    {
     "name": "stdout",
     "output_type": "stream",
     "text": [
      "라벨 :  0\n"
     ]
    },
    {
     "data": {
      "image/png": "[encoded data removed]",
      "text/plain": [
       "<Figure size 640x480 with 1 Axes>"
      ]
     },
     "metadata": {},
     "output_type": "display_data"
    }
   ],
   "source": [
    "plt.imshow(x_test[0])\n",
    "print(\"라벨 : \", y_test[0])"
   ]
  },
  {
   "cell_type": "markdown",
   "metadata": {},
   "source": [
    "### 테스트 데이터로 성능을 확인"
   ]
  },
  {
   "cell_type": "code",
   "execution_count": 514,
   "metadata": {},
   "outputs": [
    {
     "name": "stdout",
     "output_type": "stream",
     "text": [
      "10/10 [==============================] - 0s 5ms/step - loss: 4.5185 - accuracy: 0.2733\n",
      "test_loss: 4.518516540527344\n",
      "test_accuracy: 0.273333340883255\n"
     ]
    }
   ],
   "source": [
    "test_loss, test_accuracy = model.evaluate(x_test_norm, y_test, verbose=1)\n",
    "print(f\"test_loss: {test_loss}\")\n",
    "print(f\"test_accuracy: {test_accuracy}\")"
   ]
  },
  {
   "cell_type": "markdown",
   "metadata": {},
   "source": [
    "### 추론 및 시각화"
   ]
  },
  {
   "cell_type": "code",
   "execution_count": 515,
   "metadata": {},
   "outputs": [
    {
     "name": "stdout",
     "output_type": "stream",
     "text": [
      "10/10 [==============================] - 0s 4ms/step\n",
      "Predict 결과 :  [9.9616349e-01 2.3090113e-05 3.8134931e-03]\n",
      "model이 추론한 가장 가능성이 높은 결과 :  0\n",
      "실제 데이터의 라벨 :  0\n"
     ]
    }
   ],
   "source": [
    "predicted = model.predict(x_test_norm)\n",
    "predicted_labels = np.argmax(predicted, axis=1)\n",
    "\n",
    "idx = 87\n",
    "print('Predict 결과 : ', predicted[idx])\n",
    "print('model이 추론한 가장 가능성이 높은 결과 : ', predicted_labels[idx])\n",
    "print('실제 데이터의 라벨 : ', y_test[idx])"
   ]
  },
  {
   "cell_type": "code",
   "execution_count": 516,
   "metadata": {},
   "outputs": [
    {
     "data": {
      "image/png": "[encoded data removed]",
      "text/plain": [
       "<Figure size 640x480 with 1 Axes>"
      ]
     },
     "metadata": {},
     "output_type": "display_data"
    }
   ],
   "source": [
    "plt.imshow(x_test[idx], cmap=plt.cm.binary)\n",
    "plt.show()"
   ]
  },
  {
   "cell_type": "code",
   "execution_count": 517,
   "metadata": {},
   "outputs": [
    {
     "name": "stdout",
     "output_type": "stream",
     "text": [
      "예측확률분포: [4.4042096e-01 1.5934231e-05 5.5956316e-01]\n",
      "라벨: 0, 예측결과: 2\n"
     ]
    },
    {
     "data": {
      "image/png": "[encoded data removed]",
      "text/plain": [
       "<Figure size 640x480 with 1 Axes>"
      ]
     },
     "metadata": {},
     "output_type": "display_data"
    },
    {
     "name": "stdout",
     "output_type": "stream",
     "text": [
      "예측확률분포: [9.9639088e-01 3.0780002e-03 5.3110719e-04]\n",
      "라벨: 2, 예측결과: 0\n"
     ]
    },
    {
     "data": {
      "image/png": "[encoded data removed]",
      "text/plain": [
       "<Figure size 640x480 with 1 Axes>"
      ]
     },
     "metadata": {},
     "output_type": "display_data"
    },
    {
     "name": "stdout",
     "output_type": "stream",
     "text": [
      "예측확률분포: [0.00140926 0.00723389 0.99135685]\n",
      "라벨: 0, 예측결과: 2\n"
     ]
    },
    {
     "data": {
      "image/png": "[encoded data removed]",
      "text/plain": [
       "<Figure size 640x480 with 1 Axes>"
      ]
     },
     "metadata": {},
     "output_type": "display_data"
    },
    {
     "name": "stdout",
     "output_type": "stream",
     "text": [
      "예측확률분포: [9.9639088e-01 3.0780002e-03 5.3110719e-04]\n",
      "라벨: 2, 예측결과: 0\n"
     ]
    },
    {
     "data": {
      "image/png": "[encoded data removed]",
      "text/plain": [
       "<Figure size 640x480 with 1 Axes>"
      ]
     },
     "metadata": {},
     "output_type": "display_data"
    },
    {
     "name": "stdout",
     "output_type": "stream",
     "text": [
      "예측확률분포: [9.7198504e-01 3.6943824e-05 2.7978035e-02]\n",
      "라벨: 1, 예측결과: 0\n"
     ]
    },
    {
     "data": {
      "image/png": "[encoded data removed]",
      "text/plain": [
       "<Figure size 640x480 with 1 Axes>"
      ]
     },
     "metadata": {},
     "output_type": "display_data"
    },
    {
     "name": "stdout",
     "output_type": "stream",
     "text": [
      "예측확률분포: [0.9927684  0.00396221 0.00326931]\n",
      "라벨: 1, 예측결과: 0\n"
     ]
    },
    {
     "data": {
      "image/png": "[encoded data removed]",
      "text/plain": [
       "<Figure size 640x480 with 1 Axes>"
      ]
     },
     "metadata": {},
     "output_type": "display_data"
    },
    {
     "name": "stdout",
     "output_type": "stream",
     "text": [
      "예측확률분포: [5.8581468e-02 1.4363947e-05 9.4140416e-01]\n",
      "라벨: 1, 예측결과: 2\n"
     ]
    },
    {
     "data": {
      "image/png": "[encoded data removed]",
      "text/plain": [
       "<Figure size 640x480 with 1 Axes>"
      ]
     },
     "metadata": {},
     "output_type": "display_data"
    },
    {
     "name": "stdout",
     "output_type": "stream",
     "text": [
      "예측확률분포: [1.4956516e-01 4.7851433e-08 8.5043478e-01]\n",
      "라벨: 0, 예측결과: 2\n"
     ]
    },
    {
     "data": {
      "image/png": "[encoded data removed]",
      "text/plain": [
       "<Figure size 640x480 with 1 Axes>"
      ]
     },
     "metadata": {},
     "output_type": "display_data"
    },
    {
     "name": "stdout",
     "output_type": "stream",
     "text": [
      "예측확률분포: [9.9707937e-01 2.2521564e-03 6.6853233e-04]\n",
      "라벨: 2, 예측결과: 0\n"
     ]
    },
    {
     "data": {
      "image/png": "[encoded data removed]",
      "text/plain": [
       "<Figure size 640x480 with 1 Axes>"
      ]
     },
     "metadata": {},
     "output_type": "display_data"
    },
    {
     "name": "stdout",
     "output_type": "stream",
     "text": [
      "예측확률분포: [3.6102582e-02 1.0336004e-05 9.6388710e-01]\n",
      "라벨: 1, 예측결과: 2\n"
     ]
    },
    {
     "data": {
      "image/png": "[encoded data removed]",
      "text/plain": [
       "<Figure size 640x480 with 1 Axes>"
      ]
     },
     "metadata": {},
     "output_type": "display_data"
    }
   ],
   "source": [
    "out_predict_list=[]\n",
    "for i, _ in enumerate(predicted_labels):\n",
    "    if predicted_labels[i] != y_test[i]:\n",
    "        out_predict_list.append(i)\n",
    "\n",
    "samples = random.choices(population=out_predict_list, k=10)\n",
    "\n",
    "for n in samples:\n",
    "    print(\"예측확률분포: \" + str(predicted[n]))\n",
    "    print(\"라벨: \" + str(y_test[n]) + \", 예측결과: \" + str(predicted_labels[n]))\n",
    "    plt.imshow(x_test[n], cmap=plt.cm.binary)\n",
    "    plt.show()"
   ]
  },
  {
   "cell_type": "markdown",
   "metadata": {},
   "source": [
    "### 하이퍼파라미터 변경으로 인한 성능 재테스트"
   ]
  },
  {
   "cell_type": "code",
   "execution_count": 529,
   "metadata": {},
   "outputs": [
    {
     "name": "stdout",
     "output_type": "stream",
     "text": [
      "Model: \"sequential_55\"\n",
      "_________________________________________________________________\n",
      " Layer (type)                Output Shape              Param #   \n",
      "=================================================================\n",
      " conv2d_110 (Conv2D)         (None, 28, 28, 24)        672       \n",
      "                                                                 \n",
      " max_pooling2d_109 (MaxPooli  (None, 9, 9, 24)         0         \n",
      " ng2D)                                                           \n",
      "                                                                 \n",
      " conv2d_111 (Conv2D)         (None, 9, 9, 48)          10416     \n",
      "                                                                 \n",
      " max_pooling2d_110 (MaxPooli  (None, 3, 3, 48)         0         \n",
      " ng2D)                                                           \n",
      "                                                                 \n",
      " flatten_51 (Flatten)        (None, 432)               0         \n",
      "                                                                 \n",
      " dense_102 (Dense)           (None, 70)                30310     \n",
      "                                                                 \n",
      " dense_103 (Dense)           (None, 3)                 213       \n",
      "                                                                 \n",
      "=================================================================\n",
      "Total params: 41,611\n",
      "Trainable params: 41,611\n",
      "Non-trainable params: 0\n",
      "_________________________________________________________________\n"
     ]
    }
   ],
   "source": [
    "n_channel_1 = 24\n",
    "n_channel_2 = 48\n",
    "n_dense = 70\n",
    "\n",
    "model = keras.models.Sequential()\n",
    "model.add(keras.layers.Conv2D(n_channel_1, (3, 3), padding = 'same', activation='relu', input_shape=(28, 28, 3)))\n",
    "model.add(keras.layers.MaxPool2D(3, 3))\n",
    "model.add(keras.layers.Conv2D(n_channel_2, (3, 3), padding = 'same', activation='relu'))\n",
    "model.add(keras.layers.MaxPooling2D((3, 3)))\n",
    "model.add(keras.layers.Flatten())\n",
    "model.add(keras.layers.Dense(n_dense, activation='relu'))\n",
    "model.add(keras.layers.Dense(3, activation='softmax'))\n",
    "\n",
    "model.summary()"
   ]
  },
  {
   "cell_type": "markdown",
   "metadata": {},
   "source": [
    "### Train"
   ]
  },
  {
   "cell_type": "code",
   "execution_count": 530,
   "metadata": {},
   "outputs": [
    {
     "name": "stdout",
     "output_type": "stream",
     "text": [
      "Epoch 1/40\n",
      "57/57 [==============================] - 1s 9ms/step - loss: 1.0790 - accuracy: 0.4133\n",
      "Epoch 2/40\n",
      "57/57 [==============================] - 1s 9ms/step - loss: 0.9314 - accuracy: 0.5594\n",
      "Epoch 3/40\n",
      "57/57 [==============================] - 1s 9ms/step - loss: 0.7279 - accuracy: 0.7106\n",
      "Epoch 4/40\n",
      "57/57 [==============================] - 1s 9ms/step - loss: 0.5554 - accuracy: 0.7778\n",
      "Epoch 5/40\n",
      "57/57 [==============================] - 1s 9ms/step - loss: 0.3983 - accuracy: 0.8622\n",
      "Epoch 6/40\n",
      "57/57 [==============================] - 1s 10ms/step - loss: 0.2940 - accuracy: 0.9072\n",
      "Epoch 7/40\n",
      "57/57 [==============================] - 1s 11ms/step - loss: 0.1973 - accuracy: 0.9489\n",
      "Epoch 8/40\n",
      "57/57 [==============================] - 1s 10ms/step - loss: 0.1847 - accuracy: 0.9433\n",
      "Epoch 9/40\n",
      "57/57 [==============================] - 1s 11ms/step - loss: 0.1238 - accuracy: 0.9706\n",
      "Epoch 10/40\n",
      "57/57 [==============================] - 1s 12ms/step - loss: 0.0875 - accuracy: 0.9839\n",
      "Epoch 11/40\n",
      "57/57 [==============================] - 1s 9ms/step - loss: 0.0637 - accuracy: 0.9900\n",
      "Epoch 12/40\n",
      "57/57 [==============================] - 1s 11ms/step - loss: 0.0512 - accuracy: 0.9922\n",
      "Epoch 13/40\n",
      "57/57 [==============================] - 1s 10ms/step - loss: 0.0391 - accuracy: 0.9972\n",
      "Epoch 14/40\n",
      "57/57 [==============================] - 1s 10ms/step - loss: 0.0338 - accuracy: 0.9956\n",
      "Epoch 15/40\n",
      "57/57 [==============================] - 1s 10ms/step - loss: 0.0328 - accuracy: 0.9956\n",
      "Epoch 16/40\n",
      "57/57 [==============================] - 1s 10ms/step - loss: 0.0313 - accuracy: 0.9933\n",
      "Epoch 17/40\n",
      "57/57 [==============================] - 1s 10ms/step - loss: 0.0166 - accuracy: 0.9989\n",
      "Epoch 18/40\n",
      "57/57 [==============================] - 1s 9ms/step - loss: 0.0132 - accuracy: 1.0000\n",
      "Epoch 19/40\n",
      "57/57 [==============================] - 1s 9ms/step - loss: 0.0094 - accuracy: 1.0000\n",
      "Epoch 20/40\n",
      "57/57 [==============================] - 1s 9ms/step - loss: 0.0077 - accuracy: 1.0000\n",
      "Epoch 21/40\n",
      "57/57 [==============================] - 1s 10ms/step - loss: 0.0065 - accuracy: 1.0000\n",
      "Epoch 22/40\n",
      "57/57 [==============================] - 1s 9ms/step - loss: 0.0056 - accuracy: 1.0000\n",
      "Epoch 23/40\n",
      "57/57 [==============================] - 1s 10ms/step - loss: 0.0050 - accuracy: 1.0000\n",
      "Epoch 24/40\n",
      "57/57 [==============================] - 1s 10ms/step - loss: 0.0041 - accuracy: 1.0000\n",
      "Epoch 25/40\n",
      "57/57 [==============================] - 1s 11ms/step - loss: 0.0036 - accuracy: 1.0000\n",
      "Epoch 26/40\n",
      "57/57 [==============================] - 1s 10ms/step - loss: 0.0033 - accuracy: 1.0000\n",
      "Epoch 27/40\n",
      "57/57 [==============================] - 1s 9ms/step - loss: 0.0031 - accuracy: 1.0000\n",
      "Epoch 28/40\n",
      "57/57 [==============================] - 1s 10ms/step - loss: 0.0024 - accuracy: 1.0000\n",
      "Epoch 29/40\n",
      "57/57 [==============================] - 1s 9ms/step - loss: 0.0022 - accuracy: 1.0000\n",
      "Epoch 30/40\n",
      "57/57 [==============================] - 1s 9ms/step - loss: 0.0021 - accuracy: 1.0000\n",
      "Epoch 31/40\n",
      "57/57 [==============================] - 1s 9ms/step - loss: 0.0019 - accuracy: 1.0000\n",
      "Epoch 32/40\n",
      "57/57 [==============================] - 1s 10ms/step - loss: 0.0018 - accuracy: 1.0000\n",
      "Epoch 33/40\n",
      "57/57 [==============================] - 1s 9ms/step - loss: 0.0016 - accuracy: 1.0000\n",
      "Epoch 34/40\n",
      "57/57 [==============================] - 1s 9ms/step - loss: 0.0014 - accuracy: 1.0000\n",
      "Epoch 35/40\n",
      "57/57 [==============================] - 1s 9ms/step - loss: 0.0015 - accuracy: 1.0000\n",
      "Epoch 36/40\n",
      "57/57 [==============================] - 1s 10ms/step - loss: 0.0012 - accuracy: 1.0000\n",
      "Epoch 37/40\n",
      "57/57 [==============================] - 1s 10ms/step - loss: 0.0011 - accuracy: 1.0000\n",
      "Epoch 38/40\n",
      "57/57 [==============================] - 1s 9ms/step - loss: 0.0011 - accuracy: 1.0000\n",
      "Epoch 39/40\n",
      "57/57 [==============================] - 1s 10ms/step - loss: 9.4573e-04 - accuracy: 1.0000\n",
      "Epoch 40/40\n",
      "57/57 [==============================] - 1s 11ms/step - loss: 9.2509e-04 - accuracy: 1.0000\n"
     ]
    },
    {
     "data": {
      "text/plain": [
       "<keras.callbacks.History at 0x221a868c820>"
      ]
     },
     "execution_count": 530,
     "metadata": {},
     "output_type": "execute_result"
    }
   ],
   "source": [
    "n_train_epoch = 40\n",
    "\n",
    "model.compile(optimizer = 'Adam',\n",
    "             loss = 'sparse_categorical_crossentropy',\n",
    "             metrics = ['accuracy'])\n",
    "\n",
    "model.fit(x_train_norm, y_train, epochs=n_train_epoch)"
   ]
  },
  {
   "cell_type": "markdown",
   "metadata": {},
   "source": [
    "### Test"
   ]
  },
  {
   "cell_type": "code",
   "execution_count": 531,
   "metadata": {},
   "outputs": [
    {
     "name": "stdout",
     "output_type": "stream",
     "text": [
      "10/10 [==============================] - 0s 4ms/step - loss: 2.2526 - accuracy: 0.6867\n",
      "test_loss: 2.252588987350464\n",
      "test_accuracy: 0.6866666674613953\n"
     ]
    }
   ],
   "source": [
    "test_loss, test_accuracy = model.evaluate(x_test_norm, y_test, verbose=1)\n",
    "print(f\"test_loss: {test_loss}\")\n",
    "print(f\"test_accuracy: {test_accuracy}\")"
   ]
  },
  {
   "cell_type": "markdown",
   "metadata": {},
   "source": [
    "각각 100장의 image 데이터셋이 주어졌을 때의 accuracy 는 약 0.68 정도의 값이 나옴"
   ]
  },
  {
   "cell_type": "markdown",
   "metadata": {},
   "source": [
    "## 데이터셋이 각각 300장의 image 데이터셋이 있을때라면..?"
   ]
  },
  {
   "cell_type": "markdown",
   "metadata": {},
   "source": [
    "### Resize 는 모두 28x28로 동일하게 미리 진행완료"
   ]
  },
  {
   "cell_type": "code",
   "execution_count": 532,
   "metadata": {},
   "outputs": [],
   "source": [
    "def load_data(image_path, number_of_data = 900):\n",
    "    img_size = 28 # 28x28\n",
    "    color = 3 # RGB 값\n",
    "    \n",
    "    imgs = np.zeros(number_of_data*img_size*img_size*color, dtype=np.int32).reshape(number_of_data, img_size, img_size, color)\n",
    "    labels = np.zeros(number_of_data, dtype=np.int32)\n",
    "\n",
    "    idx = 0\n",
    "    # 가위\n",
    "    for file in glob.iglob(image_path + '/scissor_300/*.jpg'):\n",
    "        img = np.array(Image.open(file), dtype=np.int32)\n",
    "        imgs[idx, :, :, :] = img # 데이터영역에 이미지 행렬 복사\n",
    "        labels[idx] = 0\n",
    "        idx = idx+1\n",
    "    \n",
    "    # 바위\n",
    "    for file in glob.iglob(image_path + '/rock_300/*.jpg'):\n",
    "        img = np.array(Image.open(file), dtype=np.int32)\n",
    "        imgs[idx, :, :, :] = img # 데이터영역에 이미지 행렬 복사\n",
    "        labels[idx] = 1\n",
    "        idx = idx+1\n",
    "\n",
    "    # 보\n",
    "    for file in glob.iglob(image_path + '/paper_300/*.jpg'):\n",
    "        img = np.array(Image.open(file), dtype=np.int32)\n",
    "        imgs[idx, :, :, :] = img # 데이터영역에 이미지 행렬 복사\n",
    "        labels[idx] = 2\n",
    "        idx = idx+1\n",
    "\n",
    "    print(\"데이터의 이미지 개수 : \", idx)\n",
    "    return imgs, labels"
   ]
  },
  {
   "cell_type": "code",
   "execution_count": 533,
   "metadata": {},
   "outputs": [
    {
     "name": "stdout",
     "output_type": "stream",
     "text": [
      "데이터의 이미지 개수 :  900\n",
      "x_train shape: (900, 28, 28, 3)\n",
      "y_train shape: (900,)\n"
     ]
    }
   ],
   "source": [
    "image_path = os.getenv(\"homepath\") + '/Desktop/python/exploration/exploration_11_22/image'\n",
    "(x_train, y_train) = load_data(image_path)\n",
    "x_train_norm = x_train/255.0 # 0 ~ 1 사이의 값으로 정규화\n",
    "\n",
    "print(\"x_train shape: {}\".format(x_train.shape))\n",
    "print(\"y_train shape: {}\".format(y_train.shape))"
   ]
  },
  {
   "cell_type": "code",
   "execution_count": 534,
   "metadata": {},
   "outputs": [
    {
     "name": "stdout",
     "output_type": "stream",
     "text": [
      "Epoch 1/40\n",
      "29/29 [==============================] - 1s 9ms/step - loss: 0.0940 - accuracy: 0.9667\n",
      "Epoch 2/40\n",
      "29/29 [==============================] - 0s 9ms/step - loss: 0.0126 - accuracy: 0.9978\n",
      "Epoch 3/40\n",
      "29/29 [==============================] - 0s 10ms/step - loss: 0.0014 - accuracy: 1.0000\n",
      "Epoch 4/40\n",
      "29/29 [==============================] - 0s 11ms/step - loss: 8.1925e-04 - accuracy: 1.0000\n",
      "Epoch 5/40\n",
      "29/29 [==============================] - 0s 10ms/step - loss: 7.2585e-04 - accuracy: 1.0000\n",
      "Epoch 6/40\n",
      "29/29 [==============================] - 0s 11ms/step - loss: 6.7822e-04 - accuracy: 1.0000\n",
      "Epoch 7/40\n",
      "29/29 [==============================] - 0s 10ms/step - loss: 6.5486e-04 - accuracy: 1.0000\n",
      "Epoch 8/40\n",
      "29/29 [==============================] - 0s 11ms/step - loss: 6.0792e-04 - accuracy: 1.0000\n",
      "Epoch 9/40\n",
      "29/29 [==============================] - 0s 10ms/step - loss: 5.7892e-04 - accuracy: 1.0000\n",
      "Epoch 10/40\n",
      "29/29 [==============================] - 0s 9ms/step - loss: 5.5734e-04 - accuracy: 1.0000\n",
      "Epoch 11/40\n",
      "29/29 [==============================] - 0s 10ms/step - loss: 5.3359e-04 - accuracy: 1.0000\n",
      "Epoch 12/40\n",
      "29/29 [==============================] - 0s 10ms/step - loss: 5.1311e-04 - accuracy: 1.0000\n",
      "Epoch 13/40\n",
      "29/29 [==============================] - 0s 10ms/step - loss: 4.8905e-04 - accuracy: 1.0000\n",
      "Epoch 14/40\n",
      "29/29 [==============================] - 0s 10ms/step - loss: 4.7512e-04 - accuracy: 1.0000\n",
      "Epoch 15/40\n",
      "29/29 [==============================] - 0s 10ms/step - loss: 4.6522e-04 - accuracy: 1.0000\n",
      "Epoch 16/40\n",
      "29/29 [==============================] - 0s 11ms/step - loss: 4.3751e-04 - accuracy: 1.0000\n",
      "Epoch 17/40\n",
      "29/29 [==============================] - 0s 11ms/step - loss: 4.2637e-04 - accuracy: 1.0000\n",
      "Epoch 18/40\n",
      "29/29 [==============================] - 0s 10ms/step - loss: 4.1522e-04 - accuracy: 1.0000\n",
      "Epoch 19/40\n",
      "29/29 [==============================] - 0s 14ms/step - loss: 3.9642e-04 - accuracy: 1.0000\n",
      "Epoch 20/40\n",
      "29/29 [==============================] - 0s 12ms/step - loss: 3.8701e-04 - accuracy: 1.0000\n",
      "Epoch 21/40\n",
      "29/29 [==============================] - 0s 10ms/step - loss: 3.7172e-04 - accuracy: 1.0000\n",
      "Epoch 22/40\n",
      "29/29 [==============================] - 0s 11ms/step - loss: 3.6176e-04 - accuracy: 1.0000\n",
      "Epoch 23/40\n",
      "29/29 [==============================] - 0s 11ms/step - loss: 3.5091e-04 - accuracy: 1.0000\n",
      "Epoch 24/40\n",
      "29/29 [==============================] - 0s 10ms/step - loss: 3.4428e-04 - accuracy: 1.0000\n",
      "Epoch 25/40\n",
      "29/29 [==============================] - 0s 10ms/step - loss: 3.3500e-04 - accuracy: 1.0000\n",
      "Epoch 26/40\n",
      "29/29 [==============================] - 0s 9ms/step - loss: 3.2383e-04 - accuracy: 1.0000\n",
      "Epoch 27/40\n",
      "29/29 [==============================] - 0s 9ms/step - loss: 3.1780e-04 - accuracy: 1.0000\n",
      "Epoch 28/40\n",
      "29/29 [==============================] - 0s 12ms/step - loss: 3.0886e-04 - accuracy: 1.0000\n",
      "Epoch 29/40\n",
      "29/29 [==============================] - 0s 12ms/step - loss: 3.0970e-04 - accuracy: 1.0000\n",
      "Epoch 30/40\n",
      "29/29 [==============================] - 0s 11ms/step - loss: 3.1328e-04 - accuracy: 1.0000\n",
      "Epoch 31/40\n",
      "29/29 [==============================] - 0s 11ms/step - loss: 2.8599e-04 - accuracy: 1.0000\n",
      "Epoch 32/40\n",
      "29/29 [==============================] - 0s 11ms/step - loss: 2.7031e-04 - accuracy: 1.0000\n",
      "Epoch 33/40\n",
      "29/29 [==============================] - 0s 11ms/step - loss: 2.6421e-04 - accuracy: 1.0000\n",
      "Epoch 34/40\n",
      "29/29 [==============================] - 0s 10ms/step - loss: 2.5863e-04 - accuracy: 1.0000\n",
      "Epoch 35/40\n",
      "29/29 [==============================] - 0s 11ms/step - loss: 2.5217e-04 - accuracy: 1.0000\n",
      "Epoch 36/40\n",
      "29/29 [==============================] - 0s 10ms/step - loss: 2.4834e-04 - accuracy: 1.0000\n",
      "Epoch 37/40\n",
      "29/29 [==============================] - 0s 9ms/step - loss: 2.4019e-04 - accuracy: 1.0000\n",
      "Epoch 38/40\n",
      "29/29 [==============================] - 0s 9ms/step - loss: 2.3387e-04 - accuracy: 1.0000\n",
      "Epoch 39/40\n",
      "29/29 [==============================] - 0s 10ms/step - loss: 2.3064e-04 - accuracy: 1.0000\n",
      "Epoch 40/40\n",
      "29/29 [==============================] - 0s 10ms/step - loss: 2.3130e-04 - accuracy: 1.0000\n"
     ]
    },
    {
     "data": {
      "text/plain": [
       "<keras.callbacks.History at 0x221a868d690>"
      ]
     },
     "execution_count": 534,
     "metadata": {},
     "output_type": "execute_result"
    }
   ],
   "source": [
    "n_train_epoch = 40\n",
    "\n",
    "model.compile(optimizer = 'Adam',\n",
    "             loss = 'sparse_categorical_crossentropy',\n",
    "             metrics = ['accuracy'])\n",
    "\n",
    "model.fit(x_train_norm, y_train, epochs=n_train_epoch)"
   ]
  },
  {
   "cell_type": "code",
   "execution_count": 535,
   "metadata": {},
   "outputs": [
    {
     "name": "stdout",
     "output_type": "stream",
     "text": [
      "10/10 [==============================] - 0s 4ms/step - loss: 2.4095 - accuracy: 0.7033\n",
      "test_loss: 2.409466505050659\n",
      "test_accuracy: 0.70333331823349\n"
     ]
    }
   ],
   "source": [
    "test_loss, test_accuracy = model.evaluate(x_test_norm, y_test, verbose=1)\n",
    "print(f\"test_loss: {test_loss}\")\n",
    "print(f\"test_accuracy: {test_accuracy}\")"
   ]
  },
  {
   "cell_type": "markdown",
   "metadata": {},
   "source": [
    "각각 300장의 image 데이터셋이 주어졌을 때의 accuracy 는 약 0.70 정도의 값이 나옴"
   ]
  },
  {
   "cell_type": "markdown",
   "metadata": {},
   "source": [
    "## 데이터셋이 각각 600장의 image 데이터셋이 있을때라면..?"
   ]
  },
  {
   "cell_type": "code",
   "execution_count": 536,
   "metadata": {},
   "outputs": [],
   "source": [
    "def load_data(image_path, number_of_data = 1800):\n",
    "    img_size = 28 # 28x28\n",
    "    color = 3 # RGB 값\n",
    "    \n",
    "    imgs = np.zeros(number_of_data*img_size*img_size*color, dtype=np.int32).reshape(number_of_data, img_size, img_size, color)\n",
    "    labels = np.zeros(number_of_data, dtype=np.int32)\n",
    "\n",
    "    idx = 0\n",
    "    # 가위\n",
    "    for file in glob.iglob(image_path + '/scissor_600/*.jpg'):\n",
    "        img = np.array(Image.open(file), dtype=np.int32)\n",
    "        imgs[idx, :, :, :] = img # 데이터영역에 이미지 행렬 복사\n",
    "        labels[idx] = 0\n",
    "        idx = idx+1\n",
    "    \n",
    "    # 바위\n",
    "    for file in glob.iglob(image_path + '/rock_600/*.jpg'):\n",
    "        img = np.array(Image.open(file), dtype=np.int32)\n",
    "        imgs[idx, :, :, :] = img # 데이터영역에 이미지 행렬 복사\n",
    "        labels[idx] = 1\n",
    "        idx = idx+1\n",
    "\n",
    "    # 보\n",
    "    for file in glob.iglob(image_path + '/paper_600/*.jpg'):\n",
    "        img = np.array(Image.open(file), dtype=np.int32)\n",
    "        imgs[idx, :, :, :] = img # 데이터영역에 이미지 행렬 복사\n",
    "        labels[idx] = 2\n",
    "        idx = idx+1\n",
    "\n",
    "    print(\"데이터의 이미지 개수 : \", idx)\n",
    "    return imgs, labels"
   ]
  },
  {
   "cell_type": "code",
   "execution_count": 537,
   "metadata": {},
   "outputs": [
    {
     "name": "stdout",
     "output_type": "stream",
     "text": [
      "데이터의 이미지 개수 :  1800\n",
      "x_train shape: (1800, 28, 28, 3)\n",
      "y_train shape: (1800,)\n"
     ]
    }
   ],
   "source": [
    "image_path = os.getenv(\"homepath\") + '/Desktop/python/exploration/exploration_11_22/image'\n",
    "(x_train, y_train) = load_data(image_path)\n",
    "x_train_norm = x_train/255.0 # 0 ~ 1 사이의 값으로 정규화\n",
    "\n",
    "print(\"x_train shape: {}\".format(x_train.shape))\n",
    "print(\"y_train shape: {}\".format(y_train.shape))"
   ]
  },
  {
   "cell_type": "code",
   "execution_count": 538,
   "metadata": {},
   "outputs": [
    {
     "name": "stdout",
     "output_type": "stream",
     "text": [
      "Epoch 1/40\n",
      "57/57 [==============================] - 1s 9ms/step - loss: 0.0134 - accuracy: 0.9950\n",
      "Epoch 2/40\n",
      "57/57 [==============================] - 1s 9ms/step - loss: 0.0015 - accuracy: 1.0000\n",
      "Epoch 3/40\n",
      "57/57 [==============================] - 1s 10ms/step - loss: 7.8633e-04 - accuracy: 1.0000\n",
      "Epoch 4/40\n",
      "57/57 [==============================] - 1s 10ms/step - loss: 6.4887e-04 - accuracy: 1.0000\n",
      "Epoch 5/40\n",
      "57/57 [==============================] - 1s 9ms/step - loss: 5.6236e-04 - accuracy: 1.0000\n",
      "Epoch 6/40\n",
      "57/57 [==============================] - 1s 10ms/step - loss: 5.2016e-04 - accuracy: 1.0000\n",
      "Epoch 7/40\n",
      "57/57 [==============================] - 1s 10ms/step - loss: 4.9824e-04 - accuracy: 1.0000\n",
      "Epoch 8/40\n",
      "57/57 [==============================] - 1s 10ms/step - loss: 4.2328e-04 - accuracy: 1.0000\n",
      "Epoch 9/40\n",
      "57/57 [==============================] - 1s 10ms/step - loss: 3.9826e-04 - accuracy: 1.0000\n",
      "Epoch 10/40\n",
      "57/57 [==============================] - 1s 10ms/step - loss: 3.7351e-04 - accuracy: 1.0000\n",
      "Epoch 11/40\n",
      "57/57 [==============================] - 1s 10ms/step - loss: 3.3089e-04 - accuracy: 1.0000\n",
      "Epoch 12/40\n",
      "57/57 [==============================] - 1s 9ms/step - loss: 3.1313e-04 - accuracy: 1.0000\n",
      "Epoch 13/40\n",
      "57/57 [==============================] - 1s 10ms/step - loss: 2.9762e-04 - accuracy: 1.0000\n",
      "Epoch 14/40\n",
      "57/57 [==============================] - 1s 9ms/step - loss: 2.6842e-04 - accuracy: 1.0000\n",
      "Epoch 15/40\n",
      "57/57 [==============================] - 1s 10ms/step - loss: 2.5496e-04 - accuracy: 1.0000\n",
      "Epoch 16/40\n",
      "57/57 [==============================] - 1s 9ms/step - loss: 2.3817e-04 - accuracy: 1.0000\n",
      "Epoch 17/40\n",
      "57/57 [==============================] - 1s 10ms/step - loss: 2.1881e-04 - accuracy: 1.0000\n",
      "Epoch 18/40\n",
      "57/57 [==============================] - 1s 9ms/step - loss: 2.0376e-04 - accuracy: 1.0000\n",
      "Epoch 19/40\n",
      "57/57 [==============================] - 1s 10ms/step - loss: 1.9027e-04 - accuracy: 1.0000\n",
      "Epoch 20/40\n",
      "57/57 [==============================] - 1s 11ms/step - loss: 1.8101e-04 - accuracy: 1.0000\n",
      "Epoch 21/40\n",
      "57/57 [==============================] - 1s 10ms/step - loss: 1.6967e-04 - accuracy: 1.0000\n",
      "Epoch 22/40\n",
      "57/57 [==============================] - 1s 10ms/step - loss: 1.5182e-04 - accuracy: 1.0000\n",
      "Epoch 23/40\n",
      "57/57 [==============================] - 1s 9ms/step - loss: 1.4191e-04 - accuracy: 1.0000\n",
      "Epoch 24/40\n",
      "57/57 [==============================] - 1s 10ms/step - loss: 1.3289e-04 - accuracy: 1.0000\n",
      "Epoch 25/40\n",
      "57/57 [==============================] - 1s 9ms/step - loss: 1.2490e-04 - accuracy: 1.0000\n",
      "Epoch 26/40\n",
      "57/57 [==============================] - 1s 10ms/step - loss: 1.2025e-04 - accuracy: 1.0000\n",
      "Epoch 27/40\n",
      "57/57 [==============================] - 1s 9ms/step - loss: 1.1226e-04 - accuracy: 1.0000\n",
      "Epoch 28/40\n",
      "57/57 [==============================] - 1s 10ms/step - loss: 1.0335e-04 - accuracy: 1.0000\n",
      "Epoch 29/40\n",
      "57/57 [==============================] - 1s 14ms/step - loss: 9.6255e-05 - accuracy: 1.0000\n",
      "Epoch 30/40\n",
      "57/57 [==============================] - 1s 15ms/step - loss: 9.3290e-05 - accuracy: 1.0000\n",
      "Epoch 31/40\n",
      "57/57 [==============================] - 1s 11ms/step - loss: 8.4219e-05 - accuracy: 1.0000\n",
      "Epoch 32/40\n",
      "57/57 [==============================] - 1s 10ms/step - loss: 8.1056e-05 - accuracy: 1.0000\n",
      "Epoch 33/40\n",
      "57/57 [==============================] - 1s 10ms/step - loss: 7.8739e-05 - accuracy: 1.0000\n",
      "Epoch 34/40\n",
      "57/57 [==============================] - 1s 12ms/step - loss: 7.1403e-05 - accuracy: 1.0000\n",
      "Epoch 35/40\n",
      "57/57 [==============================] - 1s 10ms/step - loss: 6.8931e-05 - accuracy: 1.0000\n",
      "Epoch 36/40\n",
      "57/57 [==============================] - 1s 10ms/step - loss: 6.8479e-05 - accuracy: 1.0000\n",
      "Epoch 37/40\n",
      "57/57 [==============================] - 1s 13ms/step - loss: 6.2478e-05 - accuracy: 1.0000\n",
      "Epoch 38/40\n",
      "57/57 [==============================] - 1s 10ms/step - loss: 5.8103e-05 - accuracy: 1.0000\n",
      "Epoch 39/40\n",
      "57/57 [==============================] - 1s 9ms/step - loss: 5.4402e-05 - accuracy: 1.0000\n",
      "Epoch 40/40\n",
      "57/57 [==============================] - 1s 10ms/step - loss: 5.2403e-05 - accuracy: 1.0000\n"
     ]
    },
    {
     "data": {
      "text/plain": [
       "<keras.callbacks.History at 0x221a864ecb0>"
      ]
     },
     "execution_count": 538,
     "metadata": {},
     "output_type": "execute_result"
    }
   ],
   "source": [
    "n_train_epoch = 40\n",
    "\n",
    "model.compile(optimizer = 'Adam',\n",
    "             loss = 'sparse_categorical_crossentropy',\n",
    "             metrics = ['accuracy'])\n",
    "\n",
    "model.fit(x_train_norm, y_train, epochs=n_train_epoch)"
   ]
  },
  {
   "cell_type": "code",
   "execution_count": 539,
   "metadata": {},
   "outputs": [
    {
     "name": "stdout",
     "output_type": "stream",
     "text": [
      "10/10 [==============================] - 0s 6ms/step - loss: 3.3609 - accuracy: 0.6467\n",
      "test_loss: 3.360877752304077\n",
      "test_accuracy: 0.6466666460037231\n"
     ]
    }
   ],
   "source": [
    "test_loss, test_accuracy = model.evaluate(x_test_norm, y_test, verbose=1)\n",
    "print(f\"test_loss: {test_loss}\")\n",
    "print(f\"test_accuracy: {test_accuracy}\")"
   ]
  },
  {
   "cell_type": "markdown",
   "metadata": {},
   "source": [
    "각각 600장의 image 데이터셋이 주어졌을 때의 accuracy 는 약 0.64 정도의 값이 나옴"
   ]
  },
  {
   "cell_type": "markdown",
   "metadata": {},
   "source": [
    "## 회고"
   ]
  },
  {
   "cell_type": "markdown",
   "metadata": {},
   "source": [
    "그동안 데이터셋을 직접 전처리하며 머신러닝에 적용시켜 결과값을 봤었다면  \n",
    "이번 프로젝트에선 처음으로 딥러닝에 대해서 직접 실습해보고 어떤 차이가 있었는지를 알 수 있어서 좋았었던 프로젝트 였습니다.  \n",
    "  \n",
    "개인적으로 평소에 이해하고 있던 머신러닝과 딥러닝의 차이는 머신러닝은 데이터 전처리 과정에서 사람이 직접 전처리를 진행하는 과정이 필요하고  \n",
    "딥러닝은 데이터 전처리 과정에서 사람의 개입보단 여러가지의 데이터를 학습시켜 데이터 처리를 진행하는것이다. 라고 알고 있었으며  \n",
    "이번 프로젝트에선 어떤식으로 어떻게 기계가 데이터를 학습하며 테스트 데이터셋과 비교분석 하는지를 알 수 있게 되었습니다.  \n",
    "  \n",
    "1. 처음 가위바위보 각 100장씩의 이미지를 가지고 진행했을 땐 프로젝트 노드에 있었던 내용만을 이용하여 진행했었고  \n",
    "이때의 문제점은 accuracy 의 값이 약 0.4 이상을 넘지를 못했으며 여러가지 하이퍼파라미터 값을 시도해봐도 크게 달라지는 내용은 없었습니다.  \n",
    "그래서 어떤 문제가 있었을까 생각하며 데이터의 크기가 28x28 이고 테스트 진행 시 가장 값이 잘 나왔던 kernel의 값이 (3, 3) 이었으니  \n",
    "kernel의 값은 놔두고 Padding 을 적용시켜 이미지의 손실을 최대한 막아보는게 어떨까 하는 생각에 하이퍼파라미터에 Padding 값을 넣어줘봤으며  \n",
    "유의미한 결과를 찾게 되어 0.68 정도의 accuracy 값을 갖을 수 있었습니다.  \n",
    "개인적으로 생각해봤던 이유는 Convolution layer 에서 데이터 손실이 생기면 28x28 에서 손실된 데이터만큼 더 작아진 데이터로  \n",
    "확인했었어야 했으며 MaxPool layer 에서도 이미 특징 대한 Max 값만을 사용하기에 (물론 Max의 값을 사용하기에 손의 특징에 대해서 확인하기 적합)  \n",
    "데이터 손실이 이루어져 accuracy 의 값이 낮게 나올 수 밖에 없었고 데이터의 손실을 방지하기 위해 Padding 값을 씌워 테스트 진행했을 때  \n",
    "유의미한 값이 나오지 않았을까 하는 생각입니다.  \n",
    "  \n",
    "2. 기존 데이터는 각각 100장 총 300장의 train 데이터를 학습시켜 값을 확인했었으며 Padding 의 하이퍼파라미터값을 이용하여 유의미한  \n",
    "결과값을 확인했었지만 과연 데이터가 각각 100장이 아니라 좀더 많은 데이터를 학습시킨다면 어떤 결과를 가져올까 하는 생각에  \n",
    "그루님들께서 올려주셨던 각각의 300장의 이미지셋을 가져와 같이 학습시켜 보았으며 여기서 알 수 있었던 사실은  \n",
    "적절한 이미지의 학습(이번 프로젝트에선 총 900장의 train 데이터) 은 모델의 성능을 올려주지만  \n",
    "수많은 이미지를 학습시키면 오히려 Overfitting의 문제가 발생하여 모델의 성능을 떨어뜨리는것을 확인해 볼 수 있었습니다.(1800장의 train 데이터)  \n",
    "그동안 Overfitting 이라는것을 경험해보지 못했으며 이미지데이터가 많으면 많을수록 모델의 성능이 좋아진다는 평소의 생각을  \n",
    "뒤집어볼 수 있었던 실험이었으며 Overfitting 을 경험해보니 데이터의 수가 능사는 아니라는것을 알 수 있었습니다."
   ]
  },
  {
   "cell_type": "markdown",
   "metadata": {},
   "source": [
    "## Reference"
   ]
  },
  {
   "cell_type": "markdown",
   "metadata": {},
   "source": [
    "Aiffel 노드 EXPLORATION_GN5 / 5. 인공지능과 가위바위보 하기  \n",
    "[가위바위보 데이터](https://drive.google.com/drive/folders/1y-236wZksbT_O2TiRJf1_SSEtCOFvHRc)  \n",
    "[Keras API reference / Layers API / Convolution layers / Conv2D layer](https://keras.io/api/layers/convolution_layers/convolution2d/)\n"
   ]
  }
 ],
 "metadata": {
  "kernelspec": {
   "display_name": "Python 3.10.8 64-bit",
   "language": "python",
   "name": "python3"
  },
  "language_info": {
   "codemirror_mode": {
    "name": "ipython",
    "version": 3
   },
   "file_extension": ".py",
   "mimetype": "text/x-python",
   "name": "python",
   "nbconvert_exporter": "python",
   "pygments_lexer": "ipython3",
   "version": "3.10.8"
  },
  "orig_nbformat": 4,
  "vscode": {
   "interpreter": {
    "hash": "369f2c481f4da34e4445cda3fffd2e751bd1c4d706f27375911949ba6bb62e1c"
   }
  }
 },
 "nbformat": 4,
 "nbformat_minor": 2
}
