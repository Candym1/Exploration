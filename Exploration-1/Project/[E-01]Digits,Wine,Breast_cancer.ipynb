{
  "cells": [
    {
      "cell_type": "markdown",
      "metadata": {},
      "source": [
        "# E-01_ Digits, Wine, Breast_cancer Project  \n"
      ]
    },
    {
      "cell_type": "markdown",
      "metadata": {},
      "source": [
        "## (1) 필요한 모듈 import하기  \n"
      ]
    },
    {
      "cell_type": "code",
      "execution_count": 56,
      "metadata": {},
      "outputs": [],
      "source": [
        "from sklearn.datasets import load_digits #손글씨 데이터\n",
        "from sklearn.datasets import load_wine #와인 데이터\n",
        "from sklearn.datasets import load_breast_cancer #유방암 데이터\n",
        "from sklearn.model_selection import train_test_split\n",
        "from sklearn.tree import DecisionTreeClassifier #결정나무\n",
        "from sklearn.ensemble import RandomForestClassifier #랜덤포레스트\n",
        "from sklearn.svm import SVC #SVM (서포트 백터 머신)\n",
        "from sklearn.linear_model import SGDClassifier #SGD\n",
        "from sklearn.linear_model import LogisticRegression #LogisticRegression\n",
        "from sklearn.metrics import classification_report #표현 확인\n",
        "from sklearn.metrics import confusion_matrix #오차행렬 매트릭스\n",
        "from sklearn.metrics import accuracy_score, precision_score, recall_score, f1_score\n",
        "# 정확도, 정밀도, 재현율 ,f1_score\n",
        "import pandas as pd\n",
        "import matplotlib.pyplot as plt\n",
        "import numpy as np"
      ]
    },
    {
      "cell_type": "markdown",
      "metadata": {},
      "source": [
        "## (2) 손글씨 데이터 준비  \n"
      ]
    },
    {
      "cell_type": "code",
      "execution_count": 57,
      "metadata": {},
      "outputs": [],
      "source": [
        "digits = load_digits()\n",
        "#dict_keys(['data', 'target', 'frame', 'feature_names', \n",
        "#           'target_names', 'images', 'DESCR'])"
      ]
    },
    {
      "cell_type": "markdown",
      "metadata": {},
      "source": [
        "## (3) 데이터 이해하기  \n"
      ]
    },
    {
      "cell_type": "code",
      "execution_count": 58,
      "metadata": {},
      "outputs": [
        {
          "name": "stdout",
          "output_type": "stream",
          "text": [
            "[0 1 2 3 4 5 6 7 8 9]\n",
            ".. _digits_dataset:\n",
            "\n",
            "Optical recognition of handwritten digits dataset\n",
            "--------------------------------------------------\n",
            "\n",
            "**Data Set Characteristics:**\n",
            "\n",
            "    :Number of Instances: 1797\n",
            "    :Number of Attributes: 64\n",
            "    :Attribute Information: 8x8 image of integer pixels in the range 0..16.\n",
            "    :Missing Attribute Values: None\n",
            "    :Creator: E. Alpaydin (alpaydin '@' boun.edu.tr)\n",
            "    :Date: July; 1998\n",
            "\n",
            "This is a copy of the test set of the UCI ML hand-written digits datasets\n",
            "https://archive.ics.uci.edu/ml/datasets/Optical+Recognition+of+Handwritten+Digits\n",
            "\n",
            "The data set contains images of hand-written digits: 10 classes where\n",
            "each class refers to a digit.\n",
            "\n",
            "Preprocessing programs made available by NIST were used to extract\n",
            "normalized bitmaps of handwritten digits from a preprinted form. From a\n",
            "total of 43 people, 30 contributed to the training set and different 13\n",
            "to the test set. 32x32 bitmaps are divided into nonoverlapping blocks of\n",
            "4x4 and the number of on pixels are counted in each block. This generates\n",
            "an input matrix of 8x8 where each element is an integer in the range\n",
            "0..16. This reduces dimensionality and gives invariance to small\n",
            "distortions.\n",
            "\n",
            "For info on NIST preprocessing routines, see M. D. Garris, J. L. Blue, G.\n",
            "T. Candela, D. L. Dimmick, J. Geist, P. J. Grother, S. A. Janet, and C.\n",
            "L. Wilson, NIST Form-Based Handprint Recognition System, NISTIR 5469,\n",
            "1994.\n",
            "\n",
            ".. topic:: References\n",
            "\n",
            "  - C. Kaynak (1995) Methods of Combining Multiple Classifiers and Their\n",
            "    Applications to Handwritten Digit Recognition, MSc Thesis, Institute of\n",
            "    Graduate Studies in Science and Engineering, Bogazici University.\n",
            "  - E. Alpaydin, C. Kaynak (1998) Cascading Classifiers, Kybernetika.\n",
            "  - Ken Tang and Ponnuthurai N. Suganthan and Xi Yao and A. Kai Qin.\n",
            "    Linear dimensionalityreduction using relevance weighted LDA. School of\n",
            "    Electrical and Electronic Engineering Nanyang Technological University.\n",
            "    2005.\n",
            "  - Claudio Gentile. A New Approximate Maximal Margin Classification\n",
            "    Algorithm. NIPS. 2000.\n",
            "\n"
          ]
        }
      ],
      "source": [
        "digits_data = digits.data\n",
        "digits_label = digits.target\n",
        "print(digits.target_names) #target_names 출력 [0 1 2 3 4 5 6 7 8 9]\n",
        "print(digits.DESCR) #데이터 Describe"
      ]
    },
    {
      "cell_type": "markdown",
      "metadata": {},
      "source": [
        "## (4) train, test 데이터 분리  \n"
      ]
    },
    {
      "cell_type": "code",
      "execution_count": 59,
      "metadata": {},
      "outputs": [],
      "source": [
        "digits_df = pd.DataFrame(data = digits_data, columns = digits.feature_names)\n",
        "X_train, X_test, Y_train, Y_test = train_test_split(digits_data,\n",
        "                                                    digits_label,\n",
        "                                                    test_size = 0.2,\n",
        "                                                    random_state = 3)"
      ]
    },
    {
      "cell_type": "markdown",
      "metadata": {},
      "source": [
        "## (5) 다양한 모델로 학습시켜보기  \n"
      ]
    },
    {
      "cell_type": "markdown",
      "metadata": {},
      "source": [
        "### 모델 객체 생성  \n"
      ]
    },
    {
      "cell_type": "code",
      "execution_count": 60,
      "metadata": {},
      "outputs": [],
      "source": [
        "decision_tree = DecisionTreeClassifier(random_state = 22)\n",
        "random_forest = RandomForestClassifier(random_state = 22)\n",
        "svm = SVC(kernel = 'linear', C = 0.0009)\n",
        "sgd = SGDClassifier()\n",
        "logistic = LogisticRegression()"
      ]
    },
    {
      "cell_type": "markdown",
      "metadata": {},
      "source": [
        "### 모델 학습  \n"
      ]
    },
    {
      "cell_type": "code",
      "execution_count": 61,
      "metadata": {},
      "outputs": [
        {
          "name": "stderr",
          "output_type": "stream",
          "text": [
            "c:\\Python310\\lib\\site-packages\\sklearn\\linear_model\\_logistic.py:444: ConvergenceWarning: lbfgs failed to converge (status=1):\n",
            "STOP: TOTAL NO. of ITERATIONS REACHED LIMIT.\n",
            "\n",
            "Increase the number of iterations (max_iter) or scale the data as shown in:\n",
            "    https://scikit-learn.org/stable/modules/preprocessing.html\n",
            "Please also refer to the documentation for alternative solver options:\n",
            "    https://scikit-learn.org/stable/modules/linear_model.html#logistic-regression\n",
            "  n_iter_i = _check_optimize_result(\n"
          ]
        },
        {
          "data": {
            "text/html": [
              "<style>#sk-container-id-4 {color: black;background-color: white;}#sk-container-id-4 pre{padding: 0;}#sk-container-id-4 div.sk-toggleable {background-color: white;}#sk-container-id-4 label.sk-toggleable__label {cursor: pointer;display: block;width: 100%;margin-bottom: 0;padding: 0.3em;box-sizing: border-box;text-align: center;}#sk-container-id-4 label.sk-toggleable__label-arrow:before {content: \"▸\";float: left;margin-right: 0.25em;color: #696969;}#sk-container-id-4 label.sk-toggleable__label-arrow:hover:before {color: black;}#sk-container-id-4 div.sk-estimator:hover label.sk-toggleable__label-arrow:before {color: black;}#sk-container-id-4 div.sk-toggleable__content {max-height: 0;max-width: 0;overflow: hidden;text-align: left;background-color: #f0f8ff;}#sk-container-id-4 div.sk-toggleable__content pre {margin: 0.2em;color: black;border-radius: 0.25em;background-color: #f0f8ff;}#sk-container-id-4 input.sk-toggleable__control:checked~div.sk-toggleable__content {max-height: 200px;max-width: 100%;overflow: auto;}#sk-container-id-4 input.sk-toggleable__control:checked~label.sk-toggleable__label-arrow:before {content: \"▾\";}#sk-container-id-4 div.sk-estimator input.sk-toggleable__control:checked~label.sk-toggleable__label {background-color: #d4ebff;}#sk-container-id-4 div.sk-label input.sk-toggleable__control:checked~label.sk-toggleable__label {background-color: #d4ebff;}#sk-container-id-4 input.sk-hidden--visually {border: 0;clip: rect(1px 1px 1px 1px);clip: rect(1px, 1px, 1px, 1px);height: 1px;margin: -1px;overflow: hidden;padding: 0;position: absolute;width: 1px;}#sk-container-id-4 div.sk-estimator {font-family: monospace;background-color: #f0f8ff;border: 1px dotted black;border-radius: 0.25em;box-sizing: border-box;margin-bottom: 0.5em;}#sk-container-id-4 div.sk-estimator:hover {background-color: #d4ebff;}#sk-container-id-4 div.sk-parallel-item::after {content: \"\";width: 100%;border-bottom: 1px solid gray;flex-grow: 1;}#sk-container-id-4 div.sk-label:hover label.sk-toggleable__label {background-color: #d4ebff;}#sk-container-id-4 div.sk-serial::before {content: \"\";position: absolute;border-left: 1px solid gray;box-sizing: border-box;top: 0;bottom: 0;left: 50%;z-index: 0;}#sk-container-id-4 div.sk-serial {display: flex;flex-direction: column;align-items: center;background-color: white;padding-right: 0.2em;padding-left: 0.2em;position: relative;}#sk-container-id-4 div.sk-item {position: relative;z-index: 1;}#sk-container-id-4 div.sk-parallel {display: flex;align-items: stretch;justify-content: center;background-color: white;position: relative;}#sk-container-id-4 div.sk-item::before, #sk-container-id-4 div.sk-parallel-item::before {content: \"\";position: absolute;border-left: 1px solid gray;box-sizing: border-box;top: 0;bottom: 0;left: 50%;z-index: -1;}#sk-container-id-4 div.sk-parallel-item {display: flex;flex-direction: column;z-index: 1;position: relative;background-color: white;}#sk-container-id-4 div.sk-parallel-item:first-child::after {align-self: flex-end;width: 50%;}#sk-container-id-4 div.sk-parallel-item:last-child::after {align-self: flex-start;width: 50%;}#sk-container-id-4 div.sk-parallel-item:only-child::after {width: 0;}#sk-container-id-4 div.sk-dashed-wrapped {border: 1px dashed gray;margin: 0 0.4em 0.5em 0.4em;box-sizing: border-box;padding-bottom: 0.4em;background-color: white;}#sk-container-id-4 div.sk-label label {font-family: monospace;font-weight: bold;display: inline-block;line-height: 1.2em;}#sk-container-id-4 div.sk-label-container {text-align: center;}#sk-container-id-4 div.sk-container {/* jupyter's `normalize.less` sets `[hidden] { display: none; }` but bootstrap.min.css set `[hidden] { display: none !important; }` so we also need the `!important` here to be able to override the default hidden behavior on the sphinx rendered scikit-learn.org. See: https://github.com/scikit-learn/scikit-learn/issues/21755 */display: inline-block !important;position: relative;}#sk-container-id-4 div.sk-text-repr-fallback {display: none;}</style><div id=\"sk-container-id-4\" class=\"sk-top-container\"><div class=\"sk-text-repr-fallback\"><pre>LogisticRegression()</pre><b>In a Jupyter environment, please rerun this cell to show the HTML representation or trust the notebook. <br />On GitHub, the HTML representation is unable to render, please try loading this page with nbviewer.org.</b></div><div class=\"sk-container\" hidden><div class=\"sk-item\"><div class=\"sk-estimator sk-toggleable\"><input class=\"sk-toggleable__control sk-hidden--visually\" id=\"sk-estimator-id-4\" type=\"checkbox\" checked><label for=\"sk-estimator-id-4\" class=\"sk-toggleable__label sk-toggleable__label-arrow\">LogisticRegression</label><div class=\"sk-toggleable__content\"><pre>LogisticRegression()</pre></div></div></div></div></div>"
            ],
            "text/plain": [
              "LogisticRegression()"
            ]
          },
          "execution_count": 61,
          "metadata": {},
          "output_type": "execute_result"
        }
      ],
      "source": [
        "decision_tree.fit(X_train, Y_train)\n",
        "random_forest.fit(X_train, Y_train)\n",
        "svm.fit(X_train, Y_train)\n",
        "sgd.fit(X_train, Y_train)\n",
        "logistic.fit(X_train, Y_train)"
      ]
    },
    {
      "cell_type": "markdown",
      "metadata": {},
      "source": [
        "### 학습 데이터 예측  \n"
      ]
    },
    {
      "cell_type": "code",
      "execution_count": 62,
      "metadata": {},
      "outputs": [],
      "source": [
        "y_pred = decision_tree.predict(X_test)\n",
        "y_pred_r = random_forest.predict(X_test)\n",
        "y_pred_v = svm.predict(X_test)\n",
        "y_pred_s = sgd.predict(X_test)\n",
        "y_pred_l = logistic.predict(X_test)"
      ]
    },
    {
      "cell_type": "markdown",
      "metadata": {},
      "source": [
        "### 모델 평가 - 결정나무  \n"
      ]
    },
    {
      "cell_type": "code",
      "execution_count": 63,
      "metadata": {},
      "outputs": [],
      "source": [
        "classification = classification_report(Y_test, y_pred)\n",
        "confusion = confusion_matrix(Y_test, y_pred)\n",
        "accuracy = accuracy_score(Y_test, y_pred)\n",
        "recall = recall_score(Y_test, y_pred, average = 'macro')\n",
        "precision = precision_score(Y_test, y_pred, average = 'macro')\n",
        "fscore = f1_score(Y_test, y_pred, average = 'macro')"
      ]
    },
    {
      "cell_type": "markdown",
      "metadata": {},
      "source": [
        "### 호출  \n"
      ]
    },
    {
      "cell_type": "code",
      "execution_count": 64,
      "metadata": {},
      "outputs": [
        {
          "name": "stdout",
          "output_type": "stream",
          "text": [
            "손글씨(digits) 데이터\n"
          ]
        }
      ],
      "source": [
        "print('손글씨(digits) 데이터')"
      ]
    },
    {
      "cell_type": "markdown",
      "metadata": {},
      "source": [
        "----------------------------------------------------"
      ]
    },
    {
      "cell_type": "code",
      "execution_count": 65,
      "metadata": {},
      "outputs": [
        {
          "name": "stdout",
          "output_type": "stream",
          "text": [
            "결정나무(accuracy) : 86.1111\n",
            "결정나무(recall) : 85.7524\n",
            "결정나무(precision) : 86.3851\n",
            "결정나무(fscore) : 85.7731\n"
          ]
        }
      ],
      "source": [
        "# print('결정나무(classification : {0}'.format(classification))\n",
        "# print(confusion)\n",
        "print('결정나무(accuracy) : {0:.4f}'.format(accuracy * 100))\n",
        "#결정나무 : 86.1111\n",
        "\n",
        "print('결정나무(recall) : {0:.4f}'.format(recall * 100))\n",
        "#결정나무 : 85.7524\n",
        "\n",
        "print('결정나무(precision) : {0:.4f}'.format(precision * 100))\n",
        "#결정나무 : 86.3851\n",
        "\n",
        "print('결정나무(fscore) : {0:.4f}'.format(fscore * 100))\n",
        "#결정나무 : 85.7731"
      ]
    },
    {
      "cell_type": "markdown",
      "metadata": {},
      "source": [
        "----------------------------------------------------"
      ]
    },
    {
      "cell_type": "markdown",
      "metadata": {},
      "source": [
        "### 모델 평가 - 랜덤포레스트  \n"
      ]
    },
    {
      "cell_type": "code",
      "execution_count": 66,
      "metadata": {},
      "outputs": [],
      "source": [
        "classification_r = classification_report(Y_test, y_pred_r)\n",
        "confusion_r = confusion_matrix(Y_test, y_pred_r)\n",
        "accuracy_r = accuracy_score(Y_test, y_pred_r)\n",
        "recall_r = recall_score(Y_test, y_pred_r, average = 'macro')\n",
        "precision_r = precision_score(Y_test, y_pred_r, average = 'macro')\n",
        "fscore_r = f1_score(Y_test, y_pred_r, average = 'macro')"
      ]
    },
    {
      "cell_type": "markdown",
      "metadata": {},
      "source": [
        "### 호출  \n"
      ]
    },
    {
      "cell_type": "code",
      "execution_count": 67,
      "metadata": {},
      "outputs": [
        {
          "name": "stdout",
          "output_type": "stream",
          "text": [
            "랜덤포레스트(accuracy) : 97.2222\n",
            "랜덤포레스트(recall) : 97.0847\n",
            "랜덤포레스트(precision) : 97.1908\n",
            "랜덤포레스트(fscore) : 97.0681\n"
          ]
        }
      ],
      "source": [
        "# print('랜덤포레스트(classification : {0}'.format(classification_r))\n",
        "print('랜덤포레스트(accuracy) : {0:.4f}'.format(accuracy_r * 100))\n",
        "# #랜덤포레스트 : 97.2222\n",
        "\n",
        "print('랜덤포레스트(recall) : {0:.4f}'.format(recall_r * 100))\n",
        "#랜덤포레스트 : 97.0847\n",
        "\n",
        "print('랜덤포레스트(precision) : {0:.4f}'.format(precision_r * 100))\n",
        "#랜덤포레스트 : 97.1908\n",
        "\n",
        "print('랜덤포레스트(fscore) : {0:.4f}'.format(fscore_r * 100))\n",
        "#랜덤포레스트 : 97.0681"
      ]
    },
    {
      "cell_type": "markdown",
      "metadata": {},
      "source": [
        "----------------------------------------------------"
      ]
    },
    {
      "cell_type": "markdown",
      "metadata": {},
      "source": [
        "### 모델 평가 - SVM  \n"
      ]
    },
    {
      "cell_type": "code",
      "execution_count": 68,
      "metadata": {},
      "outputs": [],
      "source": [
        "classification_v = classification_report(Y_test, y_pred_v)\n",
        "confusion_v = confusion_matrix(Y_test, y_pred_v)\n",
        "accuracy_v = accuracy_score(Y_test, y_pred_v)\n",
        "recall_v = recall_score(Y_test, y_pred_v, average = 'macro')\n",
        "precision_v = precision_score(Y_test, y_pred_v, average = 'macro')\n",
        "fscore_v = f1_score(Y_test, y_pred_v, average = 'macro')"
      ]
    },
    {
      "cell_type": "markdown",
      "metadata": {},
      "source": [
        "### 호출  \n"
      ]
    },
    {
      "cell_type": "code",
      "execution_count": 69,
      "metadata": {},
      "outputs": [
        {
          "name": "stdout",
          "output_type": "stream",
          "text": [
            "SVM(accuracy) : 98.6111\n",
            "SVM(recall) : 98.5818\n",
            "SVM(precision) : 98.4758\n",
            "SVM(fscore) : 98.5247\n"
          ]
        }
      ],
      "source": [
        "# print('SVM(classification : {0}'.format(classification_r))\n",
        "print('SVM(accuracy) : {0:.4f}'.format(accuracy_v * 100))\n",
        "# #SVM : 98.6111\n",
        "\n",
        "print('SVM(recall) : {0:.4f}'.format(recall_v * 100))\n",
        "#SVM : 98.5818\n",
        "\n",
        "print('SVM(precision) : {0:.4f}'.format(precision_v * 100))\n",
        "#SVM : 98.4758\n",
        "\n",
        "print('SVM(fscore) : {0:.4f}'.format(fscore_v * 100))\n",
        "#SVM : 98.5247"
      ]
    },
    {
      "cell_type": "markdown",
      "metadata": {},
      "source": [
        "----------------------------------------------------"
      ]
    },
    {
      "cell_type": "markdown",
      "metadata": {},
      "source": [
        "### 모델 평가 - SGD  \n"
      ]
    },
    {
      "cell_type": "markdown",
      "metadata": {},
      "source": [
        "SGD의 결과값이 매번 바뀌는 이유:  \n",
        "-> 손실함수가 최솟값(=원하는 정제된 데이터)으로 갈때까지 불안정하게 움직이다보니  \n",
        "최적해(=최적화 데이터)에 도달하지 못할수도 있음  \n",
        "(지역 최솟값으론 빠르게 도달 가능하나, 전역 최솟값에는 다다르기 힘들 수 있음)  \n"
      ]
    },
    {
      "cell_type": "code",
      "execution_count": 70,
      "metadata": {},
      "outputs": [],
      "source": [
        "classification_s = classification_report(Y_test, y_pred_s)\n",
        "confusion_s = confusion_matrix(Y_test, y_pred_s)\n",
        "accuracy_s = accuracy_score(Y_test, y_pred_s)\n",
        "recall_s = recall_score(Y_test, y_pred_s, average = 'macro')\n",
        "precision_s = precision_score(Y_test, y_pred_s, average = 'macro')\n",
        "fscore_s = f1_score(Y_test, y_pred_s, average = 'macro')"
      ]
    },
    {
      "cell_type": "markdown",
      "metadata": {},
      "source": [
        "### 호출  \n"
      ]
    },
    {
      "cell_type": "code",
      "execution_count": 71,
      "metadata": {},
      "outputs": [
        {
          "name": "stdout",
          "output_type": "stream",
          "text": [
            "SGD(accuracy) : 95.2778\n",
            "SGD(recall) : 95.1385\n",
            "SGD(precision) : 95.1446\n",
            "SGD(fscore) : 94.9733\n"
          ]
        }
      ],
      "source": [
        "# print('SGD(classification : {0}'.format(classification_s))\n",
        "print('SGD(accuracy) : {0:.4f}'.format(accuracy_s * 100))\n",
        "# #SGD : 92.7778\n",
        "\n",
        "print('SGD(recall) : {0:.4f}'.format(recall_s * 100))\n",
        "# #SGD : 92.5416\n",
        "\n",
        "print('SGD(precision) : {0:.4f}'.format(precision_s * 100))\n",
        "# #SGD : 92.8448\n",
        "\n",
        "print('SGD(fscore) : {0:.4f}'.format(fscore_s * 100))\n",
        "# #SGD : 92.4182"
      ]
    },
    {
      "cell_type": "markdown",
      "metadata": {},
      "source": [
        "----------------------------------------------------"
      ]
    },
    {
      "cell_type": "markdown",
      "metadata": {},
      "source": [
        "### 모델 평가 - Logistic  \n"
      ]
    },
    {
      "cell_type": "code",
      "execution_count": 72,
      "metadata": {},
      "outputs": [],
      "source": [
        "classification_l = classification_report(Y_test, y_pred_l)\n",
        "confusion_l = confusion_matrix(Y_test, y_pred_l)\n",
        "accuracy_l = accuracy_score(Y_test, y_pred_l)\n",
        "recall_l = recall_score(Y_test, y_pred_l, average = 'macro')\n",
        "precision_l = precision_score(Y_test, y_pred_l, average = 'macro')\n",
        "fscore_l = f1_score(Y_test, y_pred_l, average = 'macro')"
      ]
    },
    {
      "cell_type": "markdown",
      "metadata": {},
      "source": [
        "### 호출  \n"
      ]
    },
    {
      "cell_type": "code",
      "execution_count": 73,
      "metadata": {},
      "outputs": [
        {
          "name": "stdout",
          "output_type": "stream",
          "text": [
            "Logistic(accuracy) : 95.2778\n",
            "Logistic(recall) : 95.1185\n",
            "Logistic(precision) : 94.9670\n",
            "Logistic(fscore) : 94.9550\n"
          ]
        }
      ],
      "source": [
        "# print('Logistic(classification : {0}'.format(classification_l))\n",
        "print('Logistic(accuracy) : {0:.4f}'.format(accuracy_l * 100))\n",
        "# #logistic : 95.2778\n",
        "\n",
        "print('Logistic(recall) : {0:.4f}'.format(recall_l * 100))\n",
        "# #logistic : 95.1185\n",
        "\n",
        "print('Logistic(precision) : {0:.4f}'.format(precision_l * 100))\n",
        "# #logistic : 94.9670\n",
        "\n",
        "print('Logistic(fscore) : {0:.4f}'.format(fscore_l * 100))\n",
        "# #logistic : 94.9550"
      ]
    },
    {
      "cell_type": "markdown",
      "metadata": {},
      "source": [
        "----------------------------------------------------"
      ]
    },
    {
      "cell_type": "markdown",
      "metadata": {},
      "source": [
        "### 시각화  \n"
      ]
    },
    {
      "cell_type": "code",
      "execution_count": 74,
      "metadata": {},
      "outputs": [
        {
          "name": "stderr",
          "output_type": "stream",
          "text": [
            "C:\\Users\\ASUS\\AppData\\Local\\Temp\\ipykernel_10664\\1799669881.py:9: UserWarning: color is redundantly defined by the 'color' keyword argument and the fmt string \"bo-\" (-> color='b'). The keyword argument will take precedence.\n",
            "  plt.plot(e_x, e_v_r, 'bo-', color = 'green', label = 'Recall')\n",
            "C:\\Users\\ASUS\\AppData\\Local\\Temp\\ipykernel_10664\\1799669881.py:10: UserWarning: color is redundantly defined by the 'color' keyword argument and the fmt string \"bo-\" (-> color='b'). The keyword argument will take precedence.\n",
            "  plt.plot(e_x, e_v_s, 'bo-', color = 'y', label = 'Precision')\n",
            "C:\\Users\\ASUS\\AppData\\Local\\Temp\\ipykernel_10664\\1799669881.py:11: UserWarning: color is redundantly defined by the 'color' keyword argument and the fmt string \"bo-\" (-> color='b'). The keyword argument will take precedence.\n",
            "  plt.plot(e_x, e_v_l, 'bo-', color = 'red', label = 'F1_Score')\n"
          ]
        },
        {
          "data": {
            "image/png": "[encoded data removed]",
            "text/plain": [
              "<Figure size 1600x800 with 1 Axes>"
            ]
          },
          "metadata": {},
          "output_type": "display_data"
        }
      ],
      "source": [
        "e_x = ['Dicison_Tree', 'Random_Forest', 'SVM', 'SGD', 'Logistic']\n",
        "e_v = [accuracy * 100, accuracy_r * 100, accuracy_v * 100, accuracy_s * 100, accuracy_l * 100]\n",
        "e_v_r = [recall * 100, recall_r * 100, recall_v * 100, recall_s * 100, recall_l * 100]\n",
        "e_v_s = [precision * 100, precision_r * 100, precision_v * 100, precision_s * 100, precision_l * 100]\n",
        "e_v_l = [fscore * 100, fscore_r * 100, fscore_v * 100, fscore_s * 100, fscore_l * 100]\n",
        "\n",
        "plt.figure(figsize = (16, 8))\n",
        "plt.plot(e_x, e_v, 'bo-', label = 'Accuracy')\n",
        "plt.plot(e_x, e_v_r, 'bo-', color = 'green', label = 'Recall')\n",
        "plt.plot(e_x, e_v_s, 'bo-', color = 'y', label = 'Precision')\n",
        "plt.plot(e_x, e_v_l, 'bo-', color = 'red', label = 'F1_Score')\n",
        "plt.title('Evaluation Value By Model : Digits')\n",
        "plt.xlabel('Machine Learning Model')\n",
        "plt.ylabel('Evaluation Index')\n",
        "plt.legend(loc = (0, 1.0))\n",
        "plt.show()"
      ]
    },
    {
      "cell_type": "markdown",
      "metadata": {},
      "source": [
        "### 모델을 평가 해보기  \n"
      ]
    },
    {
      "cell_type": "markdown",
      "metadata": {},
      "source": [
        "분류모델 평가지표로 accuracy, precision, recall, f1-score 를 사용했으며  \n",
        "classification 을 이용하여 4가지의 지표를 한번에 확인할 순 있었으나  \n",
        "세분화해서 좀더 정확한 지표를 보고 싶었으며 시각화를 통해 어떠한 차이가 있는지를 나타내고 싶었습니다.  \n",
        "  \n",
        "accuracy 평가지표는 해당 모델이 얼마나 숫자에 대해서 정확하게 판별하는지 알아보고 싶었고  \n",
        "(해당 숫자가 맞다, 아니다를 정확하게 판별 구분)  \n",
        "  \n",
        "recall 평가지표는 전부 맞다고 했을때 정말로 맞았는지를 확인하는 평균값  \n",
        "  \n",
        "precision 평가지표는 맞다 아니다를 예측했을때 맞혔을때의 평균값  \n",
        "  \n",
        "f1-score 평가지표는 recall 과 precision 의 교집합의 평균이 얼마나 되는지를 보고 싶었습니다.  \n",
        "  \n",
        "그래서 이렇게 4가지의 평가지표를 시각화하여 비교해보고 해당 모델은 어떠한 데이터상황에서 쓰면  \n",
        "더 정확하게 사용할 수 있구나를 직접적으로 보고 싶었습니다.  \n",
        "(4가지의 분류모델에서 평균적으로 accuracy 의 평균 평가값이 가장 높게 나왔습니다.  \n",
        "이것을 보고 제가 알 수 있었던 사실은 Feature 데이터와 Target 데이터가  \n",
        "분명하게 나뉘어져 accuracy 평가지표가 가장 적합하기도 했으며,  \n",
        "손글씨분류 데이터는 데이터가 불균형한 값으로 이루어진 데이터가 아니었음을 알 수 있었습니다.  \n",
        "[애시당초 숫자 1은 1이고 2는 2인 상황에서 데이터가 불균형한 값으로 있을 수가 없었다고 생각합니다.])  \n",
        "  \n",
        "  \n",
        "정확도 : 예측이 정답과 얼마나 정확한가?  \n",
        "정밀도 : 예측한 것중에 정답의 비율은?  \n",
        "재현율 : 찾아야 할 것중에 실제로 찾은 비율은?  \n",
        "[F1 Score : 정밀도와 재현율의 평균](https://sumniya.tistory.com/26)  \n",
        "  \n"
      ]
    },
    {
      "cell_type": "markdown",
      "metadata": {},
      "source": [
        "## (2) 와인 데이터 준비  \n"
      ]
    },
    {
      "cell_type": "code",
      "execution_count": 75,
      "metadata": {},
      "outputs": [],
      "source": [
        "wine = load_wine()\n",
        "#dict_keys(['data', 'target', 'frame', 'target_names', \n",
        "#           'DESCR', 'feature_names'])"
      ]
    },
    {
      "cell_type": "markdown",
      "metadata": {},
      "source": [
        "## (3) 데이터 이해하기  \n"
      ]
    },
    {
      "cell_type": "code",
      "execution_count": 76,
      "metadata": {},
      "outputs": [
        {
          "name": "stdout",
          "output_type": "stream",
          "text": [
            "['class_0' 'class_1' 'class_2']\n",
            ".. _wine_dataset:\n",
            "\n",
            "Wine recognition dataset\n",
            "------------------------\n",
            "\n",
            "**Data Set Characteristics:**\n",
            "\n",
            "    :Number of Instances: 178\n",
            "    :Number of Attributes: 13 numeric, predictive attributes and the class\n",
            "    :Attribute Information:\n",
            " \t\t- Alcohol\n",
            " \t\t- Malic acid\n",
            " \t\t- Ash\n",
            "\t\t- Alcalinity of ash  \n",
            " \t\t- Magnesium\n",
            "\t\t- Total phenols\n",
            " \t\t- Flavanoids\n",
            " \t\t- Nonflavanoid phenols\n",
            " \t\t- Proanthocyanins\n",
            "\t\t- Color intensity\n",
            " \t\t- Hue\n",
            " \t\t- OD280/OD315 of diluted wines\n",
            " \t\t- Proline\n",
            "\n",
            "    - class:\n",
            "            - class_0\n",
            "            - class_1\n",
            "            - class_2\n",
            "\t\t\n",
            "    :Summary Statistics:\n",
            "    \n",
            "    ============================= ==== ===== ======= =====\n",
            "                                   Min   Max   Mean     SD\n",
            "    ============================= ==== ===== ======= =====\n",
            "    Alcohol:                      11.0  14.8    13.0   0.8\n",
            "    Malic Acid:                   0.74  5.80    2.34  1.12\n",
            "    Ash:                          1.36  3.23    2.36  0.27\n",
            "    Alcalinity of Ash:            10.6  30.0    19.5   3.3\n",
            "    Magnesium:                    70.0 162.0    99.7  14.3\n",
            "    Total Phenols:                0.98  3.88    2.29  0.63\n",
            "    Flavanoids:                   0.34  5.08    2.03  1.00\n",
            "    Nonflavanoid Phenols:         0.13  0.66    0.36  0.12\n",
            "    Proanthocyanins:              0.41  3.58    1.59  0.57\n",
            "    Colour Intensity:              1.3  13.0     5.1   2.3\n",
            "    Hue:                          0.48  1.71    0.96  0.23\n",
            "    OD280/OD315 of diluted wines: 1.27  4.00    2.61  0.71\n",
            "    Proline:                       278  1680     746   315\n",
            "    ============================= ==== ===== ======= =====\n",
            "\n",
            "    :Missing Attribute Values: None\n",
            "    :Class Distribution: class_0 (59), class_1 (71), class_2 (48)\n",
            "    :Creator: R.A. Fisher\n",
            "    :Donor: Michael Marshall (MARSHALL%PLU@io.arc.nasa.gov)\n",
            "    :Date: July, 1988\n",
            "\n",
            "This is a copy of UCI ML Wine recognition datasets.\n",
            "https://archive.ics.uci.edu/ml/machine-learning-databases/wine/wine.data\n",
            "\n",
            "The data is the results of a chemical analysis of wines grown in the same\n",
            "region in Italy by three different cultivators. There are thirteen different\n",
            "measurements taken for different constituents found in the three types of\n",
            "wine.\n",
            "\n",
            "Original Owners: \n",
            "\n",
            "Forina, M. et al, PARVUS - \n",
            "An Extendible Package for Data Exploration, Classification and Correlation. \n",
            "Institute of Pharmaceutical and Food Analysis and Technologies,\n",
            "Via Brigata Salerno, 16147 Genoa, Italy.\n",
            "\n",
            "Citation:\n",
            "\n",
            "Lichman, M. (2013). UCI Machine Learning Repository\n",
            "[https://archive.ics.uci.edu/ml]. Irvine, CA: University of California,\n",
            "School of Information and Computer Science. \n",
            "\n",
            ".. topic:: References\n",
            "\n",
            "  (1) S. Aeberhard, D. Coomans and O. de Vel, \n",
            "  Comparison of Classifiers in High Dimensional Settings, \n",
            "  Tech. Rep. no. 92-02, (1992), Dept. of Computer Science and Dept. of  \n",
            "  Mathematics and Statistics, James Cook University of North Queensland. \n",
            "  (Also submitted to Technometrics). \n",
            "\n",
            "  The data was used with many others for comparing various \n",
            "  classifiers. The classes are separable, though only RDA \n",
            "  has achieved 100% correct classification. \n",
            "  (RDA : 100%, QDA 99.4%, LDA 98.9%, 1NN 96.1% (z-transformed data)) \n",
            "  (All results using the leave-one-out technique) \n",
            "\n",
            "  (2) S. Aeberhard, D. Coomans and O. de Vel, \n",
            "  \"THE CLASSIFICATION PERFORMANCE OF RDA\" \n",
            "  Tech. Rep. no. 92-01, (1992), Dept. of Computer Science and Dept. of \n",
            "  Mathematics and Statistics, James Cook University of North Queensland. \n",
            "  (Also submitted to Journal of Chemometrics).\n",
            "\n"
          ]
        }
      ],
      "source": [
        "wine_data = wine.data\n",
        "wine_label = wine.target\n",
        "print(wine.target_names) #target_names 출력 ['class_0' 'class_1' 'class_2']\n",
        "print(wine.DESCR) #데이터 Describe"
      ]
    },
    {
      "cell_type": "markdown",
      "metadata": {},
      "source": [
        "## (4) train, test 데이터 분리  \n"
      ]
    },
    {
      "cell_type": "code",
      "execution_count": 77,
      "metadata": {},
      "outputs": [],
      "source": [
        "wine_df = pd.DataFrame(data = wine_data, columns = wine.feature_names)\n",
        "X_train, X_test, Y_train, Y_test = train_test_split(wine_data,\n",
        "                                                    wine_label,\n",
        "                                                    test_size = 0.2,\n",
        "                                                    random_state = 7)"
      ]
    },
    {
      "cell_type": "markdown",
      "metadata": {},
      "source": [
        "## (5) 다양한 모델로 학습시켜보기  \n"
      ]
    },
    {
      "cell_type": "markdown",
      "metadata": {},
      "source": [
        "### 모델 객체 생성  \n"
      ]
    },
    {
      "cell_type": "code",
      "execution_count": 78,
      "metadata": {},
      "outputs": [],
      "source": [
        "decision_tree = DecisionTreeClassifier(random_state = 10)\n",
        "random_forest = RandomForestClassifier(random_state = 10)\n",
        "svm = SVC(kernel = 'linear', C = 0.05)\n",
        "sgd = SGDClassifier() \n",
        "# 이 분류모델의 파라미터값을 변경해가며 모델 성능을 끌어 올려보고 싶었으나...  \n",
        "# 아직은.. 이해가 안가는 부분이 많아 파라미터값은 비워둡니다.  \n",
        "logistic = LogisticRegression()"
      ]
    },
    {
      "cell_type": "markdown",
      "metadata": {},
      "source": [
        "### 모델 학습  \n"
      ]
    },
    {
      "cell_type": "code",
      "execution_count": 79,
      "metadata": {},
      "outputs": [
        {
          "name": "stderr",
          "output_type": "stream",
          "text": [
            "c:\\Python310\\lib\\site-packages\\sklearn\\linear_model\\_logistic.py:444: ConvergenceWarning: lbfgs failed to converge (status=1):\n",
            "STOP: TOTAL NO. of ITERATIONS REACHED LIMIT.\n",
            "\n",
            "Increase the number of iterations (max_iter) or scale the data as shown in:\n",
            "    https://scikit-learn.org/stable/modules/preprocessing.html\n",
            "Please also refer to the documentation for alternative solver options:\n",
            "    https://scikit-learn.org/stable/modules/linear_model.html#logistic-regression\n",
            "  n_iter_i = _check_optimize_result(\n"
          ]
        },
        {
          "data": {
            "text/html": [
              "<style>#sk-container-id-5 {color: black;background-color: white;}#sk-container-id-5 pre{padding: 0;}#sk-container-id-5 div.sk-toggleable {background-color: white;}#sk-container-id-5 label.sk-toggleable__label {cursor: pointer;display: block;width: 100%;margin-bottom: 0;padding: 0.3em;box-sizing: border-box;text-align: center;}#sk-container-id-5 label.sk-toggleable__label-arrow:before {content: \"▸\";float: left;margin-right: 0.25em;color: #696969;}#sk-container-id-5 label.sk-toggleable__label-arrow:hover:before {color: black;}#sk-container-id-5 div.sk-estimator:hover label.sk-toggleable__label-arrow:before {color: black;}#sk-container-id-5 div.sk-toggleable__content {max-height: 0;max-width: 0;overflow: hidden;text-align: left;background-color: #f0f8ff;}#sk-container-id-5 div.sk-toggleable__content pre {margin: 0.2em;color: black;border-radius: 0.25em;background-color: #f0f8ff;}#sk-container-id-5 input.sk-toggleable__control:checked~div.sk-toggleable__content {max-height: 200px;max-width: 100%;overflow: auto;}#sk-container-id-5 input.sk-toggleable__control:checked~label.sk-toggleable__label-arrow:before {content: \"▾\";}#sk-container-id-5 div.sk-estimator input.sk-toggleable__control:checked~label.sk-toggleable__label {background-color: #d4ebff;}#sk-container-id-5 div.sk-label input.sk-toggleable__control:checked~label.sk-toggleable__label {background-color: #d4ebff;}#sk-container-id-5 input.sk-hidden--visually {border: 0;clip: rect(1px 1px 1px 1px);clip: rect(1px, 1px, 1px, 1px);height: 1px;margin: -1px;overflow: hidden;padding: 0;position: absolute;width: 1px;}#sk-container-id-5 div.sk-estimator {font-family: monospace;background-color: #f0f8ff;border: 1px dotted black;border-radius: 0.25em;box-sizing: border-box;margin-bottom: 0.5em;}#sk-container-id-5 div.sk-estimator:hover {background-color: #d4ebff;}#sk-container-id-5 div.sk-parallel-item::after {content: \"\";width: 100%;border-bottom: 1px solid gray;flex-grow: 1;}#sk-container-id-5 div.sk-label:hover label.sk-toggleable__label {background-color: #d4ebff;}#sk-container-id-5 div.sk-serial::before {content: \"\";position: absolute;border-left: 1px solid gray;box-sizing: border-box;top: 0;bottom: 0;left: 50%;z-index: 0;}#sk-container-id-5 div.sk-serial {display: flex;flex-direction: column;align-items: center;background-color: white;padding-right: 0.2em;padding-left: 0.2em;position: relative;}#sk-container-id-5 div.sk-item {position: relative;z-index: 1;}#sk-container-id-5 div.sk-parallel {display: flex;align-items: stretch;justify-content: center;background-color: white;position: relative;}#sk-container-id-5 div.sk-item::before, #sk-container-id-5 div.sk-parallel-item::before {content: \"\";position: absolute;border-left: 1px solid gray;box-sizing: border-box;top: 0;bottom: 0;left: 50%;z-index: -1;}#sk-container-id-5 div.sk-parallel-item {display: flex;flex-direction: column;z-index: 1;position: relative;background-color: white;}#sk-container-id-5 div.sk-parallel-item:first-child::after {align-self: flex-end;width: 50%;}#sk-container-id-5 div.sk-parallel-item:last-child::after {align-self: flex-start;width: 50%;}#sk-container-id-5 div.sk-parallel-item:only-child::after {width: 0;}#sk-container-id-5 div.sk-dashed-wrapped {border: 1px dashed gray;margin: 0 0.4em 0.5em 0.4em;box-sizing: border-box;padding-bottom: 0.4em;background-color: white;}#sk-container-id-5 div.sk-label label {font-family: monospace;font-weight: bold;display: inline-block;line-height: 1.2em;}#sk-container-id-5 div.sk-label-container {text-align: center;}#sk-container-id-5 div.sk-container {/* jupyter's `normalize.less` sets `[hidden] { display: none; }` but bootstrap.min.css set `[hidden] { display: none !important; }` so we also need the `!important` here to be able to override the default hidden behavior on the sphinx rendered scikit-learn.org. See: https://github.com/scikit-learn/scikit-learn/issues/21755 */display: inline-block !important;position: relative;}#sk-container-id-5 div.sk-text-repr-fallback {display: none;}</style><div id=\"sk-container-id-5\" class=\"sk-top-container\"><div class=\"sk-text-repr-fallback\"><pre>LogisticRegression()</pre><b>In a Jupyter environment, please rerun this cell to show the HTML representation or trust the notebook. <br />On GitHub, the HTML representation is unable to render, please try loading this page with nbviewer.org.</b></div><div class=\"sk-container\" hidden><div class=\"sk-item\"><div class=\"sk-estimator sk-toggleable\"><input class=\"sk-toggleable__control sk-hidden--visually\" id=\"sk-estimator-id-5\" type=\"checkbox\" checked><label for=\"sk-estimator-id-5\" class=\"sk-toggleable__label sk-toggleable__label-arrow\">LogisticRegression</label><div class=\"sk-toggleable__content\"><pre>LogisticRegression()</pre></div></div></div></div></div>"
            ],
            "text/plain": [
              "LogisticRegression()"
            ]
          },
          "execution_count": 79,
          "metadata": {},
          "output_type": "execute_result"
        }
      ],
      "source": [
        "decision_tree.fit(X_train, Y_train)\n",
        "random_forest.fit(X_train, Y_train)\n",
        "svm.fit(X_train, Y_train)\n",
        "sgd.fit(X_train, Y_train)\n",
        "logistic.fit(X_train, Y_train)"
      ]
    },
    {
      "cell_type": "markdown",
      "metadata": {},
      "source": [
        "### 학습 데이터 예측  \n"
      ]
    },
    {
      "cell_type": "code",
      "execution_count": 80,
      "metadata": {},
      "outputs": [],
      "source": [
        "y_pred = decision_tree.predict(X_test)\n",
        "y_pred_r = random_forest.predict(X_test)\n",
        "y_pred_v = svm.predict(X_test)\n",
        "y_pred_s = sgd.predict(X_test)\n",
        "y_pred_l = logistic.predict(X_test)"
      ]
    },
    {
      "cell_type": "markdown",
      "metadata": {},
      "source": [
        "### 모델 평가 - 결정나무  \n"
      ]
    },
    {
      "cell_type": "code",
      "execution_count": 81,
      "metadata": {},
      "outputs": [],
      "source": [
        "classification = classification_report(Y_test, y_pred)\n",
        "confusion = confusion_matrix(Y_test, y_pred)\n",
        "accuracy = accuracy_score(Y_test, y_pred)\n",
        "recall = recall_score(Y_test, y_pred, average = 'macro')\n",
        "precision = precision_score(Y_test, y_pred, average = 'macro')\n",
        "fscore = f1_score(Y_test, y_pred, average = 'macro')"
      ]
    },
    {
      "cell_type": "markdown",
      "metadata": {},
      "source": [
        "### 호출  \n"
      ]
    },
    {
      "cell_type": "code",
      "execution_count": 82,
      "metadata": {},
      "outputs": [
        {
          "name": "stdout",
          "output_type": "stream",
          "text": [
            "와인분류(wine) 데이터\n"
          ]
        }
      ],
      "source": [
        "print('와인분류(wine) 데이터')"
      ]
    },
    {
      "cell_type": "markdown",
      "metadata": {},
      "source": [
        "----------------------------------------------------"
      ]
    },
    {
      "cell_type": "code",
      "execution_count": 83,
      "metadata": {},
      "outputs": [
        {
          "name": "stdout",
          "output_type": "stream",
          "text": [
            "결정나무(accuracy) : 94.4444\n",
            "결정나무(recall) : 94.4444\n",
            "결정나무(precision) : 93.9815\n",
            "결정나무(fscore) : 93.7951\n"
          ]
        }
      ],
      "source": [
        "# print('결정나무(classification : {0}'.format(classification))\n",
        "# print(confusion)\n",
        "print('결정나무(accuracy) : {0:.4f}'.format(accuracy * 100))\n",
        "#결정나무 : 94.4444\n",
        "\n",
        "print('결정나무(recall) : {0:.4f}'.format(recall * 100))\n",
        "#결정나무 : 94.4444\n",
        "\n",
        "print('결정나무(precision) : {0:.4f}'.format(precision * 100))\n",
        "#결정나무 : 93.9815\n",
        "\n",
        "print('결정나무(fscore) : {0:.4f}'.format(fscore * 100))\n",
        "#결정나무 : 93.7951"
      ]
    },
    {
      "cell_type": "markdown",
      "metadata": {},
      "source": [
        "----------------------------------------------------"
      ]
    },
    {
      "cell_type": "markdown",
      "metadata": {},
      "source": [
        "### 모델 평가 - 랜덤포레스트  \n"
      ]
    },
    {
      "cell_type": "code",
      "execution_count": 84,
      "metadata": {},
      "outputs": [],
      "source": [
        "classification_r = classification_report(Y_test, y_pred_r)\n",
        "confusion_r = confusion_matrix(Y_test, y_pred_r)\n",
        "accuracy_r = accuracy_score(Y_test, y_pred_r)\n",
        "recall_r = recall_score(Y_test, y_pred_r, average = 'macro')\n",
        "precision_r = precision_score(Y_test, y_pred_r, average = 'macro')\n",
        "fscore_r = f1_score(Y_test, y_pred_r, average = 'macro')"
      ]
    },
    {
      "cell_type": "markdown",
      "metadata": {},
      "source": [
        "### 호출  \n"
      ]
    },
    {
      "cell_type": "code",
      "execution_count": 85,
      "metadata": {},
      "outputs": [
        {
          "name": "stdout",
          "output_type": "stream",
          "text": [
            "랜덤포레스트(accuracy) : 100.0000\n",
            "랜덤포레스트(recall) : 100.0000\n",
            "랜덤포레스트(precision) : 100.0000\n",
            "랜덤포레스트(fscore) : 100.0000\n"
          ]
        }
      ],
      "source": [
        "# print('랜덤포레스트(classification : {0}'.format(classification_r))\n",
        "print('랜덤포레스트(accuracy) : {0:.4f}'.format(accuracy_r * 100))\n",
        "# #랜덤포레스트 : 100.0000\n",
        "\n",
        "print('랜덤포레스트(recall) : {0:.4f}'.format(recall_r * 100))\n",
        "#랜덤포레스트 : 100.0000\n",
        "\n",
        "print('랜덤포레스트(precision) : {0:.4f}'.format(precision_r * 100))\n",
        "#랜덤포레스트 : 100.0000\n",
        "\n",
        "print('랜덤포레스트(fscore) : {0:.4f}'.format(fscore_r * 100))\n",
        "#랜덤포레스트 : 100.0000"
      ]
    },
    {
      "cell_type": "markdown",
      "metadata": {},
      "source": [
        "----------------------------------------------------"
      ]
    },
    {
      "cell_type": "markdown",
      "metadata": {},
      "source": [
        "### 모델 평가 - SVM  \n"
      ]
    },
    {
      "cell_type": "code",
      "execution_count": 86,
      "metadata": {},
      "outputs": [],
      "source": [
        "classification_v = classification_report(Y_test, y_pred_v)\n",
        "confusion_v = confusion_matrix(Y_test, y_pred_v)\n",
        "accuracy_v = accuracy_score(Y_test, y_pred_v)\n",
        "recall_v = recall_score(Y_test, y_pred_v, average = 'macro')\n",
        "precision_v = precision_score(Y_test, y_pred_v, average = 'macro')\n",
        "fscore_v = f1_score(Y_test, y_pred_v, average = 'macro')"
      ]
    },
    {
      "cell_type": "markdown",
      "metadata": {},
      "source": [
        "### 호출  \n"
      ]
    },
    {
      "cell_type": "code",
      "execution_count": 87,
      "metadata": {},
      "outputs": [
        {
          "name": "stdout",
          "output_type": "stream",
          "text": [
            "SVM(accuracy) : 100.0000\n",
            "SVM(recall) : 100.0000\n",
            "SVM(precision) : 100.0000\n",
            "SVM(fscore) : 100.0000\n"
          ]
        }
      ],
      "source": [
        "# print('SVM(classification : {0}'.format(classification_r))\n",
        "print('SVM(accuracy) : {0:.4f}'.format(accuracy_v * 100))\n",
        "# #SVM : 100.0000\n",
        "\n",
        "print('SVM(recall) : {0:.4f}'.format(recall_v * 100))\n",
        "#SVM : 100.0000\n",
        "\n",
        "print('SVM(precision) : {0:.4f}'.format(precision_v * 100))\n",
        "#SVM : 100.0000\n",
        "\n",
        "print('SVM(fscore) : {0:.4f}'.format(fscore_v * 100))\n",
        "#SVM : 100.0000"
      ]
    },
    {
      "cell_type": "markdown",
      "metadata": {},
      "source": [
        "----------------------------------------------------"
      ]
    },
    {
      "cell_type": "markdown",
      "metadata": {},
      "source": [
        "### 모델 평가 - SGD  \n"
      ]
    },
    {
      "cell_type": "markdown",
      "metadata": {},
      "source": [
        "SGD의 결과값이 매번 바뀌는 이유:  \n",
        "-> 손실함수가 최솟값(=원하는 정제된 데이터)으로 갈때까지 불안정하게 움직이다보니  \n",
        "최적해(=최적화 데이터)에 도달하지 못할수도 있음  \n",
        "(지역 최솟값으론 빠르게 도달 가능하나, 전역 최솟값에는 다다르기 힘들 수 있음)  \n"
      ]
    },
    {
      "cell_type": "code",
      "execution_count": 88,
      "metadata": {},
      "outputs": [],
      "source": [
        "classification_s = classification_report(Y_test, y_pred_s)\n",
        "confusion_s = confusion_matrix(Y_test, y_pred_s)\n",
        "accuracy_s = accuracy_score(Y_test, y_pred_s)\n",
        "recall_s = recall_score(Y_test, y_pred_s, average = 'macro')\n",
        "precision_s = precision_score(Y_test, y_pred_s, average = 'macro')\n",
        "fscore_s = f1_score(Y_test, y_pred_s, average = 'macro')"
      ]
    },
    {
      "cell_type": "markdown",
      "metadata": {},
      "source": [
        "### 호출"
      ]
    },
    {
      "cell_type": "code",
      "execution_count": 89,
      "metadata": {},
      "outputs": [
        {
          "name": "stdout",
          "output_type": "stream",
          "text": [
            "SGD(accuracy) : 55.5556\n",
            "SGD(recall) : 66.1765\n",
            "SGD(precision) : 64.2857\n",
            "SGD(fscore) : 57.7540\n"
          ]
        }
      ],
      "source": [
        "# print('SGD(classification : {0}'.format(classification_s))\n",
        "print('SGD(accuracy) : {0:.4f}'.format(accuracy_s * 100))\n",
        "# #SGD : 61.1111\n",
        "\n",
        "print('SGD(recall) : {0:.4f}'.format(recall_s * 100))\n",
        "# #SGD : 57.7264\n",
        "\n",
        "print('SGD(precision) : {0:.4f}'.format(precision_s * 100))\n",
        "# #SGD : 78.6111\n",
        "\n",
        "print('SGD(fscore) : {0:.4f}'.format(fscore_s * 100))\n",
        "# #SGD : 57.4074"
      ]
    },
    {
      "cell_type": "markdown",
      "metadata": {},
      "source": [
        "----------------------------------------------------"
      ]
    },
    {
      "cell_type": "markdown",
      "metadata": {},
      "source": [
        "### 모델 평가 - Logistic  \n"
      ]
    },
    {
      "cell_type": "code",
      "execution_count": 90,
      "metadata": {},
      "outputs": [],
      "source": [
        "classification_l = classification_report(Y_test, y_pred_l)\n",
        "confusion_l = confusion_matrix(Y_test, y_pred_l)\n",
        "accuracy_l = accuracy_score(Y_test, y_pred_l)\n",
        "recall_l = recall_score(Y_test, y_pred_l, average = 'macro')\n",
        "precision_l = precision_score(Y_test, y_pred_l, average = 'macro')\n",
        "fscore_l = f1_score(Y_test, y_pred_l, average = 'macro')"
      ]
    },
    {
      "cell_type": "markdown",
      "metadata": {},
      "source": [
        "### 호출"
      ]
    },
    {
      "cell_type": "code",
      "execution_count": 91,
      "metadata": {},
      "outputs": [
        {
          "name": "stdout",
          "output_type": "stream",
          "text": [
            "Logistic(accuracy) : 97.2222\n",
            "Logistic(recall) : 95.2381\n",
            "Logistic(precision) : 98.1481\n",
            "Logistic(fscore) : 96.4835\n"
          ]
        }
      ],
      "source": [
        "# print('Logistic(classification : {0}'.format(classification_l))\n",
        "print('Logistic(accuracy) : {0:.4f}'.format(accuracy_l * 100))\n",
        "# #logistic : 97.2222\n",
        "\n",
        "print('Logistic(recall) : {0:.4f}'.format(recall_l * 100))\n",
        "# #logistic : 95.2381\n",
        "\n",
        "print('Logistic(precision) : {0:.4f}'.format(precision_l * 100))\n",
        "# #logistic : 98.1481\n",
        "\n",
        "print('Logistic(fscore) : {0:.4f}'.format(fscore_l * 100))\n",
        "# #logistic : 96.4835"
      ]
    },
    {
      "cell_type": "markdown",
      "metadata": {},
      "source": [
        "----------------------------------------------------"
      ]
    },
    {
      "cell_type": "markdown",
      "metadata": {},
      "source": [
        "### 시각화"
      ]
    },
    {
      "cell_type": "code",
      "execution_count": 92,
      "metadata": {},
      "outputs": [
        {
          "name": "stderr",
          "output_type": "stream",
          "text": [
            "C:\\Users\\ASUS\\AppData\\Local\\Temp\\ipykernel_10664\\3540607495.py:9: UserWarning: color is redundantly defined by the 'color' keyword argument and the fmt string \"bo-\" (-> color='b'). The keyword argument will take precedence.\n",
            "  plt.plot(e_x, e_v_r, 'bo-', color = 'green', label = 'Recall')\n",
            "C:\\Users\\ASUS\\AppData\\Local\\Temp\\ipykernel_10664\\3540607495.py:10: UserWarning: color is redundantly defined by the 'color' keyword argument and the fmt string \"bo-\" (-> color='b'). The keyword argument will take precedence.\n",
            "  plt.plot(e_x, e_v_s, 'bo-', color = 'y', label = 'Precision')\n",
            "C:\\Users\\ASUS\\AppData\\Local\\Temp\\ipykernel_10664\\3540607495.py:11: UserWarning: color is redundantly defined by the 'color' keyword argument and the fmt string \"bo-\" (-> color='b'). The keyword argument will take precedence.\n",
            "  plt.plot(e_x, e_v_l, 'bo-', color = 'red', label = 'F1_Score')\n"
          ]
        },
        {
          "data": {
            "image/png": "[encoded data removed]",
            "text/plain": [
              "<Figure size 1600x800 with 1 Axes>"
            ]
          },
          "metadata": {},
          "output_type": "display_data"
        }
      ],
      "source": [
        "e_x = ['Dicison_Tree', 'Random_Forest', 'SVM', 'SGD', 'Logistic']\n",
        "e_v = [accuracy * 100, accuracy_r * 100, accuracy_v * 100, accuracy_s * 100, accuracy_l * 100]\n",
        "e_v_r = [recall * 100, recall_r * 100, recall_v * 100, recall_s * 100, recall_l * 100]\n",
        "e_v_s = [precision * 100, precision_r * 100, precision_v * 100, precision_s * 100, precision_l * 100]\n",
        "e_v_l = [fscore * 100, fscore_r * 100, fscore_v * 100, fscore_s * 100, fscore_l * 100]\n",
        "\n",
        "plt.figure(figsize = (16, 8))\n",
        "plt.plot(e_x, e_v, 'bo-', label = 'Accuracy')\n",
        "plt.plot(e_x, e_v_r, 'bo-', color = 'green', label = 'Recall')\n",
        "plt.plot(e_x, e_v_s, 'bo-', color = 'y', label = 'Precision')\n",
        "plt.plot(e_x, e_v_l, 'bo-', color = 'red', label = 'F1_Score')\n",
        "plt.title('Evaluation Value By Model : wine')\n",
        "plt.xlabel('Machine Learning Model')\n",
        "plt.ylabel('Evaluation Index')\n",
        "plt.legend(loc = (0, 1.0))\n",
        "plt.show()"
      ]
    },
    {
      "cell_type": "markdown",
      "metadata": {},
      "source": [
        "## (6) 모델을 평가해 보기  \n"
      ]
    },
    {
      "cell_type": "markdown",
      "metadata": {},
      "source": [
        "개인적으로... 데이터의 평가는 precision 을 기준으로 모델을 평가해야한다고 생각했습니다.  \n",
        "(와인을 분류한다는것은 100퍼센트의 정답지로 평가하는것보다(accuracy) 예측한 것중에 찾은 비율을 보는것이  \n",
        "더 데이터를 잘 활용할 수 있다고 생각하여 precision 을 기준으로 평가)  \n",
        "그러하여 precision 의 평가값이 더 잘 나올 수 있게 모델별 파라미터를 수정했었어야 했으나  \n",
        "모델별 파라미터의 내용에 대해서 아직까지 이해하질 못하고 있으며 이 부분에 대해선 현재의 프로젝트에  \n",
        "랜덤으로 아무거나 집어넣으며 적용시키는것이 아닌 좀더 공부하여 어떻게 사용되는지에 대해서  \n",
        "정확하게 알고난 뒤 사용을 해야겠다하여 파라미터값을 수정하질 않았습니다.  \n",
        "  \n",
        "  \n",
        "정확도 : 예측이 정답과 얼마나 정확한가?  \n",
        "정밀도 : 예측한 것중에 정답의 비율은?  \n",
        "재현율 : 찾아야 할 것중에 실제로 찾은 비율은?  \n",
        "[F1 Score : 정밀도와 재현율의 평균](https://sumniya.tistory.com/26)  \n",
        "  \n"
      ]
    },
    {
      "cell_type": "markdown",
      "metadata": {},
      "source": [
        "## (2) 유방암 데이터 준비  \n"
      ]
    },
    {
      "cell_type": "code",
      "execution_count": 93,
      "metadata": {},
      "outputs": [],
      "source": [
        "breast_cancer = load_breast_cancer()\n",
        "#dict_keys(['data', 'target', 'frame', 'target_names', 'DESCR', 'feature_names', \n",
        "#           'filename', 'data_module'])"
      ]
    },
    {
      "cell_type": "markdown",
      "metadata": {},
      "source": [
        "## (3) 데이터 이해하기  \n"
      ]
    },
    {
      "cell_type": "code",
      "execution_count": 94,
      "metadata": {},
      "outputs": [
        {
          "name": "stdout",
          "output_type": "stream",
          "text": [
            "['malignant' 'benign']\n",
            ".. _breast_cancer_dataset:\n",
            "\n",
            "Breast cancer wisconsin (diagnostic) dataset\n",
            "--------------------------------------------\n",
            "\n",
            "**Data Set Characteristics:**\n",
            "\n",
            "    :Number of Instances: 569\n",
            "\n",
            "    :Number of Attributes: 30 numeric, predictive attributes and the class\n",
            "\n",
            "    :Attribute Information:\n",
            "        - radius (mean of distances from center to points on the perimeter)\n",
            "        - texture (standard deviation of gray-scale values)\n",
            "        - perimeter\n",
            "        - area\n",
            "        - smoothness (local variation in radius lengths)\n",
            "        - compactness (perimeter^2 / area - 1.0)\n",
            "        - concavity (severity of concave portions of the contour)\n",
            "        - concave points (number of concave portions of the contour)\n",
            "        - symmetry\n",
            "        - fractal dimension (\"coastline approximation\" - 1)\n",
            "\n",
            "        The mean, standard error, and \"worst\" or largest (mean of the three\n",
            "        worst/largest values) of these features were computed for each image,\n",
            "        resulting in 30 features.  For instance, field 0 is Mean Radius, field\n",
            "        10 is Radius SE, field 20 is Worst Radius.\n",
            "\n",
            "        - class:\n",
            "                - WDBC-Malignant\n",
            "                - WDBC-Benign\n",
            "\n",
            "    :Summary Statistics:\n",
            "\n",
            "    ===================================== ====== ======\n",
            "                                           Min    Max\n",
            "    ===================================== ====== ======\n",
            "    radius (mean):                        6.981  28.11\n",
            "    texture (mean):                       9.71   39.28\n",
            "    perimeter (mean):                     43.79  188.5\n",
            "    area (mean):                          143.5  2501.0\n",
            "    smoothness (mean):                    0.053  0.163\n",
            "    compactness (mean):                   0.019  0.345\n",
            "    concavity (mean):                     0.0    0.427\n",
            "    concave points (mean):                0.0    0.201\n",
            "    symmetry (mean):                      0.106  0.304\n",
            "    fractal dimension (mean):             0.05   0.097\n",
            "    radius (standard error):              0.112  2.873\n",
            "    texture (standard error):             0.36   4.885\n",
            "    perimeter (standard error):           0.757  21.98\n",
            "    area (standard error):                6.802  542.2\n",
            "    smoothness (standard error):          0.002  0.031\n",
            "    compactness (standard error):         0.002  0.135\n",
            "    concavity (standard error):           0.0    0.396\n",
            "    concave points (standard error):      0.0    0.053\n",
            "    symmetry (standard error):            0.008  0.079\n",
            "    fractal dimension (standard error):   0.001  0.03\n",
            "    radius (worst):                       7.93   36.04\n",
            "    texture (worst):                      12.02  49.54\n",
            "    perimeter (worst):                    50.41  251.2\n",
            "    area (worst):                         185.2  4254.0\n",
            "    smoothness (worst):                   0.071  0.223\n",
            "    compactness (worst):                  0.027  1.058\n",
            "    concavity (worst):                    0.0    1.252\n",
            "    concave points (worst):               0.0    0.291\n",
            "    symmetry (worst):                     0.156  0.664\n",
            "    fractal dimension (worst):            0.055  0.208\n",
            "    ===================================== ====== ======\n",
            "\n",
            "    :Missing Attribute Values: None\n",
            "\n",
            "    :Class Distribution: 212 - Malignant, 357 - Benign\n",
            "\n",
            "    :Creator:  Dr. William H. Wolberg, W. Nick Street, Olvi L. Mangasarian\n",
            "\n",
            "    :Donor: Nick Street\n",
            "\n",
            "    :Date: November, 1995\n",
            "\n",
            "This is a copy of UCI ML Breast Cancer Wisconsin (Diagnostic) datasets.\n",
            "https://goo.gl/U2Uwz2\n",
            "\n",
            "Features are computed from a digitized image of a fine needle\n",
            "aspirate (FNA) of a breast mass.  They describe\n",
            "characteristics of the cell nuclei present in the image.\n",
            "\n",
            "Separating plane described above was obtained using\n",
            "Multisurface Method-Tree (MSM-T) [K. P. Bennett, \"Decision Tree\n",
            "Construction Via Linear Programming.\" Proceedings of the 4th\n",
            "Midwest Artificial Intelligence and Cognitive Science Society,\n",
            "pp. 97-101, 1992], a classification method which uses linear\n",
            "programming to construct a decision tree.  Relevant features\n",
            "were selected using an exhaustive search in the space of 1-4\n",
            "features and 1-3 separating planes.\n",
            "\n",
            "The actual linear program used to obtain the separating plane\n",
            "in the 3-dimensional space is that described in:\n",
            "[K. P. Bennett and O. L. Mangasarian: \"Robust Linear\n",
            "Programming Discrimination of Two Linearly Inseparable Sets\",\n",
            "Optimization Methods and Software 1, 1992, 23-34].\n",
            "\n",
            "This database is also available through the UW CS ftp server:\n",
            "\n",
            "ftp ftp.cs.wisc.edu\n",
            "cd math-prog/cpo-dataset/machine-learn/WDBC/\n",
            "\n",
            ".. topic:: References\n",
            "\n",
            "   - W.N. Street, W.H. Wolberg and O.L. Mangasarian. Nuclear feature extraction \n",
            "     for breast tumor diagnosis. IS&T/SPIE 1993 International Symposium on \n",
            "     Electronic Imaging: Science and Technology, volume 1905, pages 861-870,\n",
            "     San Jose, CA, 1993.\n",
            "   - O.L. Mangasarian, W.N. Street and W.H. Wolberg. Breast cancer diagnosis and \n",
            "     prognosis via linear programming. Operations Research, 43(4), pages 570-577, \n",
            "     July-August 1995.\n",
            "   - W.H. Wolberg, W.N. Street, and O.L. Mangasarian. Machine learning techniques\n",
            "     to diagnose breast cancer from fine-needle aspirates. Cancer Letters 77 (1994) \n",
            "     163-171.\n"
          ]
        }
      ],
      "source": [
        "breast_cancer_data = breast_cancer.data\n",
        "breast_cancer_label = breast_cancer.target\n",
        "print(breast_cancer.target_names) #target_names 출력 ['malignant' 'benign']\n",
        "print(breast_cancer.DESCR) #데이터 Describe"
      ]
    },
    {
      "cell_type": "markdown",
      "metadata": {},
      "source": [
        "## (4) train, test 데이터 분리  \n"
      ]
    },
    {
      "cell_type": "code",
      "execution_count": 95,
      "metadata": {},
      "outputs": [],
      "source": [
        "breast_cancer_df = pd.DataFrame(data = breast_cancer_data, columns = breast_cancer.feature_names)\n",
        "X_train, X_test, Y_train, Y_test = train_test_split(breast_cancer_data,\n",
        "                                                    breast_cancer_label,\n",
        "                                                    test_size = 0.2,\n",
        "                                                    random_state = 15)"
      ]
    },
    {
      "cell_type": "markdown",
      "metadata": {},
      "source": [
        "## (5) 다양한 모델로 학습시켜보기  \n"
      ]
    },
    {
      "cell_type": "markdown",
      "metadata": {},
      "source": [
        "### 모델 객체 생성  \n"
      ]
    },
    {
      "cell_type": "code",
      "execution_count": 96,
      "metadata": {},
      "outputs": [],
      "source": [
        "decision_tree = DecisionTreeClassifier(random_state = 13)\n",
        "random_forest = RandomForestClassifier(random_state = 13)\n",
        "svm = SVC(kernel = 'linear', C = 0.00005)\n",
        "sgd = SGDClassifier() \n",
        "# 이 분류모델의 파라미터값을 변경해가며 모델 성능을 끌어 올려보고 싶었으나...  \n",
        "# 아직은.. 이해가 안가는 부분이 많아 파라미터값은 비워둡니다.  \n",
        "logistic = LogisticRegression()"
      ]
    },
    {
      "cell_type": "markdown",
      "metadata": {},
      "source": [
        "### 모델 학습  \n"
      ]
    },
    {
      "cell_type": "code",
      "execution_count": 97,
      "metadata": {},
      "outputs": [
        {
          "name": "stderr",
          "output_type": "stream",
          "text": [
            "c:\\Python310\\lib\\site-packages\\sklearn\\linear_model\\_logistic.py:444: ConvergenceWarning: lbfgs failed to converge (status=1):\n",
            "STOP: TOTAL NO. of ITERATIONS REACHED LIMIT.\n",
            "\n",
            "Increase the number of iterations (max_iter) or scale the data as shown in:\n",
            "    https://scikit-learn.org/stable/modules/preprocessing.html\n",
            "Please also refer to the documentation for alternative solver options:\n",
            "    https://scikit-learn.org/stable/modules/linear_model.html#logistic-regression\n",
            "  n_iter_i = _check_optimize_result(\n"
          ]
        },
        {
          "data": {
            "text/html": [
              "<style>#sk-container-id-6 {color: black;background-color: white;}#sk-container-id-6 pre{padding: 0;}#sk-container-id-6 div.sk-toggleable {background-color: white;}#sk-container-id-6 label.sk-toggleable__label {cursor: pointer;display: block;width: 100%;margin-bottom: 0;padding: 0.3em;box-sizing: border-box;text-align: center;}#sk-container-id-6 label.sk-toggleable__label-arrow:before {content: \"▸\";float: left;margin-right: 0.25em;color: #696969;}#sk-container-id-6 label.sk-toggleable__label-arrow:hover:before {color: black;}#sk-container-id-6 div.sk-estimator:hover label.sk-toggleable__label-arrow:before {color: black;}#sk-container-id-6 div.sk-toggleable__content {max-height: 0;max-width: 0;overflow: hidden;text-align: left;background-color: #f0f8ff;}#sk-container-id-6 div.sk-toggleable__content pre {margin: 0.2em;color: black;border-radius: 0.25em;background-color: #f0f8ff;}#sk-container-id-6 input.sk-toggleable__control:checked~div.sk-toggleable__content {max-height: 200px;max-width: 100%;overflow: auto;}#sk-container-id-6 input.sk-toggleable__control:checked~label.sk-toggleable__label-arrow:before {content: \"▾\";}#sk-container-id-6 div.sk-estimator input.sk-toggleable__control:checked~label.sk-toggleable__label {background-color: #d4ebff;}#sk-container-id-6 div.sk-label input.sk-toggleable__control:checked~label.sk-toggleable__label {background-color: #d4ebff;}#sk-container-id-6 input.sk-hidden--visually {border: 0;clip: rect(1px 1px 1px 1px);clip: rect(1px, 1px, 1px, 1px);height: 1px;margin: -1px;overflow: hidden;padding: 0;position: absolute;width: 1px;}#sk-container-id-6 div.sk-estimator {font-family: monospace;background-color: #f0f8ff;border: 1px dotted black;border-radius: 0.25em;box-sizing: border-box;margin-bottom: 0.5em;}#sk-container-id-6 div.sk-estimator:hover {background-color: #d4ebff;}#sk-container-id-6 div.sk-parallel-item::after {content: \"\";width: 100%;border-bottom: 1px solid gray;flex-grow: 1;}#sk-container-id-6 div.sk-label:hover label.sk-toggleable__label {background-color: #d4ebff;}#sk-container-id-6 div.sk-serial::before {content: \"\";position: absolute;border-left: 1px solid gray;box-sizing: border-box;top: 0;bottom: 0;left: 50%;z-index: 0;}#sk-container-id-6 div.sk-serial {display: flex;flex-direction: column;align-items: center;background-color: white;padding-right: 0.2em;padding-left: 0.2em;position: relative;}#sk-container-id-6 div.sk-item {position: relative;z-index: 1;}#sk-container-id-6 div.sk-parallel {display: flex;align-items: stretch;justify-content: center;background-color: white;position: relative;}#sk-container-id-6 div.sk-item::before, #sk-container-id-6 div.sk-parallel-item::before {content: \"\";position: absolute;border-left: 1px solid gray;box-sizing: border-box;top: 0;bottom: 0;left: 50%;z-index: -1;}#sk-container-id-6 div.sk-parallel-item {display: flex;flex-direction: column;z-index: 1;position: relative;background-color: white;}#sk-container-id-6 div.sk-parallel-item:first-child::after {align-self: flex-end;width: 50%;}#sk-container-id-6 div.sk-parallel-item:last-child::after {align-self: flex-start;width: 50%;}#sk-container-id-6 div.sk-parallel-item:only-child::after {width: 0;}#sk-container-id-6 div.sk-dashed-wrapped {border: 1px dashed gray;margin: 0 0.4em 0.5em 0.4em;box-sizing: border-box;padding-bottom: 0.4em;background-color: white;}#sk-container-id-6 div.sk-label label {font-family: monospace;font-weight: bold;display: inline-block;line-height: 1.2em;}#sk-container-id-6 div.sk-label-container {text-align: center;}#sk-container-id-6 div.sk-container {/* jupyter's `normalize.less` sets `[hidden] { display: none; }` but bootstrap.min.css set `[hidden] { display: none !important; }` so we also need the `!important` here to be able to override the default hidden behavior on the sphinx rendered scikit-learn.org. See: https://github.com/scikit-learn/scikit-learn/issues/21755 */display: inline-block !important;position: relative;}#sk-container-id-6 div.sk-text-repr-fallback {display: none;}</style><div id=\"sk-container-id-6\" class=\"sk-top-container\"><div class=\"sk-text-repr-fallback\"><pre>LogisticRegression()</pre><b>In a Jupyter environment, please rerun this cell to show the HTML representation or trust the notebook. <br />On GitHub, the HTML representation is unable to render, please try loading this page with nbviewer.org.</b></div><div class=\"sk-container\" hidden><div class=\"sk-item\"><div class=\"sk-estimator sk-toggleable\"><input class=\"sk-toggleable__control sk-hidden--visually\" id=\"sk-estimator-id-6\" type=\"checkbox\" checked><label for=\"sk-estimator-id-6\" class=\"sk-toggleable__label sk-toggleable__label-arrow\">LogisticRegression</label><div class=\"sk-toggleable__content\"><pre>LogisticRegression()</pre></div></div></div></div></div>"
            ],
            "text/plain": [
              "LogisticRegression()"
            ]
          },
          "execution_count": 97,
          "metadata": {},
          "output_type": "execute_result"
        }
      ],
      "source": [
        "decision_tree.fit(X_train, Y_train)\n",
        "random_forest.fit(X_train, Y_train)\n",
        "svm.fit(X_train, Y_train)\n",
        "sgd.fit(X_train, Y_train)\n",
        "logistic.fit(X_train, Y_train)"
      ]
    },
    {
      "cell_type": "markdown",
      "metadata": {},
      "source": [
        "### 학습 데이터 예측  \n"
      ]
    },
    {
      "cell_type": "code",
      "execution_count": 98,
      "metadata": {},
      "outputs": [],
      "source": [
        "y_pred = decision_tree.predict(X_test)\n",
        "y_pred_r = random_forest.predict(X_test)\n",
        "y_pred_v = svm.predict(X_test)\n",
        "y_pred_s = sgd.predict(X_test)\n",
        "y_pred_l = logistic.predict(X_test)"
      ]
    },
    {
      "cell_type": "markdown",
      "metadata": {},
      "source": [
        "### 모델 평가 - 결정나무  \n"
      ]
    },
    {
      "cell_type": "code",
      "execution_count": 99,
      "metadata": {},
      "outputs": [],
      "source": [
        "classification = classification_report(Y_test, y_pred)\n",
        "confusion = confusion_matrix(Y_test, y_pred)\n",
        "accuracy = accuracy_score(Y_test, y_pred)\n",
        "recall = recall_score(Y_test, y_pred, average = 'macro')\n",
        "precision = precision_score(Y_test, y_pred, average = 'macro')\n",
        "fscore = f1_score(Y_test, y_pred, average = 'macro')"
      ]
    },
    {
      "cell_type": "markdown",
      "metadata": {},
      "source": [
        "### 호출  \n"
      ]
    },
    {
      "cell_type": "code",
      "execution_count": 100,
      "metadata": {},
      "outputs": [
        {
          "name": "stdout",
          "output_type": "stream",
          "text": [
            "유방암 여부(breast_cancer) 데이터\n"
          ]
        }
      ],
      "source": [
        "print('유방암 여부(breast_cancer) 데이터')"
      ]
    },
    {
      "cell_type": "markdown",
      "metadata": {},
      "source": [
        "----------------------------------------------------"
      ]
    },
    {
      "cell_type": "code",
      "execution_count": 101,
      "metadata": {},
      "outputs": [
        {
          "name": "stdout",
          "output_type": "stream",
          "text": [
            "결정나무(accuracy) : 93.8596\n",
            "결정나무(recall) : 92.2564\n",
            "결정나무(precision) : 94.0171\n",
            "결정나무(fscore) : 93.0458\n"
          ]
        }
      ],
      "source": [
        "# print('결정나무(classification : {0}'.format(classification))\n",
        "# print(confusion)\n",
        "print('결정나무(accuracy) : {0:.4f}'.format(accuracy * 100))\n",
        "#결정나무 : 93.8596\n",
        "\n",
        "print('결정나무(recall) : {0:.4f}'.format(recall * 100))\n",
        "#결정나무 : 92.2564\n",
        "\n",
        "print('결정나무(precision) : {0:.4f}'.format(precision * 100))\n",
        "#결정나무 : 94.0171\n",
        "\n",
        "print('결정나무(fscore) : {0:.4f}'.format(fscore * 100))\n",
        "#결정나무 : 93.0458"
      ]
    },
    {
      "cell_type": "markdown",
      "metadata": {},
      "source": [
        "----------------------------------------------------"
      ]
    },
    {
      "cell_type": "markdown",
      "metadata": {},
      "source": [
        "### 모델 평가 - 랜덤포레스트  \n"
      ]
    },
    {
      "cell_type": "code",
      "execution_count": 102,
      "metadata": {},
      "outputs": [],
      "source": [
        "classification_r = classification_report(Y_test, y_pred_r)\n",
        "confusion_r = confusion_matrix(Y_test, y_pred_r)\n",
        "accuracy_r = accuracy_score(Y_test, y_pred_r)\n",
        "recall_r = recall_score(Y_test, y_pred_r, average = 'macro')\n",
        "precision_r = precision_score(Y_test, y_pred_r, average = 'macro')\n",
        "fscore_r = f1_score(Y_test, y_pred_r, average = 'macro')"
      ]
    },
    {
      "cell_type": "markdown",
      "metadata": {},
      "source": [
        "### 호출  \n"
      ]
    },
    {
      "cell_type": "code",
      "execution_count": 103,
      "metadata": {},
      "outputs": [
        {
          "name": "stdout",
          "output_type": "stream",
          "text": [
            "랜덤포레스트(accuracy) : 92.1053\n",
            "랜덤포레스트(recall) : 90.3077\n",
            "랜덤포레스트(precision) : 91.9872\n",
            "랜덤포레스트(fscore) : 91.0588\n"
          ]
        }
      ],
      "source": [
        "# print('랜덤포레스트(classification : {0}'.format(classification_r))\n",
        "print('랜덤포레스트(accuracy) : {0:.4f}'.format(accuracy_r * 100))\n",
        "# #랜덤포레스트 : 92.1053\n",
        "\n",
        "print('랜덤포레스트(recall) : {0:.4f}'.format(recall_r * 100))\n",
        "#랜덤포레스트 : 90.3077\n",
        "\n",
        "print('랜덤포레스트(precision) : {0:.4f}'.format(precision_r * 100))\n",
        "#랜덤포레스트 : 91.9872\n",
        "\n",
        "print('랜덤포레스트(fscore) : {0:.4f}'.format(fscore_r * 100))\n",
        "#랜덤포레스트 : 91.0588"
      ]
    },
    {
      "cell_type": "markdown",
      "metadata": {},
      "source": [
        "----------------------------------------------------"
      ]
    },
    {
      "cell_type": "markdown",
      "metadata": {},
      "source": [
        "### 모델 평가 - SVM  \n"
      ]
    },
    {
      "cell_type": "code",
      "execution_count": 104,
      "metadata": {},
      "outputs": [],
      "source": [
        "classification_v = classification_report(Y_test, y_pred_v)\n",
        "confusion_v = confusion_matrix(Y_test, y_pred_v)\n",
        "accuracy_v = accuracy_score(Y_test, y_pred_v)\n",
        "recall_v = recall_score(Y_test, y_pred_v, average = 'macro')\n",
        "precision_v = precision_score(Y_test, y_pred_v, average = 'macro')\n",
        "fscore_v = f1_score(Y_test, y_pred_v, average = 'macro')"
      ]
    },
    {
      "cell_type": "markdown",
      "metadata": {},
      "source": [
        "### 호출  \n"
      ]
    },
    {
      "cell_type": "code",
      "execution_count": 105,
      "metadata": {},
      "outputs": [
        {
          "name": "stdout",
          "output_type": "stream",
          "text": [
            "SVM(accuracy) : 90.3509\n",
            "SVM(recall) : 88.3590\n",
            "SVM(precision) : 89.9573\n",
            "SVM(fscore) : 89.0719\n"
          ]
        }
      ],
      "source": [
        "# print('SVM(classification : {0}'.format(classification_r))\n",
        "print('SVM(accuracy) : {0:.4f}'.format(accuracy_v * 100))\n",
        "# #SVM : 89.4737\n",
        "\n",
        "print('SVM(recall) : {0:.4f}'.format(recall_v * 100))\n",
        "#SVM : 88.3077\n",
        "\n",
        "print('SVM(precision) : {0:.4f}'.format(precision_v * 100))\n",
        "#SVM : 88.3077\n",
        "\n",
        "print('SVM(fscore) : {0:.4f}'.format(fscore_v * 100))\n",
        "#SVM : 88.3077"
      ]
    },
    {
      "cell_type": "markdown",
      "metadata": {},
      "source": [
        "----------------------------------------------------"
      ]
    },
    {
      "cell_type": "markdown",
      "metadata": {},
      "source": [
        "### 모델 평가 - SGD  \n"
      ]
    },
    {
      "cell_type": "markdown",
      "metadata": {},
      "source": [
        "SGD의 결과값이 매번 바뀌는 이유:  \n",
        "-> 손실함수가 최솟값(=원하는 정제된 데이터)으로 갈때까지 불안정하게 움직이다보니  \n",
        "최적해(=최적화 데이터)에 도달하지 못할수도 있음  \n",
        "(지역 최솟값으론 빠르게 도달 가능하나, 전역 최솟값에는 다다르기 힘들 수 있음)  \n"
      ]
    },
    {
      "cell_type": "code",
      "execution_count": 106,
      "metadata": {},
      "outputs": [],
      "source": [
        "classification_s = classification_report(Y_test, y_pred_s)\n",
        "confusion_s = confusion_matrix(Y_test, y_pred_s)\n",
        "accuracy_s = accuracy_score(Y_test, y_pred_s)\n",
        "recall_s = recall_score(Y_test, y_pred_s, average = 'macro')\n",
        "precision_s = precision_score(Y_test, y_pred_s, average = 'macro')\n",
        "fscore_s = f1_score(Y_test, y_pred_s, average = 'macro')"
      ]
    },
    {
      "cell_type": "markdown",
      "metadata": {},
      "source": [
        "### 호출"
      ]
    },
    {
      "cell_type": "code",
      "execution_count": 107,
      "metadata": {},
      "outputs": [
        {
          "name": "stdout",
          "output_type": "stream",
          "text": [
            "SGD(accuracy) : 85.9649\n",
            "SGD(recall) : 81.9487\n",
            "SGD(precision) : 86.3195\n",
            "SGD(fscore) : 83.5081\n"
          ]
        }
      ],
      "source": [
        "# print('SGD(classification : {0}'.format(classification_s))\n",
        "print('SGD(accuracy) : {0:.4f}'.format(accuracy_s * 100))\n",
        "# #SGD : 87.7193\n",
        "\n",
        "print('SGD(recall) : {0:.4f}'.format(recall_s * 100))\n",
        "# #SGD : 84.5128\n",
        "\n",
        "print('SGD(precision) : {0:.4f}'.format(precision_s * 100))\n",
        "# #SGD : 87.7666\n",
        "\n",
        "print('SGD(fscore) : {0:.4f}'.format(fscore_s * 100))\n",
        "# #SGD : 85.7906"
      ]
    },
    {
      "cell_type": "markdown",
      "metadata": {},
      "source": [
        "----------------------------------------------------"
      ]
    },
    {
      "cell_type": "markdown",
      "metadata": {},
      "source": [
        "### 모델 평가 - Logistic  \n"
      ]
    },
    {
      "cell_type": "code",
      "execution_count": 108,
      "metadata": {},
      "outputs": [],
      "source": [
        "classification_l = classification_report(Y_test, y_pred_l)\n",
        "confusion_l = confusion_matrix(Y_test, y_pred_l)\n",
        "accuracy_l = accuracy_score(Y_test, y_pred_l)\n",
        "recall_l = recall_score(Y_test, y_pred_l, average = 'macro')\n",
        "precision_l = precision_score(Y_test, y_pred_l, average = 'macro')\n",
        "fscore_l = f1_score(Y_test, y_pred_l, average = 'macro')"
      ]
    },
    {
      "cell_type": "markdown",
      "metadata": {},
      "source": [
        "### 호출  \n"
      ]
    },
    {
      "cell_type": "code",
      "execution_count": 109,
      "metadata": {},
      "outputs": [
        {
          "name": "stdout",
          "output_type": "stream",
          "text": [
            "Logistic(accuracy) : 89.4737\n",
            "Logistic(recall) : 88.3077\n",
            "Logistic(precision) : 88.3077\n",
            "Logistic(fscore) : 88.3077\n"
          ]
        }
      ],
      "source": [
        "# print('Logistic(classification : {0}'.format(classification_l))\n",
        "print('Logistic(accuracy) : {0:.4f}'.format(accuracy_l * 100))\n",
        "# #logistic : 89.4737\n",
        "\n",
        "print('Logistic(recall) : {0:.4f}'.format(recall_l * 100))\n",
        "# #logistic : 88.3077\n",
        "\n",
        "print('Logistic(precision) : {0:.4f}'.format(precision_l * 100))\n",
        "# #logistic : 88.3077\n",
        "\n",
        "print('Logistic(fscore) : {0:.4f}'.format(fscore_l * 100))\n",
        "# #logistic : 88.3077"
      ]
    },
    {
      "cell_type": "markdown",
      "metadata": {},
      "source": [
        "----------------------------------------------------"
      ]
    },
    {
      "cell_type": "markdown",
      "metadata": {},
      "source": [
        "### 시각화  \n"
      ]
    },
    {
      "cell_type": "code",
      "execution_count": 110,
      "metadata": {},
      "outputs": [
        {
          "name": "stderr",
          "output_type": "stream",
          "text": [
            "C:\\Users\\ASUS\\AppData\\Local\\Temp\\ipykernel_10664\\2322191594.py:9: UserWarning: color is redundantly defined by the 'color' keyword argument and the fmt string \"bo-\" (-> color='b'). The keyword argument will take precedence.\n",
            "  plt.plot(e_x, e_v_r, 'bo-', color = 'green', label = 'Recall')\n",
            "C:\\Users\\ASUS\\AppData\\Local\\Temp\\ipykernel_10664\\2322191594.py:10: UserWarning: color is redundantly defined by the 'color' keyword argument and the fmt string \"bo-\" (-> color='b'). The keyword argument will take precedence.\n",
            "  plt.plot(e_x, e_v_s, 'bo-', color = 'y', label = 'Precision')\n",
            "C:\\Users\\ASUS\\AppData\\Local\\Temp\\ipykernel_10664\\2322191594.py:11: UserWarning: color is redundantly defined by the 'color' keyword argument and the fmt string \"bo-\" (-> color='b'). The keyword argument will take precedence.\n",
            "  plt.plot(e_x, e_v_l, 'bo-', color = 'red', label = 'F1_Score')\n"
          ]
        },
        {
          "data": {
            "image/png": "[encoded data removed]",
            "text/plain": [
              "<Figure size 1600x800 with 1 Axes>"
            ]
          },
          "metadata": {},
          "output_type": "display_data"
        }
      ],
      "source": [
        "e_x = ['Dicison_Tree', 'Random_Forest', 'SVM', 'SGD', 'Logistic']\n",
        "e_v = [accuracy * 100, accuracy_r * 100, accuracy_v * 100, accuracy_s * 100, accuracy_l * 100]\n",
        "e_v_r = [recall * 100, recall_r * 100, recall_v * 100, recall_s * 100, recall_l * 100]\n",
        "e_v_s = [precision * 100, precision_r * 100, precision_v * 100, precision_s * 100, precision_l * 100]\n",
        "e_v_l = [fscore * 100, fscore_r * 100, fscore_v * 100, fscore_s * 100, fscore_l * 100]\n",
        "\n",
        "plt.figure(figsize = (16, 8))\n",
        "plt.plot(e_x, e_v, 'bo-', label = 'Accuracy')\n",
        "plt.plot(e_x, e_v_r, 'bo-', color = 'green', label = 'Recall')\n",
        "plt.plot(e_x, e_v_s, 'bo-', color = 'y', label = 'Precision')\n",
        "plt.plot(e_x, e_v_l, 'bo-', color = 'red', label = 'F1_Score')\n",
        "plt.title('Evaluation Value By Model : breast_cancer')\n",
        "plt.xlabel('Machine Learning Model')\n",
        "plt.ylabel('Evaluation Index')\n",
        "plt.legend(loc = (0, 1.0))\n",
        "plt.show()"
      ]
    },
    {
      "cell_type": "markdown",
      "metadata": {},
      "source": [
        "## (6) 모델을 평가해 보기  \n"
      ]
    },
    {
      "cell_type": "markdown",
      "metadata": {},
      "source": [
        "4가지의 분류모델에서 평균적으로 accuracy 값이 더 높게 나온게 확인되었습니다.  \n",
        "실제로 Target_name 에서만 봤을때에도[malignant- 악의있는(유방암 여부o) /benign - 온화한(유방암 여부x)]  \n",
        "라는 내용으로 확인됐으며 데이터자체로도 어떠한 평가지표보다 직접적인 정확도 평가지표가  \n",
        "가장 중요한 데이터였으며(데이터 명칭부터 유방암 여부[True or False])  \n",
        "실제로도 accuracy 평가값이 가장 높게 나온것을 확인할 수 있었습니다.  \n",
        "  \n",
        "  \n",
        "정확도 : 예측이 정답과 얼마나 정확한가?  \n",
        "정밀도 : 예측한 것중에 정답의 비율은?  \n",
        "재현율 : 찾아야 할 것중에 실제로 찾은 비율은?  \n",
        "[F1 Score : 정밀도와 재현율의 평균](https://sumniya.tistory.com/26)  \n",
        "  \n"
      ]
    },
    {
      "cell_type": "markdown",
      "metadata": {},
      "source": [
        "## 참고문헌 Reference  \n"
      ]
    },
    {
      "cell_type": "markdown",
      "metadata": {},
      "source": [
        "1. [Classification  - 모델 평가 : precision_score(정밀도), recall_score(재현율), f1_score](https://steadiness-193.tistory.com/267)  \n",
        "2. [머신러닝 다중 분류 모델 성능평가에서 f1,recall,roc,auc 사용하기](https://magicode.tistory.com/38)  \n",
        "3. [매크로 평균(Macro-average) vs 마이크로 평균(Micro-average)](https://junklee.tistory.com/116)  \n",
        "4. [서포트 벡터 머신(Support Vector Machine) 쉽게 이해하기](https://hleecaster.com/ml-svm-concept/)  \n",
        "5. [matplotlib.pyplot 에 대한 자세한 사용법 (이수연님의 링크)](https://wikidocs.net/92085)  \n",
        "6. [나융퍼실님의 시각화 관련 도움되는 참고자료 (저장이 안되어서 나머진 날아갔어요...ㅜㅜ 죄송합니다)]  \n",
        "   [플롯유형](https://matplotlib.org/stable/plot_types/index)  \n",
        "   [결정나무 시각화](https://rfriend.tistory.com/419)  \n",
        "   [Bar plot](https://matplotlib.org/stable/gallery/index.html)  \n",
        "7. [DecisionTree 구현 및 hyper parameter 설정](https://continuous-development.tistory.com/173)  \n",
        "8. [분류성능평가지표 - Precision(정밀도), Recall(재현율) and Accuracy(정확도)](https://sumniya.tistory.com/26)  \n",
        "9. [ML_사이킷런 클래스 SGDClassifier : 선형분류](https://codingsmu.tistory.com/97)  \n",
        "  \n"
      ]
    },
    {
      "cell_type": "markdown",
      "metadata": {},
      "source": [
        "## 회고  \n"
      ]
    },
    {
      "cell_type": "markdown",
      "metadata": {},
      "source": [
        "이번 프로젝트를 진행하면서 아쉬운점이 많았습니다.  \n",
        "  \n",
        "1. 손글씨 데이터(digits)  \n",
        "손글씨 데이터(digits)의 경우 이미지로 되어있는걸 확인하여 이미지의 픽셀값을 활용해서  \n",
        "더 정확하게 비교분석 해보고 싶었으나... 아직은 실력이 많이 부족하여 기존 데이터분류와 크게 벗어나지 않는  \n",
        "방식에서 모델별로 학습을 시킨 뒤 평가지표 확인 그리고 시각화 에서 이번 프로젝트를 마쳤으며  \n",
        "여러가지 사용할 수 있는 데이터가 있음에도 사용하지 못한 부분에 대해서는 나중에 가서라도  \n",
        "꼭 이용하고 싶다는 생각을 하게끔 만든 데이터셋이었습니다. (이미지를 활용하는 방법과 시각화 하는 방법에 대해서  \n",
        "가장 시간을 많이 쓴 데이터셋이며 시각화는 아직은 미흡하지만 생각했던만큼 진행이 됐으나 이미지활용법에 대해선  \n",
        "전혀 진전이 없었으며.. 기회가 된다면 나중에 꼭 다시 다뤄보고 싶은 데이터셋이라고 생각듭니다.)  \n",
        "  \n",
        "2. 와인분류 데이터(wine)  \n",
        "손글씨 데이터에서 시간을 많이 소모해서 자세하게 뜯어보지 못한 데이터셋입니다.  \n",
        "(3번에서 나올 유방암여부 데이터셋도 동일...)  \n",
        "그리고 평가모델중에 SGD 의 값이 세가지 데이터셋중에 평가지표값이 제일 들쑥날쑥했으며  \n",
        "SGD 모델에 대해서 여러가지를 찾아보게끔 해줬던 데이터셋입니다. 결과적으론 해결하지 못하고 넘어간 부분이고  \n",
        "아직까지도 그 이유에 대해서는 이해를 하질 못하고 있으며 SGD 모델의 파라미터값에 대해서  \n",
        "어떤식으로 튜닝을 해야하는지 더 찾아봐야겠다고 느끼게 해줬던 데이터셋이었습니다.  \n",
        "  \n",
        "3. 유방암 여부 데이터(breast_cancer)  \n",
        "데이터셋을 확인할때 Target_name 을 print 했을 때 나온 ['malignant', 'benign'] 을 보고  \n",
        "진행했던 세가지 프로젝트 중 어떤 모델을 쓰는게 더 데이터셋을 잘 활용하는것이며  \n",
        "평가지표값이 어떤게 나와야 더 좋겠구나 라고 확신을 줬던 데이터셋이었습니다.  \n",
        "실제 모델에 결과값에 대해서도 생각하고 있었던 Decision_tree 에 대한 모델값이 제일 높게 나왔고  \n",
        "(유방암 여부는 데이터셋을 비교하여 True/False 정확하게 나눠야기에 Decision_tree 를 생각하고 있었습니다)  \n",
        "모델 평가지표값을 비교해서 봤을때도 accuracy 값이 가장 높게 나왔었으며  \n",
        "(SGD 모델값에 대해선 평가지표값 마저 들쑥날쑥하여 논외)  \n",
        "데이터셋에 대해서 어느정도 이해를 하고 있었다고 개인적으로 느끼게 해준 데이터셋이었습니다.  \n",
        "  \n",
        "마지막으로 지금까지 공부해왔던 내용에 대해서 어느정도 이해를 하고 넘어갔다고 생각을 하고 있었으나  \n",
        "직접 프로젝트를 진행해봄으로써 이해하고 있다고 생각했던 내용의 절반 이상은 제대로 이해하고 있었던것이  \n",
        "아니었으며 프로젝트 진행에도 이전 LMS 열어 확인 후 진행+구글링 검색으로 겨우겨우 완성? 시킨것을 보면  \n",
        "아직 공부할길이 멀다고 느끼게 해준 첫 프로젝트였습니다.  \n",
        "그러나 이번 프로젝트에서 느낀 가장 큰것은 각 데이터마다 어떤식으로 분류하고 활용해야하며  \n",
        "분류했던 데이터를 시각화 작업을 통해서 눈으로 보기 쉽게끔 만드는것이 얼마나 중요한지를 알게 됐습니다.  \n",
        "(직접적으로 눈으로 보면서 모델별 평가지표값을 비교할 수 있어서 좋았습니다.[SGD 모델 빼고...])  \n",
        "이제 앞으로 공부해야할 내용이 지금보다 훨씬 더 많아지겠지만 개인적인 욕심으로  \n",
        "이번 프로젝트보다 훨씬 더 발전된 방향으로 다음 프로젝트를 완성시키고 싶다고 느끼게 해준 첫 프로젝트였으며  \n",
        "나중에 꼭 다시 한번 더 동일한 데이터셋으로 모델의 튜닝 및 시각화를 진행해야겠다 생각하며  \n",
        "저의 첫 프로젝트에 대한 회고를 이상으로 마무리 하겠습니다.  \n",
        "  \n",
        "첫 프로젝트를 마무리 할 수 있게 도와주신 퍼실님, 그리고 그루분들에게 감사인사드립니다."
      ]
    }
  ],
  "metadata": {
    "anaconda-cloud": {},
    "kernelspec": {
      "display_name": "Python 3.10.8 64-bit",
      "language": "python",
      "name": "python3"
    },
    "language_info": {
      "codemirror_mode": {
        "name": "ipython",
        "version": 3
      },
      "file_extension": ".py",
      "mimetype": "text/x-python",
      "name": "python",
      "nbconvert_exporter": "python",
      "pygments_lexer": "ipython3",
      "version": "3.10.8"
    },
    "vscode": {
      "interpreter": {
        "hash": "369f2c481f4da34e4445cda3fffd2e751bd1c4d706f27375911949ba6bb62e1c"
      }
    }
  },
  "nbformat": 4,
  "nbformat_minor": 4
}
